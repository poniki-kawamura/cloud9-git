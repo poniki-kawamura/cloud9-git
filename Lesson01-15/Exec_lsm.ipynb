{
 "cells": [
  {
   "cell_type": "code",
   "execution_count": 7,
   "metadata": {},
   "outputs": [
    {
     "data": {
      "text/plain": [
       "<matplotlib.legend.Legend at 0x7f14fed73940>"
      ]
     },
     "execution_count": 7,
     "metadata": {},
     "output_type": "execute_result"
    },
    {
     "data": {
      "image/png": "[encoded data removed]",
      "text/plain": [
       "<Figure size 432x288 with 1 Axes>"
      ]
     },
     "metadata": {
      "needs_background": "light"
     },
     "output_type": "display_data"
    }
   ],
   "source": [
    "#インポート\n",
    "%matplotlib inline\n",
    "import matplotlib.pyplot as plt\n",
    "import numpy as np\n",
    "\n",
    "#データ定義\n",
    "english = np.array([62, 95, 83, 100, 72, 71, 55, 85, 67, 75])\n",
    "math = np.array([62, 80, 85, 95, 58, 76, 52, 84, 67, 71])\n",
    "\n",
    "#englishとmathの近似直線の式作成と直線の作成\n",
    "p = np.polyfit(english, math, 1)\n",
    "f = np.poly1d(p)\n",
    "\n",
    "#散布図、近似直線、凡例を描画\n",
    "plt.scatter(english, math, label = \"score\", color = \"b\")\n",
    "plt.plot(english, f(english), label = \"Ism\", color = \"r\")\n",
    "plt.legend(loc  = \"upper left\")"
   ]
  },
  {
   "cell_type": "code",
   "execution_count": null,
   "metadata": {},
   "outputs": [],
   "source": []
  }
 ],
 "metadata": {
  "kernelspec": {
   "display_name": "Python 3",
   "language": "python",
   "name": "python3"
  },
  "language_info": {
   "codemirror_mode": {
    "name": "ipython",
    "version": 3
   },
   "file_extension": ".py",
   "mimetype": "text/x-python",
   "name": "python",
   "nbconvert_exporter": "python",
   "pygments_lexer": "ipython3",
   "version": "3.8.3"
  }
 },
 "nbformat": 4,
 "nbformat_minor": 4
}
