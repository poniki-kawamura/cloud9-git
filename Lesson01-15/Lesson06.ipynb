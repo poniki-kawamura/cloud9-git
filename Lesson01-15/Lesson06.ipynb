{
 "cells": [
  {
   "cell_type": "code",
   "execution_count": 1,
   "metadata": {},
   "outputs": [
    {
     "name": "stdin",
     "output_type": "stream",
     "text": [
      "スポーツの名前を入力： baseball\n",
      "スポーツの名前を入力： soccer\n",
      "スポーツの名前を入力： golf\n",
      "スポーツの名前を入力： volleyball\n",
      "スポーツの名前を入力： tennis\n",
      "スポーツの名前を入力： \n"
     ]
    },
    {
     "name": "stdout",
     "output_type": "stream",
     "text": [
      "baseball\n",
      "soccer\n",
      "golf\n",
      "volleyball\n",
      "tennis\n",
      "以上です\n"
     ]
    }
   ],
   "source": [
    "sports = []\n",
    "\n",
    "# リストへ登録\n",
    "while True:\n",
    "    s = input(\"スポーツの名前を入力：\")\n",
    "\n",
    "    if s == \"\":\n",
    "        break\n",
    "\n",
    "    sports.append(s)\n",
    "\n",
    "# リストから1件ずつ表示\n",
    "for s in sports:\n",
    "    print(s)\n",
    "\n",
    "print(\"以上です\")"
   ]
  },
  {
   "cell_type": "code",
   "execution_count": null,
   "metadata": {},
   "outputs": [],
   "source": []
  }
 ],
 "metadata": {
  "kernelspec": {
   "display_name": "Python 3",
   "language": "python",
   "name": "python3"
  },
  "language_info": {
   "codemirror_mode": {
    "name": "ipython",
    "version": 3
   },
   "file_extension": ".py",
   "mimetype": "text/x-python",
   "name": "python",
   "nbconvert_exporter": "python",
   "pygments_lexer": "ipython3",
   "version": "3.8.3"
  }
 },
 "nbformat": 4,
 "nbformat_minor": 4
}
