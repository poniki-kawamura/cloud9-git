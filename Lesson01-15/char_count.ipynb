{
 "cells": [
  {
   "cell_type": "code",
   "execution_count": 49,
   "metadata": {},
   "outputs": [
    {
     "name": "stdin",
     "output_type": "stream",
     "text": [
      "英単語を入力してください： aaa\n",
      "英単語を入力してください： baystars\n",
      "英単語を入力してください： tigers\n",
      "英単語を入力してください： giants\n",
      "英単語を入力してください： carp\n",
      "英単語を入力してください： dragons\n",
      "英単語を入力してください： swalloes\n",
      "英単語を入力してください： \n"
     ]
    },
    {
     "name": "stdout",
     "output_type": "stream",
     "text": [
      "入力した英単語：['aaa', 'baystars', 'carp', 'dragons', 'giants', 'swalloes', 'tigers']\n",
      "aが9個ありました\n",
      "bが1個ありました\n",
      "cが1個ありました\n",
      "dが1個ありました\n",
      "eが2個ありました\n",
      "gが3個ありました\n",
      "iが2個ありました\n",
      "lが2個ありました\n",
      "nが2個ありました\n",
      "oが2個ありました\n",
      "pが1個ありました\n",
      "rが4個ありました\n",
      "sが7個ありました\n",
      "tが3個ありました\n",
      "wが1個ありました\n",
      "yが1個ありました\n"
     ]
    }
   ],
   "source": [
    "#英単語リスト作成\n",
    "words = list()\n",
    "#辞書作成\n",
    "char_count = dict.fromkeys(\"abcdefghijklmnopqrstuvwxyz\",0)\n",
    "\n",
    "#英単語が空欄でない限りインプット続ける\n",
    "while True:\n",
    "    word = input(\"英単語を入力してください：\")\n",
    "    if word != \"\":\n",
    "        #wordsに入力した単語を追加\n",
    "        words.append(word)\n",
    "        #英単語を文字に変換\n",
    "        char = list(word)\n",
    "        #文字の数だけ繰り返し\n",
    "        for i in range(0,len(char)):\n",
    "            #該当する文字のところに数字を１増やす\n",
    "            char_count[char[i]] += 1\n",
    "        continue\n",
    "    #空欄が入力されたら繰り返し終わり\n",
    "    else:\n",
    "        break\n",
    "\n",
    "#英単語のソート\n",
    "words.sort()\n",
    "#入力した単語を表示、wordsはリストのためstrでキャスト\n",
    "print(\"入力した英単語：\" + str(words))\n",
    "#chars(英語文字)をaから順に繰り返し\n",
    "for chars in char_count.keys():\n",
    "    #辞書で該当する文字に付随する数値が0でない場合、下記文章を表示\n",
    "    if char_count[chars] != 0:\n",
    "        print(chars + \"が\" + str(char_count[chars]) + \"個ありました\")"
   ]
  },
  {
   "cell_type": "code",
   "execution_count": null,
   "metadata": {},
   "outputs": [],
   "source": []
  }
 ],
 "metadata": {
  "kernelspec": {
   "display_name": "Python 3",
   "language": "python",
   "name": "python3"
  },
  "language_info": {
   "codemirror_mode": {
    "name": "ipython",
    "version": 3
   },
   "file_extension": ".py",
   "mimetype": "text/x-python",
   "name": "python",
   "nbconvert_exporter": "python",
   "pygments_lexer": "ipython3",
   "version": "3.8.3"
  }
 },
 "nbformat": 4,
 "nbformat_minor": 4
}
