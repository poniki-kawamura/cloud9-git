{
 "cells": [
  {
   "cell_type": "code",
   "execution_count": 15,
   "metadata": {},
   "outputs": [
    {
     "name": "stdin",
     "output_type": "stream",
     "text": [
      "点数を入力してください： ９９\n",
      "点数を入力してください： ９２\n",
      "点数を入力してください： -1\n"
     ]
    },
    {
     "name": "stdout",
     "output_type": "stream",
     "text": [
      "2 人のテストの平均点は 95.5 点です\n"
     ]
    }
   ],
   "source": [
    "i = 0\n",
    "score = 0\n",
    "sum_score = 0\n",
    "\n",
    "while True:\n",
    "    i += 1\n",
    "    score = input(\"点数を入力してください：\")    \n",
    "    sum_score += int(score)\n",
    "    \n",
    "    if score == str(-1):\n",
    "        break\n",
    "        \n",
    "i -= 1\n",
    "sum_score += 1\n",
    "average_score = sum_score / i\n",
    "print(i,\"人のテストの平均点は\",str(average_score),\"点です\")"
   ]
  },
  {
   "cell_type": "code",
   "execution_count": null,
   "metadata": {},
   "outputs": [],
   "source": []
  }
 ],
 "metadata": {
  "kernelspec": {
   "display_name": "Python 3",
   "language": "python",
   "name": "python3"
  },
  "language_info": {
   "codemirror_mode": {
    "name": "ipython",
    "version": 3
   },
   "file_extension": ".py",
   "mimetype": "text/x-python",
   "name": "python",
   "nbconvert_exporter": "python",
   "pygments_lexer": "ipython3",
   "version": "3.8.3"
  }
 },
 "nbformat": 4,
 "nbformat_minor": 4
}
