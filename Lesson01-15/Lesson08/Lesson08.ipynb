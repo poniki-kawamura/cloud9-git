{
 "cells": [
  {
   "cell_type": "code",
   "execution_count": 1,
   "metadata": {},
   "outputs": [
    {
     "name": "stdout",
     "output_type": "stream",
     "text": [
      "Hello!\n",
      "It is a fine today!!\n",
      "Good morning!\n",
      "Have a nice today!!\n"
     ]
    }
   ],
   "source": [
    "def hello():\n",
    "    print(\"Hello!\")\n",
    "    print(\"It is a fine today!!\")\n",
    "\n",
    "def good_morning():\n",
    "    print(\"Good morning!\")\n",
    "    print(\"Have a nice today!!\")\n",
    "\n",
    "hello()\n",
    "good_morning()"
   ]
  },
  {
   "cell_type": "code",
   "execution_count": 2,
   "metadata": {},
   "outputs": [],
   "source": [
    "import health"
   ]
  },
  {
   "cell_type": "code",
   "execution_count": 3,
   "metadata": {},
   "outputs": [
    {
     "name": "stdout",
     "output_type": "stream",
     "text": [
      "<class 'module'>\n"
     ]
    }
   ],
   "source": [
    "print(type(health))"
   ]
  },
  {
   "cell_type": "code",
   "execution_count": 4,
   "metadata": {},
   "outputs": [
    {
     "name": "stdout",
     "output_type": "stream",
     "text": [
      "<module 'health' from '/home/ubuntu/environment/Lesson08/health.py'>\n"
     ]
    }
   ],
   "source": [
    "print(health)"
   ]
  },
  {
   "cell_type": "code",
   "execution_count": 8,
   "metadata": {},
   "outputs": [
    {
     "name": "stdin",
     "output_type": "stream",
     "text": [
      "身長(m)を入力してください： 1.7\n",
      "体重(kg)を入力してください： 70.1\n"
     ]
    },
    {
     "name": "stdout",
     "output_type": "stream",
     "text": [
      "BMI値：24.3\n",
      "標準体重：63.6kg\n"
     ]
    }
   ],
   "source": [
    "height = float(input(\"身長(m)を入力してください：\"))\n",
    "weight = float(input(\"体重(kg)を入力してください：\"))\n",
    "\n",
    "my_bmi = health.bmi(height, weight)\n",
    "my_standard_weight = health.standard_weight(height)\n",
    "\n",
    "print(f\"BMI値：{my_bmi:.1f}\")\n",
    "print(f\"標準体重：{my_standard_weight:.1f}kg\")"
   ]
  },
  {
   "cell_type": "code",
   "execution_count": 9,
   "metadata": {},
   "outputs": [
    {
     "name": "stdin",
     "output_type": "stream",
     "text": [
      "身長(m)を入力してください： 1.7\n",
      "体重(kg)を入力してください： 70.1\n"
     ]
    },
    {
     "name": "stdout",
     "output_type": "stream",
     "text": [
      "BMI値：24.3\n"
     ]
    }
   ],
   "source": [
    "from health import bmi\n",
    "\n",
    "height = float(input(\"身長(m)を入力してください：\"))\n",
    "weight = float(input(\"体重(kg)を入力してください：\"))\n",
    "\n",
    "my_bmi = bmi(height, weight)\n",
    "\n",
    "print(f\"BMI値：{my_bmi:.1f}\")"
   ]
  },
  {
   "cell_type": "code",
   "execution_count": 10,
   "metadata": {},
   "outputs": [
    {
     "name": "stdin",
     "output_type": "stream",
     "text": [
      "身長(m)を入力してください： 1.7\n",
      "体重(kg)を入力してください： 70.1\n"
     ]
    },
    {
     "name": "stdout",
     "output_type": "stream",
     "text": [
      "BMI値：24.3\n",
      "標準体重：63.6kg\n"
     ]
    }
   ],
   "source": [
    "import health as h\n",
    "\n",
    "height = float(input(\"身長(m)を入力してください：\"))\n",
    "weight = float(input(\"体重(kg)を入力してください：\"))\n",
    "\n",
    "my_bmi = h.bmi(height, weight)\n",
    "my_standard_weight = h.standard_weight(height)\n",
    "\n",
    "print(f\"BMI値：{my_bmi:.1f}\")\n",
    "print(f\"標準体重：{my_standard_weight:.1f}kg\")"
   ]
  },
  {
   "cell_type": "code",
   "execution_count": 11,
   "metadata": {},
   "outputs": [
    {
     "name": "stdin",
     "output_type": "stream",
     "text": [
      "身長(m)を入力してください： 1.7\n",
      "体重(kg)を入力してください： 70.1\n"
     ]
    },
    {
     "name": "stdout",
     "output_type": "stream",
     "text": [
      "BMI値：24.3\n"
     ]
    }
   ],
   "source": [
    "from health import bmi as b\n",
    "\n",
    "height = float(input(\"身長(m)を入力してください：\"))\n",
    "weight = float(input(\"体重(kg)を入力してください：\"))\n",
    "\n",
    "my_bmi = b(height, weight)\n",
    "\n",
    "print(f\"BMI値：{my_bmi:.1f}\")"
   ]
  },
  {
   "cell_type": "code",
   "execution_count": 12,
   "metadata": {},
   "outputs": [
    {
     "name": "stdout",
     "output_type": "stream",
     "text": [
      "6\n",
      "5\n"
     ]
    }
   ],
   "source": [
    "import math\n",
    "\n",
    "a = 5.4\n",
    "\n",
    "print(math.ceil(a))\n",
    "print(math.floor(a))"
   ]
  },
  {
   "cell_type": "code",
   "execution_count": 13,
   "metadata": {},
   "outputs": [
    {
     "name": "stdout",
     "output_type": "stream",
     "text": [
      "2020-12-15 11:21:07.653062+09:00\n"
     ]
    }
   ],
   "source": [
    "from datetime import datetime, timedelta, timezone\n",
    "\n",
    "jst = timezone(timedelta(hours=+9), 'JST')\n",
    "\n",
    "now_dtm = datetime.now(jst)\n",
    "\n",
    "print(now_dtm)"
   ]
  },
  {
   "cell_type": "code",
   "execution_count": 14,
   "metadata": {},
   "outputs": [
    {
     "name": "stdout",
     "output_type": "stream",
     "text": [
      "2019-05-25 09:41:36\n"
     ]
    }
   ],
   "source": [
    "jst = timezone(timedelta(hours=+9), 'JST')\n",
    "\n",
    "dtm_str = \"2019-05-25 09:41:36\"\n",
    "dtm = datetime.strptime(dtm_str, \"%Y-%m-%d %H:%M:%S\")\n",
    "\n",
    "print(dtm)"
   ]
  },
  {
   "cell_type": "code",
   "execution_count": 15,
   "metadata": {},
   "outputs": [
    {
     "name": "stdout",
     "output_type": "stream",
     "text": [
      "2019-06-01 09:41:36\n"
     ]
    }
   ],
   "source": [
    "print(dtm + timedelta(weeks=1))"
   ]
  },
  {
   "cell_type": "code",
   "execution_count": 16,
   "metadata": {},
   "outputs": [
    {
     "name": "stdout",
     "output_type": "stream",
     "text": [
      "<!DOCTYPE html><html><head><meta charset=\"utf-8\" /><meta content=\"IE=edge\" http-equiv=\"X-UA-Compatible\" />\n",
      "<script>window.NREUM||(NREUM={});NREUM.info={\"beacon\":\"bam.nr-data.net\",\"errorBeacon\":\"bam.nr-data.net\",\"licenseKey\":\"99cbb1e775\",\"applicationID\":\"10272701\",\"transactionName\":\"IFZYREMLXFhSRh9eWQ5cGVlfAFVM\",\"queueTime\":0,\"applicationTime\":107,\"agent\":\"\"}</script>\n",
      "<script>(window.NREUM||(NREUM={})).loader_config={licenseKey:\"99cbb1e775\",applicationID:\"10272701\"};window.NREUM||(NREUM={}),__nr_require=function(e,t,n){function r(n){if(!t[n]){var i=t[n]={exports:{}};e[n][0].call(i.exports,function(t){var i=e[n][1][t];return r(i||t)},i,i.exports)}return t[n].exports}if(\"function\"==typeof __nr_require)return __nr_require;for(var i=0;i<n.length;i++)r(n[i]);return r}({1:[function(e,t,n){function r(){}function i(e,t,n){return function(){return o(e,[u.now()].concat(c(arguments)),t?null:this,n),t?void 0:this}}var o=e(\"handle\"),a=e(6),c=e(7),f=e(\"ee\").get(\"tracer\"),u=e(\"loader\"),s=NREUM;\"undefined\"==typeof window.newrelic&&(newrelic=s);var d=[\"setPageViewName\",\"setCustomAttribute\",\"setErrorHandler\",\"finished\",\"addToTrace\",\"inlineHit\",\"addRelease\"],p=\"api-\",l=p+\"ixn-\";a(d,function(e,t){s[t]=i(p+t,!0,\"api\")}),s.addPageAction=i(p+\"addPageAction\",!0),s.setCurrentRouteName=i(p+\"routeName\",!0),t.exports=newrelic,s.interaction=function(){return(new r).get()};var m=r.prototype={createTracer:function(e,t){var n={},r=this,i=\"function\"==typeof t;return o(l+\"tracer\",[u.now(),e,n],r),function(){if(f.emit((i?\"\":\"no-\")+\"fn-start\",[u.now(),r,i],n),i)try{return t.apply(this,arguments)}catch(e){throw f.emit(\"fn-err\",[arguments,this,e],n),e}finally{f.emit(\"fn-end\",[u.now()],n)}}}};a(\"actionText,setName,setAttribute,save,ignore,onEnd,getContext,end,get\".split(\",\"),function(e,t){m[t]=i(l+t)}),newrelic.noticeError=function(e,t){\"string\"==typeof e&&(e=new Error(e)),o(\"err\",[e,u.now(),!1,t])}},{}],2:[function(e,t,n){function r(){return c.exists&&performance.now?Math.round(performance.now()):(o=Math.max((new Date).getTime(),o))-a}function i(){return o}var o=(new Date).getTime(),a=o,c=e(8);t.exports=r,t.exports.offset=a,t.exports.getLastTimestamp=i},{}],3:[function(e,t,n){function r(e,t){var n=e.getEntries();n.forEach(function(e){\"first-paint\"===e.name?d(\"timing\",[\"fp\",Math.floor(e.startTime)]):\"first-contentful-paint\"===e.name&&d(\"timing\",[\"fcp\",Math.floor(e.startTime)])})}function i(e,t){var n=e.getEntries();n.length>0&&d(\"lcp\",[n[n.length-1]])}function o(e){e.getEntries().forEach(function(e){e.hadRecentInput||d(\"cls\",[e])})}function a(e){if(e instanceof m&&!g){var t=Math.round(e.timeStamp),n={type:e.type};t<=p.now()?n.fid=p.now()-t:t>p.offset&&t<=Date.now()?(t-=p.offset,n.fid=p.now()-t):t=p.now(),g=!0,d(\"timing\",[\"fi\",t,n])}}function c(e){d(\"pageHide\",[p.now(),e])}if(!(\"init\"in NREUM&&\"page_view_timing\"in NREUM.init&&\"enabled\"in NREUM.init.page_view_timing&&NREUM.init.page_view_timing.enabled===!1)){var f,u,s,d=e(\"handle\"),p=e(\"loader\"),l=e(5),m=NREUM.o.EV;if(\"PerformanceObserver\"in window&&\"function\"==typeof window.PerformanceObserver){f=new PerformanceObserver(r);try{f.observe({entryTypes:[\"paint\"]})}catch(v){}u=new PerformanceObserver(i);try{u.observe({entryTypes:[\"largest-contentful-paint\"]})}catch(v){}s=new PerformanceObserver(o);try{s.observe({type:\"layout-shift\",buffered:!0})}catch(v){}}if(\"addEventListener\"in document){var g=!1,y=[\"click\",\"keydown\",\"mousedown\",\"pointerdown\",\"touchstart\"];y.forEach(function(e){document.addEventListener(e,a,!1)})}l(c)}},{}],4:[function(e,t,n){function r(e,t){if(!i)return!1;if(e!==i)return!1;if(!t)return!0;if(!o)return!1;for(var n=o.split(\".\"),r=t.split(\".\"),a=0;a<r.length;a++)if(r[a]!==n[a])return!1;return!0}var i=null,o=null,a=/Version\\/(\\S+)\\s+Safari/;if(navigator.userAgent){var c=navigator.userAgent,f=c.match(a);f&&c.indexOf(\"Chrome\")===-1&&c.indexOf(\"Chromium\")===-1&&(i=\"Safari\",o=f[1])}t.exports={agent:i,version:o,match:r}},{}],5:[function(e,t,n){function r(e){function t(){e(a&&document[a]?document[a]:document[i]?\"hidden\":\"visible\")}\"addEventListener\"in document&&o&&document.addEventListener(o,t,!1)}t.exports=r;var i,o,a;\"undefined\"!=typeof document.hidden?(i=\"hidden\",o=\"visibilitychange\",a=\"visibilityState\"):\"undefined\"!=typeof document.msHidden?(i=\"msHidden\",o=\"msvisibilitychange\"):\"undefined\"!=typeof document.webkitHidden&&(i=\"webkitHidden\",o=\"webkitvisibilitychange\",a=\"webkitVisibilityState\")},{}],6:[function(e,t,n){function r(e,t){var n=[],r=\"\",o=0;for(r in e)i.call(e,r)&&(n[o]=t(r,e[r]),o+=1);return n}var i=Object.prototype.hasOwnProperty;t.exports=r},{}],7:[function(e,t,n){function r(e,t,n){t||(t=0),\"undefined\"==typeof n&&(n=e?e.length:0);for(var r=-1,i=n-t||0,o=Array(i<0?0:i);++r<i;)o[r]=e[t+r];return o}t.exports=r},{}],8:[function(e,t,n){t.exports={exists:\"undefined\"!=typeof window.performance&&window.performance.timing&&\"undefined\"!=typeof window.performance.timing.navigationStart}},{}],ee:[function(e,t,n){function r(){}function i(e){function t(e){return e&&e instanceof r?e:e?f(e,c,o):o()}function n(n,r,i,o){if(!p.aborted||o){e&&e(n,r,i);for(var a=t(i),c=v(n),f=c.length,u=0;u<f;u++)c[u].apply(a,r);var d=s[w[n]];return d&&d.push([b,n,r,a]),a}}function l(e,t){h[e]=v(e).concat(t)}function m(e,t){var n=h[e];if(n)for(var r=0;r<n.length;r++)n[r]===t&&n.splice(r,1)}function v(e){return h[e]||[]}function g(e){return d[e]=d[e]||i(n)}function y(e,t){u(e,function(e,n){t=t||\"feature\",w[n]=t,t in s||(s[t]=[])})}var h={},w={},b={on:l,addEventListener:l,removeEventListener:m,emit:n,get:g,listeners:v,context:t,buffer:y,abort:a,aborted:!1};return b}function o(){return new r}function a(){(s.api||s.feature)&&(p.aborted=!0,s=p.backlog={})}var c=\"nr@context\",f=e(\"gos\"),u=e(6),s={},d={},p=t.exports=i();p.backlog=s},{}],gos:[function(e,t,n){function r(e,t,n){if(i.call(e,t))return e[t];var r=n();if(Object.defineProperty&&Object.keys)try{return Object.defineProperty(e,t,{value:r,writable:!0,enumerable:!1}),r}catch(o){}return e[t]=r,r}var i=Object.prototype.hasOwnProperty;t.exports=r},{}],handle:[function(e,t,n){function r(e,t,n,r){i.buffer([e],r),i.emit(e,t,n)}var i=e(\"ee\").get(\"handle\");t.exports=r,r.ee=i},{}],id:[function(e,t,n){function r(e){var t=typeof e;return!e||\"object\"!==t&&\"function\"!==t?-1:e===window?0:a(e,o,function(){return i++})}var i=1,o=\"nr@id\",a=e(\"gos\");t.exports=r},{}],loader:[function(e,t,n){function r(){if(!E++){var e=b.info=NREUM.info,t=p.getElementsByTagName(\"script\")[0];if(setTimeout(u.abort,3e4),!(e&&e.licenseKey&&e.applicationID&&t))return u.abort();f(h,function(t,n){e[t]||(e[t]=n)});var n=a();c(\"mark\",[\"onload\",n+b.offset],null,\"api\"),c(\"timing\",[\"load\",n]);var r=p.createElement(\"script\");r.src=\"https://\"+e.agent,t.parentNode.insertBefore(r,t)}}function i(){\"complete\"===p.readyState&&o()}function o(){c(\"mark\",[\"domContent\",a()+b.offset],null,\"api\")}var a=e(2),c=e(\"handle\"),f=e(6),u=e(\"ee\"),s=e(4),d=window,p=d.document,l=\"addEventListener\",m=\"attachEvent\",v=d.XMLHttpRequest,g=v&&v.prototype;NREUM.o={ST:setTimeout,SI:d.setImmediate,CT:clearTimeout,XHR:v,REQ:d.Request,EV:d.Event,PR:d.Promise,MO:d.MutationObserver};var y=\"\"+location,h={beacon:\"bam.nr-data.net\",errorBeacon:\"bam.nr-data.net\",agent:\"js-agent.newrelic.com/nr-1184.min.js\"},w=v&&g&&g[l]&&!/CriOS/.test(navigator.userAgent),b=t.exports={offset:a.getLastTimestamp(),now:a,origin:y,features:{},xhrWrappable:w,userAgent:s};e(1),e(3),p[l]?(p[l](\"DOMContentLoaded\",o,!1),d[l](\"load\",r,!1)):(p[m](\"onreadystatechange\",i),d[m](\"onload\",r)),c(\"mark\",[\"firstbyte\",a.getLastTimestamp()],null,\"api\");var E=0},{}],\"wrap-function\":[function(e,t,n){function r(e){return!(e&&e instanceof Function&&e.apply&&!e[a])}var i=e(\"ee\"),o=e(7),a=\"nr@original\",c=Object.prototype.hasOwnProperty,f=!1;t.exports=function(e,t){function n(e,t,n,i){function nrWrapper(){var r,a,c,f;try{a=this,r=o(arguments),c=\"function\"==typeof n?n(r,a):n||{}}catch(u){p([u,\"\",[r,a,i],c])}s(t+\"start\",[r,a,i],c);try{return f=e.apply(a,r)}catch(d){throw s(t+\"err\",[r,a,d],c),d}finally{s(t+\"end\",[r,a,f],c)}}return r(e)?e:(t||(t=\"\"),nrWrapper[a]=e,d(e,nrWrapper),nrWrapper)}function u(e,t,i,o){i||(i=\"\");var a,c,f,u=\"-\"===i.charAt(0);for(f=0;f<t.length;f++)c=t[f],a=e[c],r(a)||(e[c]=n(a,u?c+i:i,o,c))}function s(n,r,i){if(!f||t){var o=f;f=!0;try{e.emit(n,r,i,t)}catch(a){p([a,n,r,i])}f=o}}function d(e,t){if(Object.defineProperty&&Object.keys)try{var n=Object.keys(e);return n.forEach(function(n){Object.defineProperty(t,n,{get:function(){return e[n]},set:function(t){return e[n]=t,t}})}),t}catch(r){p([r])}for(var i in e)c.call(e,i)&&(t[i]=e[i]);return t}function p(t){try{e.emit(\"internal-error\",t)}catch(n){}}return e||(e=i),n.inPlace=u,n.flag=a,n}},{}]},{},[\"loader\"]);</script><!-- Google Tag Manager -->\n",
      "<script>(function(w,d,s,l,i){w[l]=w[l]||[];w[l].push({'gtm.start':\n",
      "new Date().getTime(),event:'gtm.js'});var f=d.getElementsByTagName(s)[0],\n",
      "j=d.createElement(s),dl=l!='dataLayer'?'&l='+l:'';j.async=true;j.src=\n",
      "'https://www.googletagmanager.com/gtm.js?id='+i+dl;f.parentNode.insertBefore(j,f);\n",
      "})(window,document,'script','dataLayer','GTM-57STXX');</script>\n",
      "<!-- End Google Tag Manager -->\n",
      "<link rel=\"stylesheet\" media=\"screen\" href=\"//stackpath.bootstrapcdn.com/bootstrap/4.3.1/css/bootstrap.min.css\" integrity=\"sha384-ggOyR0iXCbMQv3Xipma34MD+dH/1fQ784/j6cY/iJTQUOhcWr7x9JvoRxT2MZw1T\" crossorigin=\"anonymous\" /><link rel=\"stylesheet\" media=\"screen\" href=\"//maxcdn.bootstrapcdn.com/font-awesome/4.7.0/css/font-awesome.min.css\" /><link rel=\"stylesheet\" media=\"all\" href=\"https://assets.techacademy.jp/assets/bootstrap_4/billy/application-c1b524a42ca46d8f0bf0fcde79994f3b63622ea99630806190839fded24a2db4.css\" /><script src=\"//cdnjs.cloudflare.com/ajax/libs/jquery/3.3.1/jquery.min.js\" integrity=\"sha256-FgpCb/KJQlLNfOu91ta32o/NMZxltwRo8QtmkMRdAu8=\" crossorigin=\"anonymous\"></script><script src=\"//cdnjs.cloudflare.com/ajax/libs/popper.js/1.14.7/umd/popper.min.js\" integrity=\"sha384-UO2eT0CpHqdSJQ6hJty5KVphtPhzWj9WO1clHTMGa3JDZwrnQq4sF86dIHNDz0W1\" crossorigin=\"anonymous\"></script><script src=\"//stackpath.bootstrapcdn.com/bootstrap/4.3.1/js/bootstrap.min.js\" integrity=\"sha384-JjSmVgyd0p3pXB1rRibZUAYoIIy6OrQ6VrjIEaFf/nJGzIxFDsf4x0xIM+B07jRM\" crossorigin=\"anonymous\"></script><script src=\"https://techacademy-bootcamp.s3.amazonaws.com/assets/bootstrap_4/billy/application-f838ba2982eb0bb9ef28f560f58ba2f735c2d7bcc2747d879ca2dd920390c812.js\"></script><meta name=\"csrf-param\" content=\"authenticity_token\" />\n",
      "<meta name=\"csrf-token\" content=\"/h6p/ffao2prFZsXhMT9QFuv0j/ll2wuc0cES+n4NoKV2gyitu49YhIxXJooG2sJTFiWXv+KhQo2wR60rQMTZA==\" /><title>TechAcademy [テックアカデミー] | オンラインのプログラミングスクール</title>\n",
      "<meta name=\"description\" content=\"受講者数No.1のオンラインプログラミングスクール【TechAcademy（テックアカデミー）】。プログラミングやアプリ開発、Webデザインなどの学習を現役のプロのパーソナルメンターがサポート。800社・30,000名を超える教育実績。\">\n",
      "<meta name=\"keywords\" content=\"プログラミング, ブートキャンプ, エンジニア, ruby on rails, パーソナルメンター\">\n",
      "<link rel=\"canonical\" href=\"https://techacademy.jp/\">\n",
      "<meta name=\"twitter:card\" content=\"summary_large_image\">\n",
      "<meta name=\"twitter:site\" content=\"@techacademy\">\n",
      "<meta name=\"twitter:creator\" content=\"@techacademy\">\n",
      "<meta name=\"twitter:title\" content=\"TechAcademy [テックアカデミー]\">\n",
      "<meta name=\"twitter:description\" content=\"現役のプロのパーソナルメンターが学習をサポートするオンラインブートキャンプ\">\n",
      "<meta name=\"twitter:image\" content=\"https://assets.techacademy.jp/assets/og-image-52b2481f5a7e46bfa43ecc4f0f693e8785a13307319b79e24d0ef1da6a061f19.jpg\">\n",
      "<meta property=\"og:type\" content=\"website\">\n",
      "<meta property=\"og:title\" content=\"TechAcademy [テックアカデミー]\">\n",
      "<meta property=\"og:description\" content=\"現役のプロのパーソナルメンターが学習をサポートするオンラインブートキャンプ\">\n",
      "<meta property=\"og:url\" content=\"https://techacademy.jp/\">\n",
      "<meta property=\"og:image\" content=\"https://assets.techacademy.jp/assets/og-image-52b2481f5a7e46bfa43ecc4f0f693e8785a13307319b79e24d0ef1da6a061f19.jpg\">\n",
      "<meta name=\"viewport\" content=\"width=device-width, initial-scale=1.0, user-scalable=no\"><link rel=\"shortcut icon\" type=\"image/x-icon\" href=\"https://assets.techacademy.jp/assets/favicon-072db586cd93bb182182205ead94c1e8f539ef88c48f1ba0cb74fcf74571b6e6.ico\" /></head><body id=\"top\"><!-- Google Tag Manager -->\n",
      "<noscript><iframe src=\"//www.googletagmanager.com/ns.html?id=GTM-57STXX\"\n",
      "height=\"0\" width=\"0\" style=\"display:none;visibility:hidden\"></iframe></noscript>\n",
      "<script>(function(w,d,s,l,i){w[l]=w[l]||[];w[l].push({'gtm.start':\n",
      "new Date().getTime(),event:'gtm.js'});var f=d.getElementsByTagName(s)[0],\n",
      "j=d.createElement(s),dl=l!='dataLayer'?'&l='+l:'';j.async=true;j.src=\n",
      "'//www.googletagmanager.com/gtm.js?id='+i+dl;f.parentNode.insertBefore(j,f);\n",
      "})(window,document,'script','dataLayer','GTM-57STXX');</script>\n",
      "<!-- End Google Tag Manager --><!-- Start Visual Website Optimizer Asynchronous Code -->\n",
      "<script type='text/javascript'>\n",
      "var _vwo_code=(function(){\n",
      "var account_id=226043,\n",
      "settings_tolerance=2000,\n",
      "library_tolerance=2500,\n",
      "use_existing_jquery=false,\n",
      "// DO NOT EDIT BELOW THIS LINE\n",
      "f=false,d=document;return{use_existing_jquery:function(){return use_existing_jquery;},library_tolerance:function(){return library_tolerance;},finish:function(){if(!f){f=true;var a=d.getElementById('_vis_opt_path_hides');if(a)a.parentNode.removeChild(a);}},finished:function(){return f;},load:function(a){var b=d.createElement('script');b.src=a;b.type='text/javascript';b.innerText;b.onerror=function(){_vwo_code.finish();};d.getElementsByTagName('head')[0].appendChild(b);},init:function(){settings_timer=setTimeout('_vwo_code.finish()',settings_tolerance);var a=d.createElement('style'),b='body{opacity:0 !important;filter:alpha(opacity=0) !important;background:none !important;}',h=d.getElementsByTagName('head')[0];a.setAttribute('id','_vis_opt_path_hides');a.setAttribute('type','text/css');if(a.styleSheet)a.styleSheet.cssText=b;else a.appendChild(d.createTextNode(b));h.appendChild(a);this.load('//dev.visualwebsiteoptimizer.com/j.php?a='+account_id+'&u='+encodeURIComponent(d.URL)+'&r='+Math.random());return settings_timer;}};}());_vwo_settings_timer=_vwo_code.init();\n",
      "</script>\n",
      "<!-- End Visual Website Optimizer Asynchronous Code -->\n",
      "<!--  トップページタグ -->\n",
      "<script type=\"text/javascript\" src=\"//static.criteo.net/js/ld/ld.js\" async=\"true\"></script>\n",
      "<script type=\"text/javascript\">\n",
      "window.criteo_q = window.criteo_q || [];\n",
      "window.criteo_q.push(\n",
      "  { event: \"setAccount\", account: 30101 },\n",
      "  { event: \"setSiteType\", type: \"d\" },\n",
      "  { event: \"viewHome\" }\n",
      ");\n",
      "</script>\n",
      "<header class=\"header fixed-top border-bottom border-gray-5\"><div class=\"navbar navbar-expand-lg container-lg py-0\"><div class=\"d-flex align-items-center justify-content-between w-100 w-lg-auto\" style=\"height: 70px;\"><a class=\"navbar-brand stay-at-home\" href=\"/\"><img alt=\"TechAcademy\" class=\"img-fluid\" style=\"width: 200px;\" src=\"https://techacademy-bootcamp.s3.amazonaws.com/assets/logo-blue-3d10e6ac11160849b9ad9ecab37740935407b58e9d377a5040728379b82b8e0b.svg\" /></a><button aria-controls=\"navbar-accordion\" aria-expanded=\"false\" aria-label=\"Toggle navigation\" class=\"navbar-toggler\" data-target=\"#navbar-accordion\" data-toggle=\"collapse\"><span class=\"navbar-toggler-icon\"><script>// ハンバーガーボタンをクリックしたとき開閉状態によってbodyのスクロールを制御する\n",
      "$('.navbar-toggler').on('click', function() {\n",
      "  if ($('.header #navbar-accordion').hasClass('show')) {\n",
      "    $('body').removeClass('navbar-toggler-active');\n",
      "  } else if (!$('.header #navbar-accordion').hasClass('show')) {\n",
      "    $('body').addClass('navbar-toggler-active');\n",
      "  }\n",
      "});\n",
      "// 画面サイズを変更した時の処理\n",
      "$(window).on('resize', function() {\n",
      "  var window_x = $(window).width();\n",
      "  var size = 992;\n",
      "  //console.log(window_x);\n",
      "  if (window_x >= size) {\n",
      "    $('body').removeClass('navbar-toggler-active');\n",
      "  } else if (!$('.header #navbar-accordion').hasClass('show')) {\n",
      "    $('body').removeClass('navbar-toggler-active');\n",
      "  } else {\n",
      "    $('body').addClass('navbar-toggler-active');\n",
      "  }\n",
      "});</script></span></button></div><div class=\"d-block d-lg-none w-100\"><div class=\"collapse navbar-collapse\" id=\"navbar-accordion\"><div class=\"header-accordion accordion px-16\" id=\"header-accordion\"><div class=\"card\"><div class=\"card-header p-0\"><h2 class=\"card-category mb-0\"><button aria-controls=\"accordion-course\" aria-expanded=\"true\" class=\"btn btn-link d-block w-100 text-left px-0 py-12\" data-target=\"#header-accordion-course\" data-toggle=\"collapse\" type=\"button\">コース</button></h2></div><div class=\"card-body collapse px-8 py-12\" data-parent=\"#header-accordion\" id=\"header-accordion-course\"><span class=\"card-title d-block w-100 pb-12\">プログラミング</span><ul class=\"list-group list-group-flush\"><li class=\"list-group-item px-8\"><a href=\"/rails-bootcamp\"><i aria-hidden=\"true\" class=\"fa fa-fw fa-diamond mr-4\"></i>Webアプリケーションコース</a></li><li class=\"list-group-item px-8\"><a href=\"/php-bootcamp\"><i aria-hidden=\"true\" class=\"fa-fw fa-original-php mr-4\"></i>PHP/Laravelコース</a></li><li class=\"list-group-item px-8\"><a href=\"/java-bootcamp\"><i aria-hidden=\"true\" class=\"fa-fw fa-original-java mr-4\"></i>Javaコース</a></li><li class=\"list-group-item px-8\"><a href=\"/frontend-bootcamp\"><i aria-hidden=\"true\" class=\"fa fa-fw fa-code mr-4\"></i>フロントエンドコース</a></li><li class=\"list-group-item px-8\"><a href=\"/wordpress-bootcamp\"><i aria-hidden=\"true\" class=\"fa fa-fw fa-wordpress mr-4\"></i>WordPressコース</a></li><li class=\"list-group-item px-8\"><a href=\"/iphone-bootcamp\"><i aria-hidden=\"true\" class=\"fa fa-fw fa-apple mr-4\"></i>iPhoneアプリコース</a></li><li class=\"list-group-item px-8\"><a href=\"/android-bootcamp\"><i aria-hidden=\"true\" class=\"fa fa-fw fa-android mr-4\"></i>Androidアプリコース</a></li><li class=\"list-group-item px-8\"><a href=\"/unity-bootcamp\"><i aria-hidden=\"true\" class=\"fa-fw fa-original-unity mr-4\"></i>Unityコース</a></li><li class=\"list-group-item px-8\"><a href=\"/first-programming-bootcamp\"><i aria-hidden=\"true\" class=\"fa fa-fw fa-leaf mr-4\"></i>はじめてのプログラミングコース</a></li><li class=\"list-group-item px-8\"><a href=\"/blockchain-basic-bootcamp\"><i aria-hidden=\"true\" class=\"fa fa-fw fa-bitcoin mr-4\"></i>ブロックチェーンコース</a></li><li class=\"list-group-item px-8\"><a href=\"/blockchain-bootcamp\"><i aria-hidden=\"true\" class=\"fa fa-fw fa-link mr-4\"></i>スマートコントラクトコース</a></li><li class=\"list-group-item px-8\"><a href=\"/python-bootcamp\"><i aria-hidden=\"true\" class=\"fa fa-fw fa-original-python mr-4\"></i>Pythonコース</a></li><li class=\"list-group-item px-8\"><a href=\"/ai-bootcamp\"><i aria-hidden=\"true\" class=\"fa fa-fw fa-original-ai mr-4\"></i>AIコース</a></li><li class=\"list-group-item px-8\"><a href=\"/datascience-bootcamp\"><i aria-hidden=\"true\" class=\"fa fa-fw fa-pie-chart mr-4\"></i>データサイエンスコース</a></li><li class=\"list-group-item px-8\"><a href=\"/scala-bootcamp\"><i aria-hidden=\"true\" class=\"fa fa-fw fa-original-scala mr-4\"></i>Scalaコース</a></li><li class=\"list-group-item px-8\"><a href=\"/node-js-bootcamp\"><i aria-hidden=\"true\" class=\"fa fa-fw fa-original-node mr-4\"></i>Node.jsコース</a></li><li class=\"list-group-item px-8\"><a href=\"/gas-bootcamp\"><i aria-hidden=\"true\" class=\"fa fa-fw fa-original-gas mr-4\"></i>Google Apps Scriptコース</a></li></ul><span class=\"card-title d-block w-100 pb-12\">デザイン</span><ul class=\"list-group list-group-flush\"><li class=\"list-group-item px-8\"><a href=\"/webdesign-bootcamp\"><i aria-hidden=\"true\" class=\"fa fa-fw fa-object-group mr-4\"></i>Webデザインコース</a></li><li class=\"list-group-item px-8\"><a href=\"/appdesign-bootcamp\"><i aria-hidden=\"true\" class=\"fa fa-fw fa-tablet mr-4\"></i>UI/UXデザインコース</a></li><li class=\"list-group-item px-8\"><a href=\"/videoediting-bootcamp\"><i aria-hidden=\"true\" class=\"fa fa-fw fa-film mr-4\"></i>動画編集コース</a></li><li class=\"list-group-item px-8\"><a href=\"/video-ad-special\"><i aria-hidden=\"true\" class=\"fa fa-fw fa-original-video-ad display-10 mr-4\"></i>動画広告クリエイターコース</a></li></ul><span class=\"card-title d-block w-100 pb-12\">マネジメント</span><ul class=\"list-group list-group-flush\"><li class=\"list-group-item px-8\"><a href=\"/webdirection-bootcamp\"><i aria-hidden=\"true\" class=\"fa fa-fw fa-sitemap mr-4\"></i>Webディレクションコース</a></li><li class=\"list-group-item px-8\"><a href=\"/webmarketing-bootcamp\"><i aria-hidden=\"true\" class=\"fa fa-fw fa-line-chart mr-4\"></i>Webマーケティングコース</a></li></ul><span class=\"card-title d-block w-100 pb-12\">オフィス</span><ul class=\"list-group list-group-flush\"><li class=\"list-group-item px-8\"><a href=\"/excel2013-bootcamp\"><i aria-hidden=\"true\" class=\"fa fa-fw fa-original-excel mr-4\"></i>Excel2013コース</a></li></ul><span class=\"card-title d-block w-100 pb-12\">トレーニング</span><ul class=\"list-group list-group-flush\"><li class=\"list-group-item px-8\"><a href=\"/htmlcss-training\"><i aria-hidden=\"true\" class=\"fa fa-fw fa-html5 mr-4\"></i>HTML/CSSトレーニング</a></li><li class=\"list-group-item px-8\"><a href=\"/bootstrap-training\"><i aria-hidden=\"true\" class=\"fa-fw fa-original-bootstrap mr-4\"></i>Bootstrapトレーニング</a></li><li class=\"list-group-item px-8\"><a href=\"/github-training\"><i aria-hidden=\"true\" class=\"fa fa-fw fa-github mr-4\"></i>GitHubトレーニング</a></li><li class=\"list-group-item px-8\"><a href=\"/photoshop-training\"><i aria-hidden=\"true\" class=\"fa-fw fa-original-photoshop mr-4\"></i>Photoshopトレーニング</a></li></ul></div></div><div class=\"card\"><div class=\"card-header p-0\"><h2 class=\"card-category mb-0\"><button aria-controls=\"accordion-set\" aria-expanded=\"true\" class=\"btn btn-link d-block w-100 text-left px-0 py-12\" data-target=\"#header-accordion-set\" data-toggle=\"collapse\" type=\"button\">セット</button></h2></div><div class=\"card-body collapse px-12 px-8 py-12\" data-parent=\"#header-accordion\" id=\"header-accordion-set\"><p class=\"card-title d-block w-100 pb-12\">2セット割り</p><ul class=\"list-group list-group-flush\"><li class=\"list-group-item px-8\"><a href=\"/webapp-frontend-set\"><span class=\"d-block\"><i aria-hidden=\"true\" class=\"fa fa-fw fa-diamond mr-4\"></i>Webアプリケーション＋</span><span class=\"d-block\"><i aria-hidden=\"true\" class=\"fa fa-fw fa-code mr-4\"></i>フロントエンドセット</span></a></li><li class=\"list-group-item px-8\"><a href=\"/php-frontend-set\"><span class=\"d-block\"><i aria-hidden=\"true\" class=\"fa-fw fa-original-php mr-4\"></i>PHP/Laravel＋</span><span class=\"d-block\"><i aria-hidden=\"true\" class=\"fa fa-fw fa-code mr-4\"></i>フロントエンドセット</span></a></li><li class=\"list-group-item px-8\"><a href=\"/webdesign-wordpress-set\"><span class=\"d-block\"><i aria-hidden=\"true\" class=\"fa fa-fw fa-object-group mr-4\"></i>Webデザイン＋</span><span class=\"d-block\"><i aria-hidden=\"true\" class=\"fa fa-fw fa-wordpress mr-4\"></i>WordPressセット</span></a></li><li class=\"list-group-item px-8\"><a href=\"/webdesign-webmarketing-set\"><span class=\"d-block\"><i aria-hidden=\"true\" class=\"fa fa-fw fa-object-group mr-4\"></i>Webデザイン＋</span><span class=\"d-block\"><i aria-hidden=\"true\" class=\"fa fa-fw fa-line-chart mr-4\"></i>Webマーケティングセット</span></a></li><li class=\"list-group-item px-8\"><a href=\"/wordpress-webmarketing-set\"><span class=\"d-block\"><i aria-hidden=\"true\" class=\"fa fa-fw fa-wordpress mr-4\"></i>WordPress＋</span><span class=\"d-block\"><i aria-hidden=\"true\" class=\"fa fa-fw fa-line-chart mr-4\"></i>Webマーケティングセット</span></a></li><li class=\"list-group-item px-8\"><a href=\"/blockchain-set\"><span class=\"d-block\"><i aria-hidden=\"true\" class=\"fa fa-fw fa-bitcoin\"></i><i aria-hidden=\"true\" class=\"fa fa-fw fa-chain\"></i>ブロックチェーンセット</span></a></li><li class=\"list-group-item px-8\"><a href=\"/python-ai-set\"><span class=\"d-block\"><i aria-hidden=\"true\" class=\"fa fa-fw fa-original-python mr-4\"></i>Python＋</span><span class=\"d-block\"><i aria-hidden=\"true\" class=\"fa fa-fw fa-original-ai mr-4\"></i>AIセット</span></a></li><li class=\"list-group-item px-8\"><a href=\"/python-datascience-set\"><span class=\"d-block\"><i aria-hidden=\"true\" class=\"fa fa-fw fa-original-python mr-4\"></i>Python＋</span><span class=\"d-block\"><i aria-hidden=\"true\" class=\"fa fa-fw fa-pie-chart mr-4\"></i>データサイエンスセット</span></a></li><li class=\"list-group-item px-8\"><a href=\"/iphone-android-set\"><span class=\"d-block\"><i aria-hidden=\"true\" class=\"fa fa-fw fa-apple mr-4\"></i>iPhoneアプリ＋</span><span class=\"d-block\"><i aria-hidden=\"true\" class=\"fa fa-fw fa-android mr-4\"></i>Androidアプリセット</span></a></li><li class=\"list-group-item px-8\"><a href=\"/unity-iphone-set\"><span class=\"d-block\"><i aria-hidden=\"true\" class=\"fa-fw fa-original-unity mr-4\"></i>Unity＋</span><span class=\"d-block\"><i aria-hidden=\"true\" class=\"fa fa-fw fa-apple mr-4\"></i>iPhoneアプリセット</span></a></li><li class=\"list-group-item px-8\"><a href=\"/unity-android-set\"><span class=\"d-block\"><i aria-hidden=\"true\" class=\"fa-fw fa-original-unity mr-4\"></i>Unity＋</span><span class=\"d-block\"><i aria-hidden=\"true\" class=\"fa fa-fw fa-android mr-4\"></i>Androidアプリセット</span></a></li><li class=\"list-group-item px-8\"><a href=\"/appdesign-iphone-set\"><span class=\"d-block\"><i aria-hidden=\"true\" class=\"fa fa-fw fa-tablet mr-4\"></i>UI/UXデザイン＋</span><span class=\"d-block\"><i aria-hidden=\"true\" class=\"fa fa-fw fa-apple mr-4\"></i>iPhoneアプリセット</span></a></li><li class=\"list-group-item px-8\"><a href=\"/webdirection-webdesign-set\"><span class=\"d-block\"><i aria-hidden=\"true\" class=\"fa fa-fw fa-sitemap mr-4\"></i>Webディレクション＋</span><span class=\"d-block\"><i aria-hidden=\"true\" class=\"fa fa-fw fa-object-group mr-4\"></i>Webデザインセット</span></a></li><li class=\"list-group-item px-8\"><a href=\"/webdirection-webmarketing-set\"><span class=\"d-block\"><i aria-hidden=\"true\" class=\"fa fa-fw fa-sitemap mr-4\"></i>Webディレクション＋</span><span class=\"d-block\"><i aria-hidden=\"true\" class=\"fa fa-fw fa-line-chart mr-4\"></i>Webマーケティングセット</span></a></li></ul><p class=\"card-title d-block w-100 pb-12\">3セット割り</p><ul class=\"list-group list-group-flush\"><li class=\"list-group-item px-8\"><a href=\"/webapp-frontend-webdesign-set\"><span class=\"d-block\"><i aria-hidden=\"true\" class=\"fa fa-fw fa-diamond mr-4\"></i>Webアプリ＋</span><span class=\"d-block\"><i aria-hidden=\"true\" class=\"fa fa-fw fa-code mr-4\"></i>フロントエンド＋</span><span class=\"d-block\"><i aria-hidden=\"true\" class=\"fa fa-fw fa-object-group mr-4\"></i>Webデザインセット</span></a></li><li class=\"list-group-item px-8\"><a href=\"/php-frontend-webdesign-set\"><span class=\"d-block\"><i aria-hidden=\"true\" class=\"fa-fw fa-original-php mr-4\"></i>PHP/Laravel＋</span><span class=\"d-block\"><i aria-hidden=\"true\" class=\"fa fa-fw fa-code mr-4\"></i>フロントエンド＋</span><span class=\"d-block\"><i aria-hidden=\"true\" class=\"fa fa-fw fa-object-group mr-4\"></i>Webデザインセット</span></a></li><li class=\"list-group-item px-8\"><a href=\"/iphone-android-appdesign-set\"><span class=\"d-block\"><i aria-hidden=\"true\" class=\"fa fa-fw fa-apple mr-4\"></i>iPhoneアプリ＋</span><span class=\"d-block\"><i aria-hidden=\"true\" class=\"fa fa-fw fa-android mr-4\"></i>Androidアプリ＋</span><span class=\"d-block\"><i aria-hidden=\"true\" class=\"fa fa-fw fa-tablet mr-4\"></i>UI/UXデザインセット</span></a></li><li class=\"list-group-item px-8\"><a href=\"/python-ai-datascience-set\"><span class=\"d-block\"><i aria-hidden=\"true\" class=\"fa fa-fw fa-original-python mr-4\"></i>Python＋</span><span class=\"d-block\"><i aria-hidden=\"true\" class=\"fa fa-fw fa-original-ai mr-4\"></i>AI＋</span><span class=\"d-block\"><i aria-hidden=\"true\" class=\"fa fa-fw fa-pie-chart mr-4\"></i>データサイエンスセット</span></a></li></ul><p class=\"card-title d-block w-100 pb-12\">特別プラン</p><ul class=\"list-group list-group-flush\"><li class=\"list-group-item px-8\"><a href=\"/unlimited-bootcamp\"><i aria-hidden=\"true\" class=\"fa fa-fw fa-star mr-4\"></i>ウケ放題</a></li></ul></div></div><div class=\"card\"><div class=\"card-header p-0\"><h2 class=\"card-category mb-0\"><button aria-controls=\"accordion-about\" aria-expanded=\"true\" class=\"btn btn-link d-block w-100 text-left px-0 py-12\" data-target=\"#header-accordion-about\" data-toggle=\"collapse\" type=\"button\">はじめての方へ</button></h2></div><div class=\"card-body collapse px-12 py-0\" data-parent=\"#header-accordion\" id=\"header-accordion-about\"><ul class=\"list-group list-group-flush\"><li class=\"list-group-item px-8\"><a href=\"/about\">TechAcademyとは</a></li><li class=\"list-group-item px-8\"><a href=\"/htmlcss-trial\">無料体験</a></li><li class=\"list-group-item px-8\"><a href=\"/briefing\">説明会動画</a></li><li class=\"list-group-item px-8\"><a href=\"/diagnoses/top\">オススメコース診断</a></li><li class=\"list-group-item px-8\"><a href=\"https://techacademy.jp/blog/category/student-interview\">受講生インタビュー</a></li><li class=\"list-group-item px-8\"><a href=\"/contest\">コンテスト</a></li></ul></div></div><div class=\"card\"><div class=\"card-header p-0\"><h2 class=\"card-category mb-0\"><button aria-controls=\"accordion-support\" aria-expanded=\"true\" class=\"btn btn-link d-block w-100 text-left px-0 py-12\" data-target=\"#header-accordion-support\" data-toggle=\"collapse\" type=\"button\">転職サポート</button></h2></div><div class=\"card-body collapse px-12 py-0\" data-parent=\"#header-accordion\" id=\"header-accordion-support\"><ul class=\"list-group list-group-flush\"><li class=\"list-group-item px-8\"><a href=\"/pro\" target=\"_blank\">TechAcademy Pro</a></li><li class=\"list-group-item px-8\"><a href=\"/pro/lp/jobchange_trial\" target=\"_blank\">無料カウンセリング</a></li><li class=\"list-group-item px-8\"><a href=\"/career\">TechAcademyキャリア</a></li></ul></div></div><div class=\"card\"><div class=\"card-body p-0\"><a class=\"card-link d-block w-100 text-gray-1 px-0 py-12\" href=\"/biz\">法人のお客様<i aria-hidden=\"true\" class=\"fa fa-angle-right ml-12\"></i></a></div></div><div class=\"card\"><div class=\"card-body p-0\"><a class=\"card-link d-block w-100 text-gray-1 px-0 py-12\" href=\"/login\">ログイン</a></div><script>// アコーディオンの開閉に合わせて矢印の向きを変更するために\n",
      "// activeクラスを付与\n",
      "$('.header-accordion .btn').on('click', function() {\n",
      "  $(this).toggleClass('active');\n",
      "});</script></div></div></div></div><div class=\"dropdown navbar-collapse d-none d-lg-flex\" style=\"height: 70px;\"><ul class=\"navbar-nav align-items-center ml-auto\"><li class=\"nav-item dropdown dropdown-course mr-20\"><a aria-expanded=\"false\" aria-haspopup=\"true\" class=\"nav-link dropdown-toggle py-20\" data-toggle=\"dropdown\" id=\"dropdown-course\">コース</a><div aria-labelledby=\"dropdown-course\" class=\"dropdown-menu dropdown-menu-course p-0 border-top-0\"><div class=\"dropdown-menu-body px-20 mt-8 mb-4\"><p class=\"border-bottom border-gray-5 px-12 py-8 mb-12\">プログラミング</p><div class=\"d-flex flex-wrap align-items-start\"><a class=\"dropdown-link w-25 px-12 py-8\" href=\"/rails-bootcamp\"><i aria-hidden=\"true\" class=\"fa fa-fw fa-diamond mr-4\"></i>Webアプリケーションコース</a><a class=\"dropdown-link w-25 px-12 py-8\" href=\"/php-bootcamp\"><i aria-hidden=\"true\" class=\"fa-fw fa-original-php mr-4\"></i>PHP/Laravelコース</a><a class=\"dropdown-link w-25 px-12 py-8\" href=\"/java-bootcamp\"><i aria-hidden=\"true\" class=\"fa-fw fa-original-java mr-4\"></i>Javaコース</a><a class=\"dropdown-link w-25 px-12 py-8\" href=\"/frontend-bootcamp\"><i aria-hidden=\"true\" class=\"fa fa-fw fa-code mr-4\"></i>フロントエンドコース</a><a class=\"dropdown-link w-25 px-12 py-8\" href=\"/wordpress-bootcamp\"><i aria-hidden=\"true\" class=\"fa fa-fw fa-wordpress mr-4\"></i>WordPressコース</a><a class=\"dropdown-link w-25 px-12 py-8\" href=\"/iphone-bootcamp\"><i aria-hidden=\"true\" class=\"fa fa-fw fa-apple mr-4\"></i>iPhoneアプリコース</a><a class=\"dropdown-link w-25 px-12 py-8\" href=\"/android-bootcamp\"><i aria-hidden=\"true\" class=\"fa fa-fw fa-android mr-4\"></i>Androidアプリコース</a><a class=\"dropdown-link w-25 px-12 py-8\" href=\"/unity-bootcamp\"><i aria-hidden=\"true\" class=\"fa-fw fa-original-unity mr-4\"></i>Unityコース</a><a class=\"dropdown-link w-25 px-12 py-8\" href=\"/first-programming-bootcamp\"><i aria-hidden=\"true\" class=\"fa fa-fw fa-leaf mr-4\"></i>はじめてのプログラミングコース</a><a class=\"dropdown-link w-25 px-12 py-8\" href=\"/blockchain-basic-bootcamp\"><i aria-hidden=\"true\" class=\"fa fa-fw fa-bitcoin mr-4\"></i>ブロックチェーンコース</a><a class=\"dropdown-link w-25 px-12 py-8\" href=\"/blockchain-bootcamp\"><i aria-hidden=\"true\" class=\"fa fa-fw fa-link mr-4\"></i>スマートコントラクトコース</a><a class=\"dropdown-link w-25 px-12 py-8\" href=\"/python-bootcamp\"><i aria-hidden=\"true\" class=\"fa fa-fw fa-original-python mr-4\"></i>Pythonコース</a><a class=\"dropdown-link w-25 px-12 py-8\" href=\"/ai-bootcamp\"><i aria-hidden=\"true\" class=\"fa fa-fw fa-original-ai mr-4\"></i>AIコース</a><a class=\"dropdown-link w-25 px-12 py-8\" href=\"/datascience-bootcamp\"><i aria-hidden=\"true\" class=\"fa fa-fw fa-pie-chart mr-4\"></i>データサイエンスコース</a><a class=\"dropdown-link w-25 px-12 py-8\" href=\"/scala-bootcamp\"><i aria-hidden=\"true\" class=\"fa fa-fw fa-original-scala mr-4\"></i>Scalaコース</a><a class=\"dropdown-link w-25 px-12 py-8\" href=\"/node-js-bootcamp\"><i aria-hidden=\"true\" class=\"fa fa-fw fa-original-node mr-4\"></i>Node.jsコース</a><a class=\"dropdown-link w-25 px-12 py-8\" href=\"/gas-bootcamp\"><i aria-hidden=\"true\" class=\"fa fa-fw fa-original-gas mr-4\"></i>Google Apps Scriptコース</a></div><p class=\"border-bottom border-gray-5 px-12 py-8 mb-12\">デザイン</p><div class=\"d-flex flex-wrap align-items-start\"><a class=\"dropdown-link w-25 px-12 py-8\" href=\"/webdesign-bootcamp\"><i aria-hidden=\"true\" class=\"fa fa-fw fa-object-group mr-4\"></i>Webデザインコース</a><a class=\"dropdown-link w-25 px-12 py-8\" href=\"/appdesign-bootcamp\"><i aria-hidden=\"true\" class=\"fa fa-fw fa-tablet mr-4\"></i>UI/UXデザインコース</a><a class=\"dropdown-link w-25 px-12 py-8\" href=\"/videoediting-bootcamp\"><i aria-hidden=\"true\" class=\"fa fa-fw fa-film mr-4\"></i>動画編集コース</a><a class=\"dropdown-link w-25 px-12 py-8\" href=\"/video-ad-bootcamp\"><i aria-hidden=\"true\" class=\"fa fa-fw fa-original-video-ad display-11 mr-4\"></i>動画広告クリエイターコース</a></div><p class=\"border-bottom border-gray-5 px-12 py-8 mb-12\">マネジメント</p><div class=\"d-flex flex-wrap align-items-start\"><a class=\"dropdown-link w-25 px-12 py-8\" href=\"/webdirection-bootcamp\"><i aria-hidden=\"true\" class=\"fa fa-fw fa-sitemap mr-4\"></i>Webディレクションコース</a><a class=\"dropdown-link w-25 px-12 py-8\" href=\"/webmarketing-bootcamp\"><i aria-hidden=\"true\" class=\"fa fa-fw fa-line-chart mr-4\"></i>Webマーケティングコース</a></div><p class=\"border-bottom border-gray-5 px-12 py-8 mb-12\">オフィス</p><div class=\"d-flex flex-wrap align-items-start mb-4\"><a class=\"dropdown-link w-25 px-12 py-8\" href=\"/excel2013-bootcamp\"><i aria-hidden=\"true\" class=\"fa-fw fa-original-excel mr-4\"></i>Excel2013コース</a></div><p class=\"border-bottom border-gray-5 px-12 py-8 mb-12\">トレーニング</p><div class=\"d-flex flex-wrap align-items-start\"><a class=\"dropdown-link w-25 px-12 py-8\" href=\"/htmlcss-training\"><i aria-hidden=\"true\" class=\"fa fa-fw fa-html5 mr-4\"></i>HTML/CSSトレーニング</a><a class=\"dropdown-link w-25 px-12 py-8\" href=\"/bootstrap-training\"><i aria-hidden=\"true\" class=\"fa-fw fa-original-bootstrap mr-4\"></i>Bootstrapトレーニング</a><a class=\"dropdown-link w-25 px-12 py-8\" href=\"/github-training\"><i aria-hidden=\"true\" class=\"fa fa-fw fa-github mr-4\"></i>GitHubトレーニング</a><a class=\"dropdown-link w-25 px-12 py-8\" href=\"/photoshop-training\"><i aria-hidden=\"true\" class=\"fa-fw fa-original-photoshop mr-4\"></i>Photoshopトレーニング</a></div></div></div></li><li class=\"nav-item dropdown dropdown-set mr-20\"><a aria-expanded=\"false\" aria-haspopup=\"true\" class=\"nav-link dropdown-toggle py-20\" data-toggle=\"dropdown\" id=\"dropdown-course-set\">セット</a><div aria-labelledby=\"dropdown-course-set\" class=\"dropdown-menu dropdown-menu-set p-0 border-top-0\"><div class=\"dropdown-menu-body px-20 mt-8 mb-4\"><p class=\"border-bottom border-gray-5 px-12 py-8 mb-12\">2セット割り</p><div class=\"d-flex flex-wrap align-items-start\"><a class=\"dropdown-link w-25 px-12 py-8\" href=\"/webapp-frontend-set\"><span class=\"d-block\"><i aria-hidden=\"true\" class=\"fa fa-fw fa-diamond mr-4\"></i>Webアプリケーション＋</span><span class=\"d-block\"><i aria-hidden=\"true\" class=\"fa fa-fw fa-code mr-4\"></i>フロントエンドセット</span></a><a class=\"dropdown-link w-25 px-12 py-8\" href=\"/php-frontend-set\"><span class=\"d-block\"><i aria-hidden=\"true\" class=\"fa-fw fa-original-php mr-4\"></i>PHP/Laravel＋</span><span class=\"d-block\"><i aria-hidden=\"true\" class=\"fa fa-fw fa-code mr-4\"></i>フロントエンドセット</span></a><a class=\"dropdown-link w-25 px-12 py-8\" href=\"/webdesign-wordpress-set\"><span class=\"d-block\"><i aria-hidden=\"true\" class=\"fa fa-fw fa-object-group mr-4\"></i>Webデザイン＋</span><span class=\"d-block\"><i aria-hidden=\"true\" class=\"fa fa-fw fa-wordpress mr-4\"></i>WordPressセット</span></a><a class=\"dropdown-link w-25 px-12 py-8\" href=\"/webdesign-webmarketing-set\"><span class=\"d-block\"><i aria-hidden=\"true\" class=\"fa fa-fw fa-object-group mr-4\"></i>Webデザイン＋</span><span class=\"d-block\"><i aria-hidden=\"true\" class=\"fa fa-fw fa-line-chart mr-4\"></i>Webマーケティングセット</span></a><a class=\"dropdown-link w-25 px-12 py-8\" href=\"/wordpress-webmarketing-set\"><span class=\"d-block\"><i aria-hidden=\"true\" class=\"fa fa-fw fa-wordpress mr-4\"></i>WordPress＋</span><span class=\"d-block\"><i aria-hidden=\"true\" class=\"fa fa-fw fa-line-chart mr-4\"></i>Webマーケティングセット</span></a><a class=\"dropdown-link w-25 px-12 py-8\" href=\"/blockchain-set\"><span class=\"d-block\"><i aria-hidden=\"true\" class=\"fa fa-fw fa-bitcoin\"></i><i aria-hidden=\"true\" class=\"fa fa-fw fa-chain\"></i>ブロックチェーンセット</span></a><a class=\"dropdown-link w-25 px-12 py-8\" href=\"/python-ai-set\"><span class=\"d-block\"><i aria-hidden=\"true\" class=\"fa fa-fw fa-original-python mr-4\"></i>Python＋</span><span class=\"d-block\"><i aria-hidden=\"true\" class=\"fa fa-fw fa-original-ai mr-4\"></i>AIセット</span></a><a class=\"dropdown-link w-25 px-12 py-8\" href=\"/python-datascience-set\"><span class=\"d-block\"><i aria-hidden=\"true\" class=\"fa fa-fw fa-original-python mr-4\"></i>Python＋</span><span class=\"d-block\"><i aria-hidden=\"true\" class=\"fa fa-fw fa-pie-chart mr-4\"></i>データサイエンスセット</span></a><a class=\"dropdown-link w-25 px-12 py-8\" href=\"/iphone-android-set\"><span class=\"d-block\"><i aria-hidden=\"true\" class=\"fa fa-fw fa-apple mr-4\"></i>iPhoneアプリ＋</span><span class=\"d-block\"><i aria-hidden=\"true\" class=\"fa fa-fw fa-android mr-4\"></i>Androidアプリセット</span></a><a class=\"dropdown-link w-25 px-12 py-8\" href=\"/unity-iphone-set\"><span class=\"d-block\"><i aria-hidden=\"true\" class=\"fa-fw fa-original-unity mr-4\"></i>Unity＋</span><span class=\"d-block\"><i aria-hidden=\"true\" class=\"fa fa-fw fa-apple mr-4\"></i>iPhoneアプリセット</span></a><a class=\"dropdown-link w-25 px-12 py-8\" href=\"/unity-android-set\"><span class=\"d-block\"><i aria-hidden=\"true\" class=\"fa-fw fa-original-unity mr-4\"></i>Unity＋</span><span class=\"d-block\"><i aria-hidden=\"true\" class=\"fa fa-fw fa-android mr-4\"></i>Androidアプリセット</span></a><a class=\"dropdown-link w-25 px-12 py-8\" href=\"/appdesign-iphone-set\"><span class=\"d-block\"><i aria-hidden=\"true\" class=\"fa fa-fw fa-tablet mr-4\"></i>UI/UXデザイン＋</span><span class=\"d-block\"><i aria-hidden=\"true\" class=\"fa fa-fw fa-apple mr-4\"></i>iPhoneアプリセット</span></a><a class=\"dropdown-link w-25 px-12 py-8\" href=\"/webdirection-webdesign-set\"><span class=\"d-block\"><i aria-hidden=\"true\" class=\"fa fa-fw fa-sitemap mr-4\"></i>Webディレクション＋</span><span class=\"d-block\"><i aria-hidden=\"true\" class=\"fa fa-fw fa-object-group mr-4\"></i>Webデザインセット</span></a><a class=\"dropdown-link w-25 px-12 py-8\" href=\"/webdirection-webmarketing-set\"><span class=\"d-block\"><i aria-hidden=\"true\" class=\"fa fa-fw fa-sitemap mr-4\"></i>Webディレクション＋</span><span class=\"d-block\"><i aria-hidden=\"true\" class=\"fa fa-fw fa-line-chart mr-4\"></i>Webマーケティングセット</span></a></div><p class=\"border-bottom border-gray-5 px-12 py-8 mb-12\">3セット割り</p><div class=\"d-flex flex-wrap align-items-start\"><a class=\"dropdown-link w-25 px-12 py-8\" href=\"/webapp-frontend-webdesign-set\"><span class=\"d-block\"><i aria-hidden=\"true\" class=\"fa fa-fw fa-diamond mr-4\"></i>Webアプリ＋</span><span class=\"d-block\"><i aria-hidden=\"true\" class=\"fa fa-fw fa-code mr-4\"></i>フロントエンド＋</span><span class=\"d-block\"><i aria-hidden=\"true\" class=\"fa fa-fw fa-object-group mr-4\"></i>Webデザインセット</span></a><a class=\"dropdown-link w-25 px-12 py-8\" href=\"/php-frontend-webdesign-set\"><span class=\"d-block\"><i aria-hidden=\"true\" class=\"fa-fw fa-original-php mr-4\"></i>PHP/Laravel＋</span><span class=\"d-block\"><i aria-hidden=\"true\" class=\"fa fa-fw fa-code mr-4\"></i>フロントエンド＋</span><span class=\"d-block\"><i aria-hidden=\"true\" class=\"fa fa-fw fa-object-group mr-4\"></i>Webデザインセット</span></a><a class=\"dropdown-link w-25 px-12 py-8\" href=\"/iphone-android-appdesign-set\"><span class=\"d-block\"><i aria-hidden=\"true\" class=\"fa fa-fw fa-apple mr-4\"></i>iPhoneアプリ＋</span><span class=\"d-block\"><i aria-hidden=\"true\" class=\"fa fa-fw fa-android mr-4\"></i>Androidアプリ＋</span><span class=\"d-block\"><i aria-hidden=\"true\" class=\"fa fa-fw fa-tablet mr-4\"></i>UI/UXデザインセット</span></a><a class=\"dropdown-link w-25 px-12 py-8\" href=\"/python-ai-datascience-set\"><span class=\"d-block\"><i aria-hidden=\"true\" class=\"fa fa-fw fa-original-python mr-4\"></i>Python＋</span><span class=\"d-block\"><i aria-hidden=\"true\" class=\"fa fa-fw fa-original-ai mr-4\"></i>AI＋</span><span class=\"d-block\"><i aria-hidden=\"true\" class=\"fa fa-fw fa-pie-chart mr-4\"></i>データサイエンスセット</span></a></div><p class=\"border-bottom border-gray-5 px-12 py-8 mb-12\">特別プラン</p><div class=\"d-flex flex-wrap align-items-start\"><a class=\"dropdown-link w-25 px-12 py-8\" href=\"/unlimited-bootcamp\"><i aria-hidden=\"true\" class=\"fa fa-fw fa-star mr-4\"></i>ウケ放題</a></div></div></div></li><li class=\"nav-item dropdown dropdown-about mr-20\"><a aria-expanded=\"false\" aria-haspopup=\"true\" class=\"nav-link dropdown-toggle py-20\" data-toggle=\"dropdown\" id=\"dropdown-course-about\">はじめての方へ</a><div aria-labelledby=\"dropdown-course-about\" class=\"dropdown-menu dropdown-menu-about p-0 border-top-0\"><div class=\"dropdown-menu-body px-20 my-12\"><div class=\"d-flex\"><a class=\"dropdown-link-service dropdown-link border border-gray-5 p-12 mr-12 mb-12\" href=\"/about\"><span class=\"d-block mb-12\">TechAcademyとは</span><span class=\"d-block display-14\">TechAcademyについての詳しい内容</span></a><a class=\"dropdown-link-service dropdown-link border border-gray-5 p-12 mr-12 mb-12\" href=\"/htmlcss-trial\"><span class=\"d-block mb-12\">無料体験</span><span class=\"d-block display-14\">学習システムを1週間無料で体験</span></a><a class=\"dropdown-link-service dropdown-link border border-gray-5 p-12 mb-12\" href=\"/briefing\"><span class=\"d-block mb-12\">説明会動画</span><span class=\"d-block display-14\">メンターのサポート、学習の進め方などご紹介</span></a></div><div class=\"d-flex\"><a class=\"dropdown-link-service dropdown-link border border-gray-5 p-12 mr-12\" href=\"/diagnoses/top\"><span class=\"d-block mb-12\">オススメコース診断</span><span class=\"d-block display-14\">質問に答えて最適な受講コースを診断</span></a><a class=\"dropdown-link-service dropdown-link border border-gray-5 p-12 mr-12\" href=\"https://techacademy.jp/blog/category/student-interview\"><span class=\"d-block mb-12\">受講生インタビュー</span><span class=\"d-block display-14\">TechAcademyを受講された方の声をご紹介</span></a><a class=\"dropdown-link-service dropdown-link border border-gray-5 p-12\" href=\"/contest\"><span class=\"d-block mb-12\">コンテスト</span><span class=\"d-block display-14\">受講生の作品をエキスパートが審査した結果を公開</span></a></div></div></div></li><li class=\"nav-item dropdown dropdown-support mr-20\"><a aria-expanded=\"false\" aria-haspopup=\"true\" class=\"nav-link dropdown-toggle py-20\" data-toggle=\"dropdown\" id=\"dropdown-course-support\">転職サポート</a><div aria-labelledby=\"dropdown-course-support\" class=\"dropdown-menu dropdown-menu-support p-0 border-top-0\"><div class=\"dropdown-menu-body px-20 my-12\"><div class=\"d-flex\"><a class=\"dropdown-link-service dropdown-link border border-gray-5 p-12 mr-12\" href=\"/pro\" target=\"_blank\"><span class=\"d-block mb-12\">TechAcademy Pro</span><span class=\"d-block display-14\">転職を目的とした学習から転職まで行う特別コース</span></a><a class=\"dropdown-link-service dropdown-link border border-gray-5 p-12 mr-12\" href=\"/pro/lp/jobchange_trial\" target=\"_blank\"><span class=\"d-block mb-12\">無料カウンセリング</span><span class=\"d-block display-14\">マンツーマンで現役エンジニアに相談</span></a><a class=\"dropdown-link-service dropdown-link border border-gray-5 p-12\" href=\"/career\"><span class=\"d-block mb-12\">TechAcademyキャリア</span><span class=\"d-block display-14\">学習で身につけたスキルを武器に転職を目指す</span></a></div></div></div></li><li class=\"nav-item border-right border-left border-gray-5 mr-12\"><a class=\"nav-link py-20 mx-12\" href=\"/biz\">法人のお客様<i aria-hidden=\"true\" class=\"fa fa-angle-right pl-8\"></i></a></li><li class=\"nav-item\"><a class=\"nav-link btn-login brightness-hover-95\" href=\"/login\">ログイン</a></li></ul></div></div></header><main class=\"main\"><div class=\"carousel slide\" data-ride=\"carousel\" id=\"topCarousel\"><ol class=\"carousel-indicators\"></ol><div class=\"carousel-inner\"><div class=\"carousel-item carousel-top-main\"><div class=\"container-lg h-100 px-16 px-md-60\"><div class=\"animated fadeInUp d-flex flex-column justify-content-center align-items-center align-items-lg-baseline h-100\"><h1 class=\"carousel-top-main-title mb-16 text-center text-lg-left font-weight-bold text-white-1\"><span class=\"d-block\">自宅で現役のプロから学べる</span><span class=\"d-block\">オンラインブートキャンプ</span></h1><h2 class=\"carousel-top-main-text display-10 mb-28 text-center text-lg-left line-height-wide text-white-1\"><span class=\"d-block d-sm-inline\">短期間で</span><span class=\"d-block d-sm-inline\">実践的なプログラミング・ITスキル習得</span><span class=\"d-block\">初心者でも挫折させない徹底サポート</span></h2><div class=\"carousel-top-main-btn d-flex flex-column flex-sm-row\"><a class=\"btn rounded-pill btn-billy-white mr-sm-16 mb-16 mb-sm-0\" href=\"/lp-htmlcss-trial-s\" target=\"_blank\">無料で体験する</a><a class=\"btn rounded-pill btn-ghost-white text-white-1 border-white-1 border-width-2\" href=\"#top-bootcamp\">コースを探す</a></div></div></div></div><div class=\"carousel-item\"><div class=\"bg-image-full h-100\" style=\"background-image: url(https://s3-ap-northeast-1.amazonaws.com/techacademy-bootcamp/promotions/background_images/146/original/bg.jpg?1607649916);background-position: center;\"><div class=\"container-lg h-100 px-16 px-md-60\"><div class=\"animated fadeInUp d-flex flex-column justify-content-center align-items-center h-100\"><h2><img alt=\"来年から本気出すキャンペーン\" class=\"img-fluid carousel-top-campaign-image mb-md-12\" src=\"https://s3-ap-northeast-1.amazonaws.com/techacademy-bootcamp/promotions/title_images/146/original/title.png?1607649916\" /></h2><h3 class=\"carousel-top-campaign-text line-height-wide text-center mb-12 mb-md-24\" style=\"color: #333333; text-shadow: 0 0 3px #ffffff\"><span class=\"d-inline d-md-block\">8・12・16・24週間プランのいずれかにお申し込みいただくと、\n",
      "</span><span class=\"d-inline d-md-block\">もれなく「UI/UXデザインコース」または「Webディレクションコース」のカリキュラムをプレゼント！\n",
      "</span><span class=\"d-inline d-md-block\">2021年こそは勉強を始めてみませんか！？</span></h3><div class=\"btn-wrap\"><a class=\"btn rounded-pill btn-ghost-white border-width-2\" style=\"color: #333333; border-color: #333333; text-shadow: 0 0 3px #ffffff; box-shadow: 0 0 3px #ffffff\" href=\"#top-bootcamp\">対象となるコースを見る</a></div></div></div></div></div><div class=\"carousel-item\"><div class=\"bg-carousel-top-pro-grad h-100\"><div class=\"bg-carousel-top-pro bg-image-full h-100\"><div class=\"container-lg h-100 px-16 px-md-60\"><div class=\"carousel-top-pro-inner d-flex flex-column justify-content-end justify-content-sm-center align-items-center h-100\"><div class=\"animated fadeInUp\"><img class=\"d-none d-sm-block carousel-top-pro-logo mb-md-16\" src=\"https://techacademy-bootcamp.s3.amazonaws.com/assets/pro/common/logo/white-96535ea811458d995a90473eacc715861a9f8e81954f99cf1f7ed54de0f49828.svg\" alt=\"White\" /><h3 class=\"carousel-top-pro-title d-none d-md-block display-11 text-white-1 font-weight-bold text-shadow line-height-wide pb-md-4 mb-20\">現役エンジニアとキャリアカウンセラーが学習から転職までサポート</h3><h2 class=\"mb-0 mb-md-48\"><picture class=\"d-block\"><source class=\"carousel-top-pro-image-course img-fluid\" media=\"(max-width: 575.98px)\" srcset=\"https://techacademy-bootcamp.s3.amazonaws.com/assets/billy/top/cover/pro-text-04099e6600511978ccce638c8ddb551a8f735a756a1f41feb3abbc1b55b386b2.svg\" /><source class=\"carousel-top-pro-image-course img-fluid\" media=\"(max-width: 767.98px)\" srcset=\"https://techacademy-bootcamp.s3.amazonaws.com/assets/billy/top/cover/pro-text-tablet-84640ddb7b0947a310e8b0a759aa05015caeebbbc80c8a7027c2fe17f1e4217d.svg\" /><img class=\"carousel-top-pro-image-course img-fluid\" src=\"https://techacademy-bootcamp.s3.amazonaws.com/assets/billy/top/cover/pro-text-04099e6600511978ccce638c8ddb551a8f735a756a1f41feb3abbc1b55b386b2.svg\" /></picture></h2></div><div class=\"text-center mb-48 mb-sm-0 mb-md-48\"><a class=\"btn rounded-pill btn-ghost-white border-white-1 border-width-2\" href=\"/pro\" target=\"_blank\">詳細を見る</a></div></div></div></div></div></div></div><a class=\"carousel-control carousel-control-prev d-none d-md-flex\" data-slide=\"prev\" href=\"#topCarousel\" role=\"button\"><span aria-hidden=\"true\" class=\"carousel-control-prev-icon\"></span><span class=\"sr-only\">Previous</span></a><a class=\"carousel-control carousel-control-next d-none d-md-flex\" data-slide=\"next\" href=\"#topCarousel\" role=\"button\"><span aria-hidden=\"true\" class=\"carousel-control-next-icon\"></span><span class=\"sr-only\">Next</span></a><script>$(function() {\n",
      "  var num = $(\"#topCarousel\").find(\".carousel-item\").length;\n",
      "  // sliderの1番目にclassを付与\n",
      "  var obj = $(\"#topCarousel\").find(\".carousel-item\");\n",
      "  $(obj).eq(0).addClass(\"active\");\n",
      "  // sliderのインジケーターのliを作る\n",
      "  for (var i=0; i<num; i++){\n",
      "    var slideNum = i;\n",
      "    $(\".carousel-indicators\").append(\"<li></li>\");\n",
      "    $(\".carousel-indicators\").find(\"li\").attr('data-target', '#topCarousel');\n",
      "    $(\".carousel-indicators\").find(\"li\").attr('class', 'top-indicator');\n",
      "  }\n",
      "  // slideのインジケーターにacitveクラス付与\n",
      "  var liObj = $(\".carousel-indicators\").find(\".top-indicator\");\n",
      "  $(liObj).eq(0).addClass(\"active\");\n",
      "  $(liObj).each(function(i){\n",
      "    $(this).attr(\"data-slide-to\", (i));\n",
      "  });\n",
      "});</script></div><div class=\"container-fluid d-flex flex-lg-row flex-column px-0\"><section class=\"d-flex flex-md-row flex-column justify-content-center align-items-center flex-fill p-16 bg-banner-top1students\"><div class=\"position-relative title-banner-top1students\"><img alt=\"受講者数No1\" src=\"https://techacademy-bootcamp.s3.amazonaws.com/assets/banner-no1-9ab149924c4ae8e3dcfeb5f07cc7a04901afacc10c7d49c8e4b4a9c698b6116a.svg\" /></div><div class=\"d-block text-white-1 display-14\"><div class=\"d-flex\"><span class=\"top1students-contents-nowrap\">調査委託</span><span class=\"pl-3\">マクロミル</span></div><div class=\"d-flex\"><span class=\"top1students-contents-nowrap\">調査期間</span><span class=\"pl-3\">2020年8月8日～8月17日</span></div><div class=\"d-flex\"><span class=\"top1students-contents-nowrap\">調査対象</span><span class=\"pl-3\">オンラインプログラミングスクールを受講した18～59歳の男女1,004名</span></div><div class=\"d-flex\"><span class=\"top1students-contents-nowrap\">調査手法</span><span class=\"pl-3\">インターネット調査</span></div></div></section></div><section class=\"bg-striped py-48 py-sm-80\" id=\"top-pickup\"><div class=\"container-lg\"><div class=\"d-flex flex-column flex-md-row flex-wrap\"><a class=\"col-12 col-lg-6 mb-28\" href=\"/lp-htmlcss-trial-s\" target=\"_blank\"><div class=\"d-flex flex-column flex-sm-row no-gutters p-sm-16 bg-white shadow-original brightness-hover-95 h-100\"><div class=\"pickup-top-img mr-sm-16\"><img alt=\"ブートキャンプを無料で体験\" class=\"border border-gray-9\" src=\"https://assets.techacademy.jp/assets/billy/top/pickup/pichup-1-0302fb4f95da9e959456908fec3dabef9b0819d333a6deba69b7584cde019c79.jpg\" /></div><div class=\"pickup-top-txt p-16 p-sm-0\"><h2 class=\"display-11 text-black-1 font-weight-bold line-height-wide letter-spacing-0 mb-8\">ブートキャンプを無料で体験</h2><p class=\"display-12 text-gray-3 mb-0\">学習システムやカリキュラムをご覧いただけます。受講をお考えの方はぜひご利用ください。</p></div></div></a><a class=\"col-12 col-lg-6 mb-28\" href=\"/diagnoses/top\" target=\"_blank\"><div class=\"d-flex flex-column flex-sm-row no-gutters p-sm-16 bg-white shadow-original brightness-hover-95 h-100\"><div class=\"pickup-top-img mr-sm-16\"><img alt=\"目的別におすすめコースを診断\" class=\"border border-gray-9\" src=\"https://assets.techacademy.jp/assets/billy/top/pickup/pichup-2-c246597a61a60b5c4c37d3ad31c32bb73f16287cad6223008f6275d749ce67c8.jpg\" /></div><div class=\"pickup-top-txt p-16 p-sm-0\"><h2 class=\"display-11 text-black-1 font-weight-bold line-height-wide letter-spacing-0 mb-8\">目的別におすすめコースを診断</h2><p class=\"display-12 text-gray-3 mb-0\">どのコースが合っているかわからない！そんなあなたにおすすめのコースを診断します。</p></div></div></a><a class=\"col-12 col-lg-6 mb-28 mb-lg-0\" href=\"/pro\" target=\"_blank\"><div class=\"d-flex flex-column flex-sm-row no-gutters p-sm-16 bg-white shadow-original brightness-hover-95 h-100\"><div class=\"pickup-top-img mr-sm-16\"><img alt=\"TechAcademy Pro\" class=\"border border-gray-9\" src=\"https://assets.techacademy.jp/assets/billy/top/pickup/pichup-3-2968d5787897f1767df28d563cbe6c858f717cd1c0299e13e4baf43c6be8a385.jpg\" /></div><div class=\"pickup-top-txt p-16 p-sm-0\"><h2 class=\"display-11 text-black-1 font-weight-bold line-height-wide letter-spacing-0 mb-8\">TechAcademy Pro</h2><p class=\"display-12 text-gray-3 mb-0\">未経験から12週間でエンジニアへ。プログラミング習得して転職できなければ授業料の返金保証あり。</p></div></div></a><a class=\"col-12 col-lg-6\" href=\"https://junior.techacademy.jp/lp/curriculum_trial\" target=\"_blank\"><div class=\"d-flex flex-column flex-sm-row no-gutters p-sm-16 bg-white shadow-original brightness-hover-95 h-100\"><div class=\"pickup-top-img mr-sm-16\"><img alt=\"TechAcademyジュニア オンライン体験\" class=\"border border-gray-9\" src=\"https://assets.techacademy.jp/assets/billy/top/pickup/pichup-4-b702c039a41b3644a468e4e8f66df44a7311af0478bc61e2608362ff10fc751b.jpg\" /></div><div class=\"pickup-top-txt p-16 p-sm-0\"><h2 class=\"display-11 text-black-1 font-weight-bold line-height-wide letter-spacing-0 mb-8\">TechAcademyジュニア オンライン体験</h2><p class=\"display-12 text-gray-3 mb-0\">子ども向けプログラミング教室。独自の学習方法を無料で体験できます！</p></div></div></a></div></div></section><section class=\"bg-striped\" id=\"top-bootcamp\"><div class=\"container-lg py-48 py-sm-80\"><h2 class=\"title-top-category text-center mx-16 mb-24\">ブートキャンプ</h2><p class=\"wow fadeInUp text-gray-3 text-center mx-16 mb-48\">現役のプロのマンツーマンメンタリングで実践的スキルを習得</p><h3 class=\"display-12 text-center border-headline border-gray-1 mx-16 mb-20\" id=\"top-category-programming\">プログラミング</h3><div class=\"wow fadeInUp d-flex justify-content-center flex-wrap mb-20\"><div class=\"col-12 col-sm-6 col-lg-4 text-center pb-28\"><a class=\"d-flex flex-column align-items-center text-white-1 bg-course-rails-1 rounded brightness-hover-80 h-100 p-16\" href=\"rails-bootcamp\"><i aria-hidden=\"true\" class=\"display-7 mb-12 fa fa-diamond\"></i><h3 class=\"display-11 font-weight-bold letter-spacing-spread border-bottom w-100 pb-12 mb-12\" style=\"line-height: 1.5;\">Webアプリケーション<span class=\"d-block\">コース</span></h3><div><i class=\"fa fa-clock-o pr-4\"></i>申込締切<br /><span class=\"font-weight-bold pr-4\">12</span>月<span class=\"font-weight-bold px-4\">20</span>日 26時</div></a></div><div class=\"col-12 col-sm-6 col-lg-4 text-center pb-28\"><a class=\"d-flex flex-column align-items-center text-white-1 bg-course-php-1 rounded brightness-hover-80 h-100 p-16\" href=\"php-bootcamp\"><i aria-hidden=\"true\" class=\"display-7 mb-12 fa-original-php fa-original-no-dw\"></i><h3 class=\"display-11 font-weight-bold letter-spacing-spread border-bottom w-100 pb-12 mb-12\" style=\"line-height: 1.5;\">PHP/Laravel<span class=\"d-block\">コース</span></h3><div><i class=\"fa fa-clock-o pr-4\"></i>申込締切<br /><span class=\"font-weight-bold pr-4\">12</span>月<span class=\"font-weight-bold px-4\">20</span>日 26時</div></a></div><div class=\"col-12 col-sm-6 col-lg-4 text-center pb-28\"><a class=\"d-flex flex-column align-items-center text-white-1 bg-course-java-1 rounded brightness-hover-80 h-100 p-16\" href=\"java-bootcamp\"><i aria-hidden=\"true\" class=\"display-7 mb-12 fa-original-java fa-original-no-dw\"></i><h3 class=\"display-11 font-weight-bold letter-spacing-spread border-bottom w-100 pb-12 mb-12\" style=\"line-height: 1.5;\">Java<span class=\"d-block\">コース</span></h3><div><i class=\"fa fa-clock-o pr-4\"></i>申込締切<br /><span class=\"font-weight-bold pr-4\">12</span>月<span class=\"font-weight-bold px-4\">20</span>日 26時</div></a></div><div class=\"col-12 col-sm-6 col-lg-4 text-center pb-28\"><a class=\"d-flex flex-column align-items-center text-white-1 bg-course-frontend-1 rounded brightness-hover-80 h-100 p-16\" href=\"frontend-bootcamp\"><i aria-hidden=\"true\" class=\"display-7 mb-12 fa fa-code\"></i><h3 class=\"display-11 font-weight-bold letter-spacing-spread border-bottom w-100 pb-12 mb-12\" style=\"line-height: 1.5;\">フロントエンド<span class=\"d-block\">コース</span></h3><div><i class=\"fa fa-clock-o pr-4\"></i>申込締切<br /><span class=\"font-weight-bold pr-4\">12</span>月<span class=\"font-weight-bold px-4\">20</span>日 26時</div></a></div><div class=\"col-12 col-sm-6 col-lg-4 text-center pb-28\"><a class=\"d-flex flex-column align-items-center text-white-1 bg-course-wordpress-1 rounded brightness-hover-80 h-100 p-16\" href=\"wordpress-bootcamp\"><i aria-hidden=\"true\" class=\"display-7 mb-12 fa fa-wordpress\"></i><h3 class=\"display-11 font-weight-bold letter-spacing-spread border-bottom w-100 pb-12 mb-12\" style=\"line-height: 1.5;\">WordPress<span class=\"d-block\">コース</span></h3><div><i class=\"fa fa-clock-o pr-4\"></i>申込締切<br /><span class=\"font-weight-bold pr-4\">12</span>月<span class=\"font-weight-bold px-4\">20</span>日 26時</div></a></div><div class=\"col-12 col-sm-6 col-lg-4 text-center pb-28\"><a class=\"d-flex flex-column align-items-center text-white-1 bg-course-iphone-1 rounded brightness-hover-80 h-100 p-16\" href=\"iphone-bootcamp\"><i aria-hidden=\"true\" class=\"display-7 mb-12 fa fa-apple\"></i><h3 class=\"display-11 font-weight-bold letter-spacing-spread border-bottom w-100 pb-12 mb-12\" style=\"line-height: 1.5;\">iPhoneアプリ<span class=\"d-block\">コース</span></h3><div><i class=\"fa fa-clock-o pr-4\"></i>申込締切<br /><span class=\"font-weight-bold pr-4\">12</span>月<span class=\"font-weight-bold px-4\">20</span>日 26時</div></a></div><div class=\"col-12 col-sm-6 col-lg-4 text-center pb-28\"><a class=\"d-flex flex-column align-items-center text-white-1 bg-course-android-1 rounded brightness-hover-80 h-100 p-16\" href=\"android-bootcamp\"><i aria-hidden=\"true\" class=\"display-7 mb-12 fa fa-android\"></i><h3 class=\"display-11 font-weight-bold letter-spacing-spread border-bottom w-100 pb-12 mb-12\" style=\"line-height: 1.5;\">Androidアプリ<span class=\"d-block\">コース</span></h3><div><i class=\"fa fa-clock-o pr-4\"></i>申込締切<br /><span class=\"font-weight-bold pr-4\">12</span>月<span class=\"font-weight-bold px-4\">20</span>日 26時</div></a></div><div class=\"col-12 col-sm-6 col-lg-4 text-center pb-28\"><a class=\"d-flex flex-column align-items-center text-white-1 bg-course-unity-1 rounded brightness-hover-80 h-100 p-16\" href=\"unity-bootcamp\"><i aria-hidden=\"true\" class=\"display-7 mb-12 fa-original-unity fa-original-no-dw\"></i><h3 class=\"display-11 font-weight-bold letter-spacing-spread border-bottom w-100 pb-12 mb-12\" style=\"line-height: 1.5;\">Unity<span class=\"d-block\">コース</span></h3><div><i class=\"fa fa-clock-o pr-4\"></i>申込締切<br /><span class=\"font-weight-bold pr-4\">12</span>月<span class=\"font-weight-bold px-4\">20</span>日 26時</div></a></div><div class=\"col-12 col-sm-6 col-lg-4 text-center pb-28\"><a class=\"d-flex flex-column align-items-center text-white-1 bg-course-first-programming-1 rounded brightness-hover-80 h-100 p-16\" href=\"first-programming-bootcamp\"><i aria-hidden=\"true\" class=\"display-7 mb-12 fa fa-leaf\"></i><h3 class=\"display-11 font-weight-bold letter-spacing-spread border-bottom w-100 pb-12 mb-12\" style=\"line-height: 1.5;\">はじめてのプログラミング<span class=\"d-block\">コース</span></h3><div><i class=\"fa fa-clock-o pr-4\"></i>申込締切<br /><span class=\"font-weight-bold pr-4\">12</span>月<span class=\"font-weight-bold px-4\">20</span>日 26時</div></a></div><div class=\"col-12 col-sm-6 col-lg-4 text-center pb-28\"><a class=\"d-flex flex-column align-items-center text-white-1 bg-course-blockchain-basic-1 rounded brightness-hover-80 h-100 p-16\" href=\"blockchain-basic-bootcamp\"><i aria-hidden=\"true\" class=\"display-7 mb-12 fa fa-bitcoin\"></i><h3 class=\"display-11 font-weight-bold letter-spacing-spread border-bottom w-100 pb-12 mb-12\" style=\"line-height: 1.5;\">ブロックチェーン<span class=\"d-block\">コース</span></h3><div><i class=\"fa fa-clock-o pr-4\"></i>申込締切<br /><span class=\"font-weight-bold pr-4\">12</span>月<span class=\"font-weight-bold px-4\">20</span>日 26時</div></a></div><div class=\"col-12 col-sm-6 col-lg-4 text-center pb-28\"><a class=\"d-flex flex-column align-items-center text-white-1 bg-course-blockchain-1 rounded brightness-hover-80 h-100 p-16\" href=\"blockchain-bootcamp\"><i aria-hidden=\"true\" class=\"display-7 mb-12 fa fa-link\"></i><h3 class=\"display-11 font-weight-bold letter-spacing-spread border-bottom w-100 pb-12 mb-12\" style=\"line-height: 1.5;\">スマートコントラクト<span class=\"d-block\">コース</span></h3><div><i class=\"fa fa-clock-o pr-4\"></i>申込締切<br /><span class=\"font-weight-bold pr-4\">12</span>月<span class=\"font-weight-bold px-4\">20</span>日 26時</div></a></div><div class=\"col-12 col-sm-6 col-lg-4 text-center pb-28\"><a class=\"d-flex flex-column align-items-center text-white-1 bg-course-python-1 rounded brightness-hover-80 h-100 p-16\" href=\"python-bootcamp\"><i aria-hidden=\"true\" class=\"display-7 mb-12 fa-original-python fa-original-no-dw\"></i><h3 class=\"display-11 font-weight-bold letter-spacing-spread border-bottom w-100 pb-12 mb-12\" style=\"line-height: 1.5;\">Python<span class=\"d-block\">コース</span></h3><div><i class=\"fa fa-clock-o pr-4\"></i>申込締切<br /><span class=\"font-weight-bold pr-4\">12</span>月<span class=\"font-weight-bold px-4\">20</span>日 26時</div></a></div><div class=\"col-12 col-sm-6 col-lg-4 text-center pb-28\"><a class=\"d-flex flex-column align-items-center text-white-1 bg-course-ai-1 rounded brightness-hover-80 h-100 p-16\" href=\"ai-bootcamp\"><i aria-hidden=\"true\" class=\"display-7 mb-12 fa-original-ai fa-original-no-dw\"></i><h3 class=\"display-11 font-weight-bold letter-spacing-spread border-bottom w-100 pb-12 mb-12\" style=\"line-height: 1.5;\">AI<span class=\"d-block\">コース</span></h3><div><i class=\"fa fa-clock-o pr-4\"></i>申込締切<br /><span class=\"font-weight-bold pr-4\">12</span>月<span class=\"font-weight-bold px-4\">20</span>日 26時</div></a></div><div class=\"col-12 col-sm-6 col-lg-4 text-center pb-28\"><a class=\"d-flex flex-column align-items-center text-white-1 bg-course-datascience-1 rounded brightness-hover-80 h-100 p-16\" href=\"datascience-bootcamp\"><i aria-hidden=\"true\" class=\"display-7 mb-12 fa fa-pie-chart\"></i><h3 class=\"display-11 font-weight-bold letter-spacing-spread border-bottom w-100 pb-12 mb-12\" style=\"line-height: 1.5;\">データサイエンス<span class=\"d-block\">コース</span></h3><div><i class=\"fa fa-clock-o pr-4\"></i>申込締切<br /><span class=\"font-weight-bold pr-4\">12</span>月<span class=\"font-weight-bold px-4\">20</span>日 26時</div></a></div><div class=\"col-12 col-sm-6 col-lg-4 text-center pb-28\"><a class=\"d-flex flex-column align-items-center text-white-1 bg-course-scala-1 rounded brightness-hover-80 h-100 p-16\" href=\"scala-bootcamp\"><i aria-hidden=\"true\" class=\"display-7 mb-12 fa-original-scala fa-original-no-dw\"></i><h3 class=\"display-11 font-weight-bold letter-spacing-spread border-bottom w-100 pb-12 mb-12\" style=\"line-height: 1.5;\">Scala<span class=\"d-block\">コース</span></h3><div><i class=\"fa fa-clock-o pr-4\"></i>申込締切<br /><span class=\"font-weight-bold pr-4\">12</span>月<span class=\"font-weight-bold px-4\">20</span>日 26時</div></a></div><div class=\"col-12 col-sm-6 col-lg-4 text-center pb-28\"><a class=\"d-flex flex-column align-items-center text-white-1 bg-course-node-js-1 rounded brightness-hover-80 h-100 p-16\" href=\"node-js-bootcamp\"><i aria-hidden=\"true\" class=\"display-7 mb-12 fa-original-node fa-original-no-dw\"></i><h3 class=\"display-11 font-weight-bold letter-spacing-spread border-bottom w-100 pb-12 mb-12\" style=\"line-height: 1.5;\">Node.js<span class=\"d-block\">コース</span></h3><div><i class=\"fa fa-clock-o pr-4\"></i>申込締切<br /><span class=\"font-weight-bold pr-4\">12</span>月<span class=\"font-weight-bold px-4\">20</span>日 26時</div></a></div><div class=\"col-12 col-sm-6 col-lg-4 text-center pb-28\"><a class=\"d-flex flex-column align-items-center text-white-1 bg-course-gas-1 rounded brightness-hover-80 h-100 p-16\" href=\"gas-bootcamp\"><i aria-hidden=\"true\" class=\"display-7 mb-12 fa-original-gas fa-original-no-dw\"></i><h3 class=\"display-11 font-weight-bold letter-spacing-spread border-bottom w-100 pb-12 mb-12\" style=\"line-height: 1.5;\">Google Apps Script<span class=\"d-block\">コース</span></h3><div><i class=\"fa fa-clock-o pr-4\"></i>申込締切<br /><span class=\"font-weight-bold pr-4\">12</span>月<span class=\"font-weight-bold px-4\">20</span>日 26時</div></a></div></div><h3 class=\"display-12 text-center border-headline border-gray-1 mx-16 mb-20\" id=\"top-category-design\">デザイン</h3><div class=\"wow fadeInUp d-flex justify-content-center flex-wrap mb-20\"><div class=\"col-12 col-sm-6 col-lg-4 text-center pb-28\"><a class=\"d-flex flex-column align-items-center text-white-1 bg-course-webdesign-1 rounded brightness-hover-80 h-100 p-16\" href=\"webdesign-bootcamp\"><i aria-hidden=\"true\" class=\"display-7 mb-12 fa fa-object-group\"></i><h3 class=\"display-11 font-weight-bold letter-spacing-spread border-bottom w-100 pb-12 mb-12\" style=\"line-height: 1.5;\">Webデザイン<span class=\"d-block\">コース</span></h3><div><i class=\"fa fa-clock-o pr-4\"></i>申込締切<br /><span class=\"font-weight-bold pr-4\">12</span>月<span class=\"font-weight-bold px-4\">20</span>日 26時</div></a></div><div class=\"col-12 col-sm-6 col-lg-4 text-center pb-28\"><a class=\"d-flex flex-column align-items-center text-white-1 bg-course-appdesign-1 rounded brightness-hover-80 h-100 p-16\" href=\"appdesign-bootcamp\"><i aria-hidden=\"true\" class=\"display-7 mb-12 fa fa-tablet\"></i><h3 class=\"display-11 font-weight-bold letter-spacing-spread border-bottom w-100 pb-12 mb-12\" style=\"line-height: 1.5;\">UI/UXデザイン<span class=\"d-block\">コース</span></h3><div><i class=\"fa fa-clock-o pr-4\"></i>申込締切<br /><span class=\"font-weight-bold pr-4\">12</span>月<span class=\"font-weight-bold px-4\">20</span>日 26時</div></a></div><div class=\"col-12 col-sm-6 col-lg-4 text-center pb-28\"><a class=\"d-flex flex-column align-items-center text-white-1 bg-course-videoediting-1 rounded brightness-hover-80 h-100 p-16\" href=\"videoediting-bootcamp\"><i aria-hidden=\"true\" class=\"display-7 mb-12 fa fa-film\"></i><h3 class=\"display-11 font-weight-bold letter-spacing-spread border-bottom w-100 pb-12 mb-12\" style=\"line-height: 1.5;\">動画編集<span class=\"d-block\">コース</span></h3><div><i class=\"fa fa-clock-o pr-4\"></i>申込締切<br /><span class=\"font-weight-bold pr-4\">12</span>月<span class=\"font-weight-bold px-4\">20</span>日 26時</div></a></div><div class=\"col-12 col-sm-6 col-lg-4 text-center pb-28\"><a class=\"d-flex flex-column align-items-center text-white-1 bg-course-video-ad-1 rounded brightness-hover-80 h-100 p-16\" href=\"video-ad-bootcamp\"><i aria-hidden=\"true\" class=\"display-7 mb-12 fa fa-original-video-ad\"></i><h3 class=\"display-11 font-weight-bold letter-spacing-spread border-bottom w-100 pb-12 mb-12\" style=\"line-height: 1.5;\">動画広告クリエイター<span class=\"d-block\">コース</span></h3><div><i class=\"fa fa-clock-o pr-4\"></i>申込締切<br /><span class=\"font-weight-bold pr-4\">12</span>月<span class=\"font-weight-bold px-4\">20</span>日 26時</div></a></div></div><h3 class=\"display-12 text-center border-headline border-gray-1 mx-16 mb-20\" id=\"top-category-management\">マネジメント</h3><div class=\"wow fadeInUp d-flex justify-content-center flex-wrap mb-20\"><div class=\"col-12 col-sm-6 col-lg-4 text-center pb-28\"><a class=\"d-flex flex-column align-items-center text-white-1 bg-course-webdirection-1 rounded brightness-hover-80 h-100 p-16\" href=\"webdirection-bootcamp\"><i aria-hidden=\"true\" class=\"display-7 mb-12 fa fa-sitemap\"></i><h3 class=\"display-11 font-weight-bold letter-spacing-spread border-bottom w-100 pb-12 mb-12\" style=\"line-height: 1.5;\">Webディレクション<span class=\"d-block\">コース</span></h3><div><i class=\"fa fa-clock-o pr-4\"></i>申込締切<br /><span class=\"font-weight-bold pr-4\">12</span>月<span class=\"font-weight-bold px-4\">20</span>日 26時</div></a></div><div class=\"col-12 col-sm-6 col-lg-4 text-center pb-28\"><a class=\"d-flex flex-column align-items-center text-white-1 bg-course-webmarketing-1 rounded brightness-hover-80 h-100 p-16\" href=\"webmarketing-bootcamp\"><i aria-hidden=\"true\" class=\"display-7 mb-12 fa fa-line-chart\"></i><h3 class=\"display-11 font-weight-bold letter-spacing-spread border-bottom w-100 pb-12 mb-12\" style=\"line-height: 1.5;\">Webマーケティング<span class=\"d-block\">コース</span></h3><div><i class=\"fa fa-clock-o pr-4\"></i>申込締切<br /><span class=\"font-weight-bold pr-4\">12</span>月<span class=\"font-weight-bold px-4\">20</span>日 26時</div></a></div></div><h3 class=\"display-12 text-center border-headline border-gray-1 mx-16 mb-20\" id=\"top-category-2set\">2セット割</h3><div class=\"wow fadeInUp text-center mb-16\"><div class=\"alert alert-info bg-billy-info-1 d-inline-block text-white font-weight-bold letter-spacing-spread border-0 mx-16\"><i class=\"fa fa-info-circle display-13 mr-4\"></i><p class=\"d-inline\"><span class=\"display-12\">セットで受講すると最大</span><span class=\"display-11\">60,000</span><span class=\"display-12\">円もお得！</span></p></div></div><div class=\"wow fadeInUp d-flex justify-content-center flex-wrap mb-20\"><div class=\"col-12 col-sm-6 col-lg-4 text-center pb-28\"><a class=\"d-flex flex-column align-items-center text-white-1 bg-webapp-frontend-set-image-s bg-image-full rounded brightness-hover-80 h-100 p-16\" href=\"webapp-frontend-set\"><img alt=\"Webアプリケーション+フロントエンドセット\" class=\"img-fluid mb-12 mb-md-16\" style=\"width: 30%;\" src=\"https://techacademy-bootcamp.s3.amazonaws.com/assets/icon/set/webapp-frontend-set-43b579d601d8bd34ffb5ebc6dd9f0134ea24391bee003704e57a12379800a269.svg\" /><h3 class=\"display-11 font-weight-bold letter-spacing-spread border-bottom w-100 px-0 pb-12 pb-md-28 px-md-16 mb-12\" style=\"line-height: 1.5;\">Webアプリケーション<span class=\"d-inline d-md-block\"><i class=\"fa fa-plus-circle\"></i></span>フロントエンドセット</h3><div><i class=\"fa fa-clock-o pr-4\"></i>申込締切<br /><span class=\"font-weight-bold pr-4\">12</span>月<span class=\"font-weight-bold px-4\">20</span>日 26時</div></a></div><div class=\"col-12 col-sm-6 col-lg-4 text-center pb-28\"><a class=\"d-flex flex-column align-items-center text-white-1 bg-php-frontend-set-image-s bg-image-full rounded brightness-hover-80 h-100 p-16\" href=\"php-frontend-set\"><img alt=\"PHP/Laravel+フロントエンドセット\" class=\"img-fluid mb-12 mb-md-16\" style=\"width: 30%;\" src=\"https://techacademy-bootcamp.s3.amazonaws.com/assets/icon/set/php-frontend-set-acb2aef4d5313678963e8ab7efd82d5a280552fc76f4ff6cf77d89738fecd30c.svg\" /><h3 class=\"display-11 font-weight-bold letter-spacing-spread border-bottom w-100 px-0 pb-12 pb-md-28 px-md-16 mb-12\" style=\"line-height: 1.5;\">PHP/Laravel<span class=\"d-inline d-md-block\"><i class=\"fa fa-plus-circle\"></i></span>フロントエンドセット</h3><div><i class=\"fa fa-clock-o pr-4\"></i>申込締切<br /><span class=\"font-weight-bold pr-4\">12</span>月<span class=\"font-weight-bold px-4\">20</span>日 26時</div></a></div><div class=\"col-12 col-sm-6 col-lg-4 text-center pb-28\"><a class=\"d-flex flex-column align-items-center text-white-1 bg-webdesign-wordpress-set-image-s bg-image-full rounded brightness-hover-80 h-100 p-16\" href=\"webdesign-wordpress-set\"><img alt=\"Webデザイン+WordPressセット\" class=\"img-fluid mb-12 mb-md-16\" style=\"width: 30%;\" src=\"https://techacademy-bootcamp.s3.amazonaws.com/assets/icon/set/webdesign-wordpress-set-abe7d622d616fea35f27286f429f02588ca8b0cca0b1cf81ceae7eb5295fa63e.svg\" /><h3 class=\"display-11 font-weight-bold letter-spacing-spread border-bottom w-100 px-0 pb-12 pb-md-28 px-md-16 mb-12\" style=\"line-height: 1.5;\">Webデザイン<span class=\"d-inline d-md-block\"><i class=\"fa fa-plus-circle\"></i></span>WordPressセット</h3><div><i class=\"fa fa-clock-o pr-4\"></i>申込締切<br /><span class=\"font-weight-bold pr-4\">12</span>月<span class=\"font-weight-bold px-4\">20</span>日 26時</div></a></div><div class=\"col-12 col-sm-6 col-lg-4 text-center pb-28\"><a class=\"d-flex flex-column align-items-center text-white-1 bg-webdesign-webmarketing-set-image-s bg-image-full rounded brightness-hover-80 h-100 p-16\" href=\"webdesign-webmarketing-set\"><img alt=\"Webデザイン+Webマーケティングセット\" class=\"img-fluid mb-12 mb-md-16\" style=\"width: 30%;\" src=\"https://techacademy-bootcamp.s3.amazonaws.com/assets/icon/set/webdesign-webmarketing-set-78d551421c32b5490ff04adc702faabfaee9fe10ca175cc54571348eefb42334.svg\" /><h3 class=\"display-11 font-weight-bold letter-spacing-spread border-bottom w-100 px-0 pb-12 pb-md-28 px-md-16 mb-12\" style=\"line-height: 1.5;\">Webデザイン<span class=\"d-inline d-md-block\"><i class=\"fa fa-plus-circle\"></i></span>Webマーケティングセット</h3><div><i class=\"fa fa-clock-o pr-4\"></i>申込締切<br /><span class=\"font-weight-bold pr-4\">12</span>月<span class=\"font-weight-bold px-4\">20</span>日 26時</div></a></div><div class=\"col-12 col-sm-6 col-lg-4 text-center pb-28\"><a class=\"d-flex flex-column align-items-center text-white-1 bg-wordpress-webmarketing-set-image-s bg-image-full rounded brightness-hover-80 h-100 p-16\" href=\"wordpress-webmarketing-set\"><img alt=\"WordPress+Webマーケティングセット\" class=\"img-fluid mb-12 mb-md-16\" style=\"width: 30%;\" src=\"https://techacademy-bootcamp.s3.amazonaws.com/assets/icon/set/wordpress-webmarketing-set-88e39daf95ae8898a66b09532c9e198128a4b41fdcdf7390350f7596c4983dc9.svg\" /><h3 class=\"display-11 font-weight-bold letter-spacing-spread border-bottom w-100 px-0 pb-12 pb-md-28 px-md-16 mb-12\" style=\"line-height: 1.5;\">WordPress<span class=\"d-inline d-md-block\"><i class=\"fa fa-plus-circle\"></i></span>Webマーケティングセット</h3><div><i class=\"fa fa-clock-o pr-4\"></i>申込締切<br /><span class=\"font-weight-bold pr-4\">12</span>月<span class=\"font-weight-bold px-4\">20</span>日 26時</div></a></div><div class=\"col-12 col-sm-6 col-lg-4 text-center pb-28\"><a class=\"d-flex flex-column align-items-center text-white-1 bg-blockchain-set-image-s bg-image-full rounded brightness-hover-80 h-100 p-16\" href=\"blockchain-set\"><img alt=\"ブロックチェーンセット\" class=\"img-fluid mb-12 mb-md-16\" style=\"width: 30%;\" src=\"https://techacademy-bootcamp.s3.amazonaws.com/assets/icon/set/blockchain-set-1abb3066df632120d91f7907448d3b7815dbcde989c60481f74b555837c6a606.svg\" /><h3 class=\"display-11 font-weight-bold letter-spacing-spread border-bottom w-100 px-0 pb-12 pb-md-28 px-md-16 mb-12\" style=\"line-height: 1.5;\">ブロックチェーンセット</h3><div><i class=\"fa fa-clock-o pr-4\"></i>申込締切<br /><span class=\"font-weight-bold pr-4\">12</span>月<span class=\"font-weight-bold px-4\">20</span>日 26時</div></a></div><div class=\"col-12 col-sm-6 col-lg-4 text-center pb-28\"><a class=\"d-flex flex-column align-items-center text-white-1 bg-python-ai-set-image-s bg-image-full rounded brightness-hover-80 h-100 p-16\" href=\"python-ai-set\"><img alt=\"Python+AIセット\" class=\"img-fluid mb-12 mb-md-16\" style=\"width: 30%;\" src=\"https://techacademy-bootcamp.s3.amazonaws.com/assets/icon/set/python-ai-set-4444bf967cbf6ccc7a682f336e572e7b4fed3877485114769324ddeb282c4242.svg\" /><h3 class=\"display-11 font-weight-bold letter-spacing-spread border-bottom w-100 px-0 pb-12 pb-md-28 px-md-16 mb-12\" style=\"line-height: 1.5;\">Python<span class=\"d-inline d-md-block\"><i class=\"fa fa-plus-circle\"></i></span>AIセット</h3><div><i class=\"fa fa-clock-o pr-4\"></i>申込締切<br /><span class=\"font-weight-bold pr-4\">12</span>月<span class=\"font-weight-bold px-4\">20</span>日 26時</div></a></div><div class=\"col-12 col-sm-6 col-lg-4 text-center pb-28\"><a class=\"d-flex flex-column align-items-center text-white-1 bg-python-datascience-set-image-s bg-image-full rounded brightness-hover-80 h-100 p-16\" href=\"python-datascience-set\"><img alt=\"Python+データサイエンス\" class=\"img-fluid mb-12 mb-md-16\" style=\"width: 30%;\" src=\"https://techacademy-bootcamp.s3.amazonaws.com/assets/icon/set/python-datascience-set-b4d81ebd441e77f43f098e5789986e67dde1675bee0ae40142b061add019c3bb.svg\" /><h3 class=\"display-11 font-weight-bold letter-spacing-spread border-bottom w-100 px-0 pb-12 pb-md-28 px-md-16 mb-12\" style=\"line-height: 1.5;\">Python<span class=\"d-inline d-md-block\"><i class=\"fa fa-plus-circle\"></i></span>データサイエンス</h3><div><i class=\"fa fa-clock-o pr-4\"></i>申込締切<br /><span class=\"font-weight-bold pr-4\">12</span>月<span class=\"font-weight-bold px-4\">20</span>日 26時</div></a></div><div class=\"col-12 col-sm-6 col-lg-4 text-center pb-28\"><a class=\"d-flex flex-column align-items-center text-white-1 bg-iphone-android-set-image-s bg-image-full rounded brightness-hover-80 h-100 p-16\" href=\"iphone-android-set\"><img alt=\"iPhoneアプリ+Androidアプリ\" class=\"img-fluid mb-12 mb-md-16\" style=\"width: 30%;\" src=\"https://techacademy-bootcamp.s3.amazonaws.com/assets/icon/set/iphone-android-set-1b1124c1420fbe4489a5b20629230d90de595d61cbf9aee12f60c6dc1ad84f65.svg\" /><h3 class=\"display-11 font-weight-bold letter-spacing-spread border-bottom w-100 px-0 pb-12 pb-md-28 px-md-16 mb-12\" style=\"line-height: 1.5;\">iPhoneアプリ<span class=\"d-inline d-md-block\"><i class=\"fa fa-plus-circle\"></i></span>Androidアプリ</h3><div><i class=\"fa fa-clock-o pr-4\"></i>申込締切<br /><span class=\"font-weight-bold pr-4\">12</span>月<span class=\"font-weight-bold px-4\">20</span>日 26時</div></a></div><div class=\"col-12 col-sm-6 col-lg-4 text-center pb-28\"><a class=\"d-flex flex-column align-items-center text-white-1 bg-unity-iphone-set-image-s bg-image-full rounded brightness-hover-80 h-100 p-16\" href=\"unity-iphone-set\"><img alt=\"Unity+iPhoneアプリ\" class=\"img-fluid mb-12 mb-md-16\" style=\"width: 30%;\" src=\"https://techacademy-bootcamp.s3.amazonaws.com/assets/icon/set/unity-iphone-set-8073f20e42deb09264ee7d8879772a4135fc025b99d6958b33589dcd5ed77f24.svg\" /><h3 class=\"display-11 font-weight-bold letter-spacing-spread border-bottom w-100 px-0 pb-12 pb-md-28 px-md-16 mb-12\" style=\"line-height: 1.5;\">Unity<span class=\"d-inline d-md-block\"><i class=\"fa fa-plus-circle\"></i></span>iPhoneアプリ</h3><div><i class=\"fa fa-clock-o pr-4\"></i>申込締切<br /><span class=\"font-weight-bold pr-4\">12</span>月<span class=\"font-weight-bold px-4\">20</span>日 26時</div></a></div><div class=\"col-12 col-sm-6 col-lg-4 text-center pb-28\"><a class=\"d-flex flex-column align-items-center text-white-1 bg-unity-android-set-image-s bg-image-full rounded brightness-hover-80 h-100 p-16\" href=\"unity-android-set\"><img alt=\"Unity+Androidアプリ\" class=\"img-fluid mb-12 mb-md-16\" style=\"width: 30%;\" src=\"https://techacademy-bootcamp.s3.amazonaws.com/assets/icon/set/unity-android-set-50c093633a4a12193c53ad914aa1ec01004a4c989154fa0e263b03e18a1af052.svg\" /><h3 class=\"display-11 font-weight-bold letter-spacing-spread border-bottom w-100 px-0 pb-12 pb-md-28 px-md-16 mb-12\" style=\"line-height: 1.5;\">Unity<span class=\"d-inline d-md-block\"><i class=\"fa fa-plus-circle\"></i></span>Androidアプリ</h3><div><i class=\"fa fa-clock-o pr-4\"></i>申込締切<br /><span class=\"font-weight-bold pr-4\">12</span>月<span class=\"font-weight-bold px-4\">20</span>日 26時</div></a></div><div class=\"col-12 col-sm-6 col-lg-4 text-center pb-28\"><a class=\"d-flex flex-column align-items-center text-white-1 bg-appdesign-iphone-set-image-s bg-image-full rounded brightness-hover-80 h-100 p-16\" href=\"appdesign-iphone-set\"><img alt=\"UI/UXデザイン+iPhoneアプリ\" class=\"img-fluid mb-12 mb-md-16\" style=\"width: 30%;\" src=\"https://techacademy-bootcamp.s3.amazonaws.com/assets/icon/set/appdesign-iphone-set-f2ebbfe1f00a339f5e91b68d80d9a314fb86ba74ae00b7b8be25e06eea1ec5f2.svg\" /><h3 class=\"display-11 font-weight-bold letter-spacing-spread border-bottom w-100 px-0 pb-12 pb-md-28 px-md-16 mb-12\" style=\"line-height: 1.5;\">UI/UXデザイン<span class=\"d-inline d-md-block\"><i class=\"fa fa-plus-circle\"></i></span>iPhoneアプリ</h3><div><i class=\"fa fa-clock-o pr-4\"></i>申込締切<br /><span class=\"font-weight-bold pr-4\">12</span>月<span class=\"font-weight-bold px-4\">20</span>日 26時</div></a></div><div class=\"col-12 col-sm-6 col-lg-4 text-center pb-28\"><a class=\"d-flex flex-column align-items-center text-white-1 bg-webdirection-webdesign-set-image-s bg-image-full rounded brightness-hover-80 h-100 p-16\" href=\"webdirection-webdesign-set\"><img alt=\"Webディレクション+Webデザイン\" class=\"img-fluid mb-12 mb-md-16\" style=\"width: 30%;\" src=\"https://techacademy-bootcamp.s3.amazonaws.com/assets/icon/set/webdirection-webdesign-set-21e0d34256037545c408eebf8054311db8e8c37928c260ca66b1e41affb1610c.svg\" /><h3 class=\"display-11 font-weight-bold letter-spacing-spread border-bottom w-100 px-0 pb-12 pb-md-28 px-md-16 mb-12\" style=\"line-height: 1.5;\">Webディレクション<span class=\"d-inline d-md-block\"><i class=\"fa fa-plus-circle\"></i></span>Webデザイン</h3><div><i class=\"fa fa-clock-o pr-4\"></i>申込締切<br /><span class=\"font-weight-bold pr-4\">12</span>月<span class=\"font-weight-bold px-4\">20</span>日 26時</div></a></div><div class=\"col-12 col-sm-6 col-lg-4 text-center pb-28\"><a class=\"d-flex flex-column align-items-center text-white-1 bg-webdirection-webmarketing-set-image-s bg-image-full rounded brightness-hover-80 h-100 p-16\" href=\"webdirection-webmarketing-set\"><img alt=\"Webディレクション+Webマーケティング\" class=\"img-fluid mb-12 mb-md-16\" style=\"width: 30%;\" src=\"https://techacademy-bootcamp.s3.amazonaws.com/assets/icon/set/webdirection-webmarketing-set-c9782ef9b36be3a3a54f753e25e056e8bb4ecd9854884f2fb2a57973c7db1f6c.svg\" /><h3 class=\"display-11 font-weight-bold letter-spacing-spread border-bottom w-100 px-0 pb-12 pb-md-28 px-md-16 mb-12\" style=\"line-height: 1.5;\">Webディレクション<span class=\"d-inline d-md-block\"><i class=\"fa fa-plus-circle\"></i></span>Webマーケティング</h3><div><i class=\"fa fa-clock-o pr-4\"></i>申込締切<br /><span class=\"font-weight-bold pr-4\">12</span>月<span class=\"font-weight-bold px-4\">20</span>日 26時</div></a></div></div><h3 class=\"display-12 text-center border-headline border-gray-1 mx-16 mb-20\" id=\"top-category-3set\">3セット割</h3><div class=\"wow fadeInUp text-center mb-16\"><div class=\"alert alert-info bg-billy-info-1 d-inline-block text-white font-weight-bold letter-spacing-spread border-0 mx-16\"><i class=\"fa fa-info-circle display-13 mr-4\"></i><p class=\"d-inline\"><span class=\"display-12\">セットで受講すると最大</span><span class=\"display-11\">138,000</span><span class=\"display-12\">円もお得！</span></p></div></div><div class=\"wow fadeInUp d-flex justify-content-center flex-wrap mb-20\"><div class=\"col-12 col-sm-6 col-lg-4 text-center pb-28\"><a class=\"d-flex flex-column align-items-center text-white-1 bg-webapp-frontend-webdesign-set-image-s bg-image-full rounded brightness-hover-80 h-100 p-16\" href=\"webapp-frontend-webdesign-set\"><img alt=\"Webアプリ+フロントエンド+Webデザインセット\" class=\"img-fluid mb-12 mb-md-16\" style=\"width: 30%;\" src=\"https://techacademy-bootcamp.s3.amazonaws.com/assets/icon/set/webapp-frontend-webdesign-set-4344f9c175d188bd2d66f36d167b1118bc3fe0c354ef7ff53c20f1e96ea5e8ad.svg\" /><h3 class=\"display-11 font-weight-bold letter-spacing-spread border-bottom w-100 px-0 pb-12 pb-md-28 px-md-16 mb-12\" style=\"line-height: 1.5;\">Webアプリ<span class=\"d-inline d-md-block\"><i class=\"fa fa-plus-circle\"></i></span>フロントエンド<span class=\"d-inline d-md-block\"><i class=\"fa fa-plus-circle\"></i></span>Webデザインセット</h3><div><i class=\"fa fa-clock-o pr-4\"></i>申込締切<br /><span class=\"font-weight-bold pr-4\">12</span>月<span class=\"font-weight-bold px-4\">20</span>日 26時</div></a></div><div class=\"col-12 col-sm-6 col-lg-4 text-center pb-28\"><a class=\"d-flex flex-column align-items-center text-white-1 bg-php-frontend-webdesign-set-image-s bg-image-full rounded brightness-hover-80 h-100 p-16\" href=\"php-frontend-webdesign-set\"><img alt=\"PHP/Laravel+フロントエンド+Webデザインセット\" class=\"img-fluid mb-12 mb-md-16\" style=\"width: 30%;\" src=\"https://techacademy-bootcamp.s3.amazonaws.com/assets/icon/set/php-frontend-webdesign-set-07508f83837f8e2b4d3995f6947e430f0d3cf1a427195f3a4a1febb2c13eab77.svg\" /><h3 class=\"display-11 font-weight-bold letter-spacing-spread border-bottom w-100 px-0 pb-12 pb-md-28 px-md-16 mb-12\" style=\"line-height: 1.5;\">PHP/Laravel<span class=\"d-inline d-md-block\"><i class=\"fa fa-plus-circle\"></i></span>フロントエンド<span class=\"d-inline d-md-block\"><i class=\"fa fa-plus-circle\"></i></span>Webデザインセット</h3><div><i class=\"fa fa-clock-o pr-4\"></i>申込締切<br /><span class=\"font-weight-bold pr-4\">12</span>月<span class=\"font-weight-bold px-4\">20</span>日 26時</div></a></div><div class=\"col-12 col-sm-6 col-lg-4 text-center pb-28\"><a class=\"d-flex flex-column align-items-center text-white-1 bg-iphone-android-appdesign-set-image-s bg-image-full rounded brightness-hover-80 h-100 p-16\" href=\"iphone-android-appdesign-set\"><img alt=\"iPhoneアプリ+Androidアプリ+UI/UXデザインセット\" class=\"img-fluid mb-12 mb-md-16\" style=\"width: 30%;\" src=\"https://techacademy-bootcamp.s3.amazonaws.com/assets/icon/set/iphone-android-appdesign-set-2adb9b4abd55aa136456b82c9d5da59a695fd847746e2897c5bbd20669f58ecb.svg\" /><h3 class=\"display-11 font-weight-bold letter-spacing-spread border-bottom w-100 px-0 pb-12 pb-md-28 px-md-16 mb-12\" style=\"line-height: 1.5;\">iPhoneアプリ<span class=\"d-inline d-md-block\"><i class=\"fa fa-plus-circle\"></i></span>Androidアプリ<span class=\"d-inline d-md-block\"><i class=\"fa fa-plus-circle\"></i></span>UI/UXデザインセット</h3><div><i class=\"fa fa-clock-o pr-4\"></i>申込締切<br /><span class=\"font-weight-bold pr-4\">12</span>月<span class=\"font-weight-bold px-4\">20</span>日 26時</div></a></div><div class=\"col-12 col-sm-6 col-lg-4 text-center pb-28\"><a class=\"d-flex flex-column align-items-center text-white-1 bg-python-ai-datascience-set-image-s bg-image-full rounded brightness-hover-80 h-100 p-16\" href=\"python-ai-datascience-set\"><img alt=\"Python+AI+データサイエンス\" class=\"img-fluid mb-12 mb-md-16\" style=\"width: 30%;\" src=\"https://techacademy-bootcamp.s3.amazonaws.com/assets/icon/set/python-ai-datascience-set-c85f7e297abe4b7134f33f9e96212e04a877dd5d379cf91128c6b3959d34dadb.svg\" /><h3 class=\"display-11 font-weight-bold letter-spacing-spread border-bottom w-100 px-0 pb-12 pb-md-28 px-md-16 mb-12\" style=\"line-height: 1.5;\">Python<span class=\"d-inline d-md-block\"><i class=\"fa fa-plus-circle\"></i></span>AI<span class=\"d-inline d-md-block\"><i class=\"fa fa-plus-circle\"></i></span>データサイエンス</h3><div><i class=\"fa fa-clock-o pr-4\"></i>申込締切<br /><span class=\"font-weight-bold pr-4\">12</span>月<span class=\"font-weight-bold px-4\">20</span>日 26時</div></a></div></div><h3 class=\"display-12 text-center border-headline border-gray-1 mx-16 mb-20\">オフィス</h3><div class=\"wow fadeInUp d-flex justify-content-center flex-wrap mb-20\"><div class=\"col-12 col-sm-6 col-lg-4 text-center pb-28\"><a class=\"d-flex flex-column align-items-center text-white-1 bg-course-excel2013-1 rounded brightness-hover-80 h-100 p-16\" href=\"excel2013-bootcamp\"><i aria-hidden=\"true\" class=\"display-7 mb-12 fa fa-original-excel\"></i><h3 class=\"display-11 font-weight-bold letter-spacing-spread border-bottom w-100 pb-12 mb-12\" style=\"line-height: 1.5;\">Excel2013<span class=\"d-block\">コース</span></h3><div><i class=\"fa fa-clock-o pr-4\"></i>申込締切<br /><span class=\"font-weight-bold pr-4\">12</span>月<span class=\"font-weight-bold px-4\">20</span>日 26時</div></a></div></div><h3 class=\"display-12 text-center border-headline border-gray-1 mx-16 mb-20\" id=\"top-category-whole\">全コース受講し放題！</h3><div class=\"wow fadeInUp container-sm mb-48\" id=\"unlimited-courses-banner\"><div class=\"bg-unlimited bg-size-cover mx-16\"><a class=\"d-flex flex-column bg-hover-trans-black-20 text-center text-white letter-spacing-spread h-100 p-16\" href=\"/unlimited-bootcamp\"><img alt=\"ウケ放題\" class=\"d-block mx-auto w-50 mb-12\" src=\"https://assets.techacademy.jp/assets/unlimited-title-1c8219dc04e424d4c601d2d79400fb4a264d73a88cad26e498b9b577f0bd6c69.png\" /><p class=\"display-11 mb-4\">最大188万円相当お得になる24週間ブートキャンプ受け放題で学習しよう！</p><b class=\"display-12 letter-spacing-spread\">申込締切<span class=\"px-8 display-10 font-weight-bold\">12</span>月<span class=\"px-8 display-10 font-weight-bold\">20</span>日（日）26時</b></a></div></div><div class=\"wow fadeInUp d-flex justify-content-center flex-wrap\"><div class=\"col-12 col-sm-6 text-center mb-32 mb-sm-0\"><div class=\"bg-white-2 h-100 p-20\"><h3 class=\"display-12 mb-12\"><i class=\"fa fa-envelope-o pr-12\"></i>次回開催情報を受け取る</h3><form class=\"simple_form form-horizontal\" id=\"new_notification_entry\" action=\"/notification_entries\" accept-charset=\"UTF-8\" method=\"post\"><input name=\"utf8\" type=\"hidden\" value=\"&#x2713;\" /><input type=\"hidden\" name=\"authenticity_token\" value=\"kIeKXXKIfC3q5XesdYBLYKzlXoisBnV8csjnI2lTWEuF0feXe0Qwt+tKYX40zGQfBmvI3+DcTzbeqms3e0oYQg==\" /><div class=\"input-group\"><div class=\"hidden notification_entry_category\"><input class=\"form-control hidden\" type=\"hidden\" value=\"notification\" name=\"notification_entry[category]\" id=\"notification_entry_category\" /></div><input class=\"string email required form-control border-0 px-20\" style=\"height: 3.125rem\" required=\"required\" input_html=\"false\" aria-required=\"true\" placeholder=\"hello@techacademy.jp\" type=\"email\" name=\"notification_entry[email]\" id=\"notification_entry_email\" /><div class=\"input-group-append w-25\"><input type=\"submit\" name=\"commit\" value=\"登録\" class=\"btn text-white-1 bg-billy-danger-1 rounded-0 w-100 py-12\" data-disable-with=\"送信中…\" /></div></div></form></div></div><div class=\"col-12 col-sm-6 text-center\"><div class=\"bg-white-2 h-100 p-20\"><h3 class=\"display-12 mb-12\">ブートキャンプのオススメコース診断</h3><a class=\"btn bg-billy-primary-1 rounded-pill btn-ghost-white text-white-1\" href=\"/diagnoses/top\">診断する</a></div></div></div></div></section><section class=\"bg-striped text-center py-48 py-sm-80\" id=\"training-top\"><div class=\"container-xs\"><h2 class=\"title-top-category mb-24\">トレーニング</h2><p class=\"wow fadeInUp mb-48\">1〜2週間で必要なスキルを基礎から学習し確実に習得</p><div class=\"wow fadeInUp d-flex justify-content-center flex-wrap text-white-1\"><div class=\"col-12 col-sm-6 mb-28\"><div class=\"bg-training-htmlcss rounded h-100 p-16\"><i class=\"fa fa-html5 display-7 mb-12\"></i><h3 class=\"display-10 font-weight-bold letter-spacing-spread w-100 mb-20\" style=\"line-height: 1.5;\">HTML/CSS<span class=\"d-inline d-md-block\">トレーニング</span></h3><a class=\"btn rounded-pill btn-ghost-white text-white-1 border-white-1 border-width-2\" href=\"/htmlcss-training\">詳しく見る</a></div></div><div class=\"col-12 col-sm-6 mb-28\"><div class=\"bg-training-bootstrap rounded h-100 p-16\"><i class=\"fa fa-original-bootstrap display-7 mb-12\"></i><h3 class=\"display-10 font-weight-bold letter-spacing-spread w-100 mb-20\" style=\"line-height: 1.5;\">Bootstrap<span class=\"d-inline d-md-block\">トレーニング</span></h3><a class=\"btn rounded-pill btn-ghost-white text-white-1 border-white-1 border-width-2\" href=\"/bootstrap-training\">詳しく見る</a></div></div><div class=\"col-12 col-sm-6 mb-28 mb-sm-0\"><div class=\"bg-training-github rounded h-100 p-16\"><i class=\"fa fa-github display-7 mb-12\"></i><h3 class=\"display-10 font-weight-bold letter-spacing-spread w-100 mb-20\" style=\"line-height: 1.5;\">GitHub<span class=\"d-inline d-md-block\">トレーニング</span></h3><a class=\"btn rounded-pill btn-ghost-white text-white-1 border-white-1 border-width-2\" href=\"/github-training\">詳しく見る</a></div></div><div class=\"col-12 col-sm-6\"><div class=\"bg-training-photoshop rounded h-100 p-16\"><i class=\"fa fa-original-photoshop display-7 mb-12\"></i><h3 class=\"display-10 font-weight-bold letter-spacing-spread w-100 mb-20\" style=\"line-height: 1.5;\">Photoshop<span class=\"d-inline d-md-block\">トレーニング</span></h3><a class=\"btn rounded-pill btn-ghost-white text-white-1 border-white-1 border-width-2\" href=\"/photoshop-training\">詳しく見る</a></div></div></div></div></section><section class=\"bg-striped\" id=\"about\"><div class=\"container-lg text-center px-16 pt-48 pt-md-72\"><h2 class=\"display-7 mb-28\">TechAcademyとは？</h2><p class=\"wow fadeInUp display-10 text-gray-3 mb-48\"><span class=\"d-inline d-md-block\">プログラミングやアプリ開発を学べるオンラインスクール。</span><span class=\"d-inline d-md-block\">1人では続かない方のための短期集中プログラム「オンラインブートキャンプ」を開催。</span><span class=\"d-inline d-md-block\">現役のプロのサポートと独自の学習システムで短期間で成長いただけます。</span></p><h3 class=\"display-10 font-wight-bold letter-spacing-spread mb-16\">800社、30,000名を超える教育実績</h3><div class=\"wow fadeInUp row mb-48\"><div class=\"col-3 col-md-2 offset-md-2 mb-20\"><img class=\"img-fluid\" src=\"https://assets.techacademy.jp/assets/logolist_01-a6b56f0441ea9db3f10c25c42923ddf95b77d4ea08c7af1bdd17a8cc88cf3516.png\" alt=\"Logolist 01\" /></div><div class=\"col-3 col-md-2 mb-20\"><img class=\"img-fluid\" src=\"https://assets.techacademy.jp/assets/logolist_02-a7a0fa7bcdfc95140783d7d590e703427c4f1bcc030279c172cd90454b536fdb.png\" alt=\"Logolist 02\" /></div><div class=\"col-3 col-md-2 mb-20\"><img class=\"img-fluid\" src=\"https://assets.techacademy.jp/assets/logolist_03-98c42694d4b1197f02aa047fe4faf40fc64401574d16eff23e005c643564f655.png\" alt=\"Logolist 03\" /></div><div class=\"col-3 col-md-2 mb-20\"><img class=\"img-fluid\" src=\"https://assets.techacademy.jp/assets/logolist_04-2091c2911cacc2fb79dceeee1243c609ee62f332eecdcaf182aabab125177546.png\" alt=\"Logolist 04\" /></div><div class=\"col-3 col-md-2 offset-md-2 mb-20\"><img class=\"img-fluid\" src=\"https://assets.techacademy.jp/assets/logolist_05-fc4304d4c3fd9bd6707eee16c8ae9e4450ab8b318aa8799e4f18dd3ad24ea0d5.png\" alt=\"Logolist 05\" /></div><div class=\"col-3 col-md-2 mb-20\"><img class=\"img-fluid\" src=\"https://assets.techacademy.jp/assets/logolist_06-2d7544971adeb3a0ade617ba7713df1919f92aefac76051e682c01a2bc11865a.png\" alt=\"Logolist 06\" /></div><div class=\"col-3 col-md-2 mb-20\"><img class=\"img-fluid\" src=\"https://assets.techacademy.jp/assets/logolist_07-ca9d3307ec4fd5fa8c86ec855b6283cd8b26b55dc4b245b98af4c9086cf9b230.png\" alt=\"Logolist 07\" /></div><div class=\"col-3 col-md-2 mb-20\"><img class=\"img-fluid\" src=\"https://assets.techacademy.jp/assets/logolist_08-e3e75278fae833ee2d5f13b70a1faa4427cd9552c4a2f8b3f68bace3fcbc892d.png\" alt=\"Logolist 08\" /></div><div class=\"col-3 col-md-2 offset-md-2 mb-20\"><img class=\"img-fluid\" src=\"https://assets.techacademy.jp/assets/logolist_09-9c726700e817f11525506999c24b0b92f5d664497f2667cc3eb36b49a91c3cad.png\" alt=\"Logolist 09\" /></div><div class=\"col-3 col-md-2 mb-20\"><img class=\"img-fluid\" src=\"https://assets.techacademy.jp/assets/logolist_10-4376cfd536370bd59731e233e13b93ddf2dfce9546fabdf0996e1d88069e8edc.png\" alt=\"Logolist 10\" /></div><div class=\"col-3 col-md-2 mb-20\"><img class=\"img-fluid\" src=\"https://assets.techacademy.jp/assets/logolist_11-4890325ee65c1352e88aec853d5ba53390d08fd75ec04028be06859717a208b0.png\" alt=\"Logolist 11\" /></div><div class=\"col-3 col-md-2 mb-20\"><img class=\"img-fluid\" src=\"https://assets.techacademy.jp/assets/logolist_12-531766668f6dbd7b6b7d307c14202ddedde49deb9194129f815c81760c9d1126.png\" alt=\"Logolist 12\" /></div><div class=\"col-3 col-md-2 offset-md-2\"><img class=\"img-fluid\" src=\"https://assets.techacademy.jp/assets/logolist_13-d4fd5181c13b9a0a71d560c8c9d2d5893015e02d7d2ca736e042ca1451b0f0e4.png\" alt=\"Logolist 13\" /></div><div class=\"col-3 col-md-2\"><img class=\"img-fluid\" src=\"https://assets.techacademy.jp/assets/logolist_14-4b6304eff863b77bdc19929046a7aacd84a5752fdfef4c46f3c94acc962501da.png\" alt=\"Logolist 14\" /></div><div class=\"col-3 col-md-2\"><img class=\"img-fluid\" src=\"https://assets.techacademy.jp/assets/logolist_15-e920084f61c38053cc0b87f91600647f36cbfa064753b065bdd4a34c3beebeb2.png\" alt=\"Logolist 15\" /></div><div class=\"col-3 col-md-2\"><img class=\"img-fluid\" src=\"https://assets.techacademy.jp/assets/logolist_16-bafaa3216a146b8c9de170701da77cb1506ea4bd81f4eec967b951ca3ff08f2a.png\" alt=\"Logolist 16\" /></div></div></div><div class=\"container-md mx-auto mb-72\"><div class=\"wow fadeInUp shadow-original mx-16 py-20 py-lg-52 px-16 px-lg-52 ajason-comment ajason-top bg-white\"><div class=\"aj-row\"><div class=\"aj-photo-wrap\"><img alt=\"厚切りジェイソン\" class=\"aj-photo\" src=\"https://assets.techacademy.jp/assets/jason/jason_udekumi-393952b034a345ce01370aa499b14d43d784b4527113b0f848a4b45136901a7c.png\" /></div><div class=\"aj-right-block\"><h3 class=\"aj-title\"><div class=\"aj-subtitle\">TechAcademy CPRO に就任</div>厚切りジェイソンのコメント</h3><div class=\"aj-comment-text\"><div class=\"aj-photo-wrap mobile\"><img alt=\"厚切りジェイソン\" class=\"aj-photo\" src=\"https://assets.techacademy.jp/assets/jason/jason_udekumi-393952b034a345ce01370aa499b14d43d784b4527113b0f848a4b45136901a7c.png\" /></div><div class=\"aj-text-wrap\"><p class=\"aj-caption\">さまざまな業界で役立つのがプログラミングの大きな魅力です。いろんな新しい考え方、新しいものに接すると新たな発想が生まれるので、スキルを身につけることは自分の可能性を広げることに繋がります。ぜひTechAcademyでチャレンジしてみてください。</p></div></div><div class=\"aj-profile border\"><h4 class=\"aj-profile-title\">厚切りジェイソン プロフィール</h4><p class=\"aj-profile-caption\">お笑い芸人、IT会社の役員、投資会社の設立など、あらゆる分野で活躍。プログラミングへの造詣も深く、イリノイ大学でコンピューターサイエンスの修士号を取得し、NHKの「Why!?プログラミング」にレギュラー出演。</p></div></div></div></div></div><section class=\"text-center pb-80\" id=\"tvcm\"><div class=\"mx-16\"><div class=\"card mx-auto\" style=\"max-width: 988px\"><a data-toggle=\"modal\" data-target=\"#commercial-modal\" href=\"#modal\"><div class=\"row no-gutters\"><div class=\"col-md-5 order-md-2\"><img alt=\"TechAcademyウェブCM\" class=\"w-100\" src=\"https://assets.techacademy.jp/assets/tvcm/jason_tvcm-75eecb3e1ed79ace1e80c9e655be01adfd7b5c4e43540eb5af86e33d72b2ad1a.jpg\" /></div><div class=\"col-md-7 p-lg-32\"><div class=\"card-body text-center text-md-left\"><h2 class=\"display-8 text-black-1 font-weight-bold border-bottom border-billy-success-1 border-width-2 pb-8 mb-16\">TechAcademyのウェブCM</h2><p class=\"card-text text-gray-3\">TechAcademyのCPROに就任した厚切りジェイソンが、TechAcademyの特徴を動画で紹介しています。</p></div></div></div></a></div></div><div aria-hidden=\"true\" aria-labelledby=\"commercial-modal-title\" class=\"modal fade\" id=\"commercial-modal\" role=\"dialog\" tabindex=\"-1\"><div class=\"modal-dialog modal-dialog-centered modal-lg\" role=\"document\"><div class=\"modal-content\"><div class=\"modal-header\"><h5 class=\"modal-title text-center w-100\" id=\"commercial-modal-title\">TechAcademyのウェブCM</h5><button aria-label=\"Close\" class=\"close\" data-dismiss=\"modal\" type=\"button\"><span aria-hidden=\"true\">&times;</span></button></div><div class=\"modal-body\"><div class=\"embed-responsive embed-responsive-16by9 mb-28\" id=\"player\"><iframe allowfullscreen=\"\" class=\"embed-responsive-item\" frameborder=\"0\" height=\"360\" width=\"640\"></iframe></div><div class=\"text-center mb-28\">TechAcademyを実際に体験したい場合は<br />1週間の無料体験にお申し込みください</div><a class=\"btn rounded-pill text-white-1 bg-billy-primary-1 px-24 py-12 mb-12\" href=\"/lp-htmlcss-trial-s\" target=\"_blank\">無料体験に申し込む</a></div></div></div></div></section><script>$(function() {\n",
      "  $('#commercial-modal #player iframe').attr('src', '//www.youtube.com/embed/ROA_T-2Ieqw?rel=0&amp;controls=0&amp;showinfo=0');\n",
      "});\n",
      "\n",
      "$(\"#commercial-modal\").on('hidden.bs.modal', function() {\n",
      "  src = $(this).find('iframe').attr('src');\n",
      "  $(this).find('iframe').attr('src', src);\n",
      "});</script></section><section class=\"bg-striped px-16 py-80\" id=\"comparison-school\"><div class=\"container-lg\"><h2 class=\"display-7 mb-16 text-center\">他スクールとの比較</h2><h3 class=\"display-12 line-height-wide mb-52 text-center text-gray-2\"><span class=\"d-inline d-md-block\">他のスクールと比較するとTechAcademyの</span><span class=\"d-inline d-md-block\">圧倒的なコストパフォーマンスをご確認いただけます。</span></h3><table class=\"wow fadeInUp comparison-school-table table table-striped text-center\"><thead><tr class=\"d-none d-lg-table-row h-auto h-lg-100px\"><th class=\"table border-top-0\" style=\"width: 19%\"></th><th class=\"bg-billy-primary-1 border border-width-8 border-billy-primary-1 border-bottom-0 align-middle\" style=\"width: 27%\"><img alt=\"TechAcademy\" class=\"img-fluid w-75\" src=\"https://assets.techacademy.jp/assets/logo-7d247eeceb226a03d59ee2c3c5cc818d2142cb78b7891da7907ba197e2f79fa0.png\" /></th><th class=\"bg-gray-4 text-white border-right align-middle\" style=\"width: 18%\">A社</th><th class=\"bg-gray-4 text-white border-right align-middle\" style=\"width: 18%\">B社</th><th class=\"bg-gray-4 text-white border-right align-middle\" style=\"width: 18%\">C社</th></tr></thead><tbody><tr class=\"h-auto h-lg-100px\"><th class=\"d-flex d-lg-table-cell border align-middle\"><span>受講形態</span></th><td class=\"d-flex d-lg-table-cell border-width-8 border-width-3 border-top-0 border-bottom-0 border border-billy-primary-1 align-middle bg-billy-comparison-school-techacademy\"><span class=\"col-5 col-lg-auto text-white-1 bg-billy-primary-1 d-block d-lg-none\"><img alt=\"TechAcademy\" class=\" w-100\" style=\"max-width: 138px;\" src=\"https://assets.techacademy.jp/assets/logo-7d247eeceb226a03d59ee2c3c5cc818d2142cb78b7891da7907ba197e2f79fa0.png\" /></span><span class=\"col-7 col-lg-auto display-11 text-billy-primary-1\">オンライン完結</span></td><td class=\"d-flex d-lg-table-cell border align-middle\"><span class=\"col-5 col-lg-auto school-gray d-block d-lg-none\">A社</span><span class=\"col-7 col-lg-auto d-block\">オンライン完結</span></td><td class=\"d-flex d-lg-table-cell border align-middle\"><span class=\"col-5 col-lg-auto school-gray d-block d-lg-none\">B社</span><span class=\"col-7 col-lg-auto d-block\">会場とオンライン</span></td><td class=\"d-flex d-lg-table-cell border align-middle\"><span class=\"col-5 col-lg-auto school-gray d-block d-lg-none\">C社</span><span class=\"col-7 col-lg-auto d-block\">会場のみ</span></td></tr><tr class=\"bg-white border h-auto h-lg-100px\"><th class=\"d-flex d-lg-table-cell border align-middle align-middle\"><span>料金</span></th><td class=\"d-flex d-lg-table-cell border-width-8 border-width-3 border-top-0 border-bottom-0 border border-billy-primary-1 align-middle\"><span class=\"col-5 col-lg-auto text-white-1 bg-billy-primary-1 d-block d-lg-none\"><img alt=\"TechAcademy\" class=\" w-100\" style=\"max-width: 138px;\" src=\"https://assets.techacademy.jp/assets/logo-7d247eeceb226a03d59ee2c3c5cc818d2142cb78b7891da7907ba197e2f79fa0.png\" /></span><span class=\"col-7 col-lg-auto display-11 text-billy-primary-1\">入学金：0円<br />受講料：149,000円〜</span></td><td class=\"d-flex d-lg-table-cell border align-middle\"><span class=\"col-5 col-lg-auto school-gray d-block d-lg-none\">A社</span><span class=\"col-7 col-lg-auto d-block\">入学金：30,000円　受講料：148,000円〜</span></td><td class=\"d-flex d-lg-table-cell border align-middle\"><span class=\"col-5 col-lg-auto school-gray d-block d-lg-none\">B社</span><span class=\"col-7 col-lg-auto d-block\">入学金：198,000円　受講料：19,800円</span></td><td class=\"d-flex d-lg-table-cell border align-middle\"><span class=\"col-5 col-lg-auto school-gray d-block d-lg-none\">C社</span><span class=\"col-7 col-lg-auto d-block\">入学金：18,000円　受講料：154,000円〜</span></td></tr><tr class=\"h-auto h-lg-100px\"><th class=\"d-flex d-lg-table-cell border align-middle align-middle\"><span>メンター</span></th><td class=\"d-flex d-lg-table-cell border-width-8 border-width-3 border-top-0 border-bottom-0 border border-billy-primary-1 align-middle bg-billy-comparison-school-techacademy\"><span class=\"col-5 col-lg-auto text-white-1 bg-billy-primary-1 d-block d-lg-none\"><img alt=\"TechAcademy\" class=\" w-100\" style=\"max-width: 138px;\" src=\"https://assets.techacademy.jp/assets/logo-7d247eeceb226a03d59ee2c3c5cc818d2142cb78b7891da7907ba197e2f79fa0.png\" /></span><span class=\"col-7 col-lg-auto display-11 text-billy-primary-1\">現役のプロ</span></td><td class=\"d-flex d-lg-table-cell border align-middle\"><span class=\"col-5 col-lg-auto school-gray d-block d-lg-none\">A社</span><span class=\"col-7 col-lg-auto d-block\">現役のプロ</span></td><td class=\"d-flex d-lg-table-cell border align-middle\"><span class=\"col-5 col-lg-auto school-gray d-block d-lg-none\">B社</span><span class=\"col-7 col-lg-auto d-block\">大学生や卒業生が中心</span></td><td class=\"d-flex d-lg-table-cell border align-middle\"><span class=\"col-5 col-lg-auto school-gray d-block d-lg-none\">C社</span><span class=\"col-7 col-lg-auto d-block\">スクールの講師</span></td></tr><tr class=\"bg-white border h-auto h-lg-100px\"><th class=\"d-flex d-lg-table-cell border align-middle\"><span>パーソナルメンター</span></th><td class=\"d-flex d-lg-table-cell border-width-8 border-width-3 border-top-0 border-bottom-0 border border-billy-primary-1 align-middle\"><span class=\"col-5 col-lg-auto text-white-1 bg-billy-primary-1 d-block d-lg-none\"><img alt=\"TechAcademy\" class=\" w-100\" style=\"max-width: 138px;\" src=\"https://assets.techacademy.jp/assets/logo-7d247eeceb226a03d59ee2c3c5cc818d2142cb78b7891da7907ba197e2f79fa0.png\" /></span><span class=\"col-7 col-lg-auto display-11 text-billy-primary-1\"><i class=\"fa fa-circle-o\"></i></span></td><td class=\"d-flex d-lg-table-cell border align-middle\"><span class=\"col-5 col-lg-auto school-gray d-block d-lg-none\">A社</span><span class=\"col-7 col-lg-auto d-block\"><i class=\"fa fa-close\"></i></span></td><td class=\"d-flex d-lg-table-cell border align-middle\"><span class=\"col-5 col-lg-auto school-gray d-block d-lg-none\">B社</span><span class=\"col-7 col-lg-auto d-block\">メンターではない<br />担当者が対応</span></td><td class=\"d-flex d-lg-table-cell border align-middle\"><span class=\"col-5 col-lg-auto school-gray d-block d-lg-none\">C社</span><span class=\"col-7 col-lg-auto d-block\"><i class=\"fa fa-close\"></i></span></td></tr><tr class=\"h-auto h-lg-100px\"><th class=\"d-block d-lg-table-cell border align-middle align-middle\"><span>マンツーマンレッスン<br />（メンタリング）</span></th><td class=\"d-flex d-lg-table-cell border-width-8 border-width-3 border-top-0 border-bottom-0 border border-billy-primary-1 align-middle bg-billy-comparison-school-techacademy\"><span class=\"col-5 col-lg-auto text-white-1 bg-billy-primary-1 d-block d-lg-none\"><img alt=\"TechAcademy\" class=\" w-100\" style=\"max-width: 138px;\" src=\"https://assets.techacademy.jp/assets/logo-7d247eeceb226a03d59ee2c3c5cc818d2142cb78b7891da7907ba197e2f79fa0.png\" /></span><span class=\"col-7 col-lg-auto display-11 text-billy-primary-1\"><i class=\"fa fa-circle-o\"></i></span></td><td class=\"d-flex d-lg-table-cell border align-middle\"><span class=\"col-5 col-lg-auto school-gray d-block d-lg-none\">A社</span><span class=\"col-7 col-lg-auto\"><i class=\"fa fa-circle-o\"></i></span></td><td class=\"d-flex d-lg-table-cell border align-middle\"><span class=\"col-5 col-lg-auto school-gray d-block d-lg-none\">B社</span><span class=\"col-7 col-lg-auto\"><i class=\"fa fa-close\"></i></span></td><td class=\"d-flex d-lg-table-cell border align-middle\"><span class=\"col-5 col-lg-auto school-gray d-block d-lg-none\">C社</span><span class=\"col-7 col-lg-auto\"><i class=\"fa fa-circle-o\"></i></span></td></tr><tr class=\"bg-white border h-auto h-lg-100px\"><th class=\"d-flex d-lg-table-cell border align-middle\"><span>チャットサポート</span></th><td class=\"d-flex d-lg-table-cell border-width-8 border-width-3 border-top-0 border-bottom-0 border border-billy-primary-1 align-middle\"><span class=\"col-5 col-lg-auto text-white-1 bg-billy-primary-1 d-block d-lg-none\"><img alt=\"TechAcademy\" class=\" w-100\" style=\"max-width: 138px;\" src=\"https://assets.techacademy.jp/assets/logo-7d247eeceb226a03d59ee2c3c5cc818d2142cb78b7891da7907ba197e2f79fa0.png\" /></span><span class=\"col-7 col-lg-auto display-11 text-billy-primary-1\"><i class=\"fa fa-circle-o\"></i></span></td><td class=\"d-flex d-lg-table-cell border align-middle\"><span class=\"col-5 col-lg-auto school-gray d-block d-lg-none\">A社</span><span class=\"col-7 col-lg-auto\"><i class=\"fa fa-close\"></i></span></td><td class=\"d-flex d-lg-table-cell border align-middle\"><span class=\"col-5 col-lg-auto school-gray d-block d-lg-none\">B社</span><span class=\"col-7 col-lg-auto\"><i class=\"fa fa-circle-o\"></i></span></td><td class=\"d-flex d-lg-table-cell border align-middle\"><span class=\"col-5 col-lg-auto school-gray d-block d-lg-none\">C社</span><span class=\"col-7 col-lg-auto\"><i class=\"fa fa-close\"></i></span></td></tr><tr class=\"h-auto h-lg-100px\"><th class=\"d-flex d-lg-table-cell border align-middle\"><span>オリジナルプロダクト<br />開発サポート</span></th><td class=\"d-flex d-lg-table-cell border-width-8 border-width-3 border-top-0 border-bottom-0 border border-billy-primary-1 align-middle bg-billy-comparison-school-techacademy\"><span class=\"col-5 col-lg-auto text-white-1 bg-billy-primary-1 d-block d-lg-none\"><img alt=\"TechAcademy\" class=\" w-100\" style=\"max-width: 138px;\" src=\"https://assets.techacademy.jp/assets/logo-7d247eeceb226a03d59ee2c3c5cc818d2142cb78b7891da7907ba197e2f79fa0.png\" /></span><span class=\"col-7 col-lg-auto display-11 text-billy-primary-1 d-block\"><i class=\"fa fa-circle-o\"></i></span></td><td class=\"d-flex d-lg-table-cell border align-middle\"><span class=\"col-5 col-lg-auto school-gray d-block d-lg-none\">A社</span><span class=\"col-7 col-lg-auto d-block\"><i class=\"fa fa-close\"></i></span></td><td class=\"d-flex d-lg-table-cell border align-middle\"><span class=\"col-5 col-lg-auto school-gray d-block d-lg-none\">B社</span><span class=\"col-7 col-lg-auto d-block\"><i class=\"fa fa-circle-o\"></i></span></td><td class=\"d-flex d-lg-table-cell border align-middle\"><span class=\"col-5 col-lg-auto school-gray d-block d-lg-none\">C社</span><span class=\"col-7 col-lg-auto d-block\"><i class=\"fa fa-close\"></i></span></td></tr><tr class=\"bg-white border h-auto h-lg-100px\"><th class=\"d-block d-lg-table-cell border align-middle\"><span>転職サポート</span></th><td class=\"d-flex d-lg-table-cell border-width-8 border-width-3 border-top-0 border border-billy-primary-1 align-middle\"><span class=\"col-5 col-lg-auto text-white-1 bg-billy-primary-1 d-block d-lg-none\"><img alt=\"TechAcademy\" class=\" w-100\" style=\"max-width: 138px;\" src=\"https://assets.techacademy.jp/assets/logo-7d247eeceb226a03d59ee2c3c5cc818d2142cb78b7891da7907ba197e2f79fa0.png\" /></span><span class=\"col-7 col-lg-auto display-11 text-billy-primary-1 d-block\">全コース対応</span></td><td class=\"d-flex d-lg-table-cell border align-middle\"><span class=\"col-5 col-lg-auto school-gray d-block d-lg-none\">A社</span><span class=\"col-7 col-lg-auto d-block\">40万円のコースのみ対応</span></td><td class=\"d-flex d-lg-table-cell border align-middle\"><span class=\"col-5 col-lg-auto school-gray d-block d-lg-none\">B社</span><span class=\"col-7 col-lg-auto d-block\">60万円のコースのみ対応</span></td><td class=\"d-flex d-lg-table-cell border align-middle\"><span class=\"col-5 col-lg-auto school-gray d-block d-lg-none\">C社</span><span class=\"col-7 col-lg-auto d-block\">資格取得のサポートのみ</span></td></tr></tbody></table></div></section><div class=\"bg-striped px-16 py-48 py-sm-80\" id=\"blog-list\"><div class=\"container-lg\"><h2 class=\"display-7 text-center mb-48\"> 受講生やメンターの声</h2><div class=\"row\"><div class=\"wow fadeInUp col-12 col-sm-6 col-md-4 mb-32\"><div class=\"bg-white-1 shadow-original position-relative mx-16 mx-sm-0\"><a class=\"text-gray-1\" href=\"/blog/80\"><div class=\"position-relative bg-size-cover\" style=\"height: 200px; background-image: url(https://s3-ap-northeast-1.amazonaws.com/techacademy-bootcamp/blog/covers/80/medium.png)\"></div><div class=\"bg-gray-6 p-16\"><h4 class=\"display-12 font-weight-bold\">メーカーからエンジニアへ！未経験からのキャリアチェンジを後押しした意外な決め手とは</h4></div><div class=\"position-absolute\" style=\"top: -.75rem; left: -.625rem; width: 11.25rem;\"><div class=\"folding-ribbon display-14 text-white-1 text-center py-8 bg-blog-student-interview\">受講生インタビュー</div></div></a></div></div><div class=\"wow fadeInUp col-12 col-sm-6 col-md-4 mb-32\"><div class=\"bg-white-1 shadow-original position-relative mx-16 mx-sm-0\"><a class=\"text-gray-1\" href=\"/blog/79\"><div class=\"position-relative bg-size-cover\" style=\"height: 200px; background-image: url(https://s3-ap-northeast-1.amazonaws.com/techacademy-bootcamp/blog/covers/79/medium.png)\"></div><div class=\"bg-gray-6 p-16\"><h4 class=\"display-12 font-weight-bold\">未経験からエンジニア転職成功！内定獲得へ繋がった学習サポートの活用法とは</h4></div><div class=\"position-absolute\" style=\"top: -.75rem; left: -.625rem; width: 11.25rem;\"><div class=\"folding-ribbon display-14 text-white-1 text-center py-8 bg-blog-student-interview\">受講生インタビュー</div></div></a></div></div><div class=\"wow fadeInUp col-12 col-sm-6 col-md-4 mb-32\"><div class=\"bg-white-1 shadow-original position-relative mx-16 mx-sm-0\"><a class=\"text-gray-1\" href=\"/blog/78\"><div class=\"position-relative bg-size-cover\" style=\"height: 200px; background-image: url(https://s3-ap-northeast-1.amazonaws.com/techacademy-bootcamp/blog/covers/78/medium.png)\"></div><div class=\"bg-gray-6 p-16\"><h4 class=\"display-12 font-weight-bold\">81歳でプログラミングを習得してオリジナルのiPhoneアプリを公開！生涯学び続ける秘訣とは</h4></div><div class=\"position-absolute\" style=\"top: -.75rem; left: -.625rem; width: 11.25rem;\"><div class=\"folding-ribbon display-14 text-white-1 text-center py-8 bg-blog-student-interview\">受講生インタビュー</div></div></a></div></div><div class=\"wow fadeInUp col-12 col-sm-6 col-md-4 mb-32\"><div class=\"bg-white-1 shadow-original position-relative mx-16 mx-sm-0\"><a class=\"text-gray-1\" href=\"/blog/77\"><div class=\"position-relative bg-size-cover\" style=\"height: 200px; background-image: url(https://s3-ap-northeast-1.amazonaws.com/techacademy-bootcamp/blog/covers/77/medium.png)\"></div><div class=\"bg-gray-6 p-16\"><h4 class=\"display-12 font-weight-bold\">副業でもWeb制作を！個人で開発の仕事をもらうポイントとは</h4></div><div class=\"position-absolute\" style=\"top: -.75rem; left: -.625rem; width: 11.25rem;\"><div class=\"folding-ribbon display-14 text-white-1 text-center py-8 bg-blog-student-interview\">受講生インタビュー</div></div></a></div></div><div class=\"wow fadeInUp col-12 col-sm-6 col-md-4 mb-32\"><div class=\"bg-white-1 shadow-original position-relative mx-16 mx-sm-0\"><a class=\"text-gray-1\" href=\"/blog/76\"><div class=\"position-relative bg-size-cover\" style=\"height: 200px; background-image: url(https://s3-ap-northeast-1.amazonaws.com/techacademy-bootcamp/blog/covers/76/medium.png)\"></div><div class=\"bg-gray-6 p-16\"><h4 class=\"display-12 font-weight-bold\">ジャマイカで起業！ゲーム感覚で身につく子供向けの算数アプリとは</h4></div><div class=\"position-absolute\" style=\"top: -.75rem; left: -.625rem; width: 11.25rem;\"><div class=\"folding-ribbon display-14 text-white-1 text-center py-8 bg-blog-student-interview\">受講生インタビュー</div></div></a></div></div><div class=\"wow fadeInUp col-12 col-sm-6 col-md-4 mb-32\"><div class=\"bg-white-1 shadow-original position-relative mx-16 mx-sm-0\"><a class=\"text-gray-1\" href=\"/blog/75\"><div class=\"position-relative bg-size-cover\" style=\"height: 200px; background-image: url(https://s3-ap-northeast-1.amazonaws.com/techacademy-bootcamp/blog/covers/75/medium.jpg)\"></div><div class=\"bg-gray-6 p-16\"><h4 class=\"display-12 font-weight-bold\">営業からグルメ系ITベンチャーのWebエンジニアに転身！未経験からキャリアステップに成功した秘訣とは</h4></div><div class=\"position-absolute\" style=\"top: -.75rem; left: -.625rem; width: 11.25rem;\"><div class=\"folding-ribbon display-14 text-white-1 text-center py-8 bg-blog-student-interview\">受講生インタビュー</div></div></a></div></div><div class=\"wow fadeInUp col-12 col-sm-6 col-md-4 mb-32\"><div class=\"bg-white-1 shadow-original position-relative mx-16 mx-sm-0\"><a class=\"text-gray-1\" href=\"/blog/74\"><div class=\"position-relative bg-size-cover\" style=\"height: 200px; background-image: url(https://s3-ap-northeast-1.amazonaws.com/techacademy-bootcamp/blog/covers/74/medium.png)\"></div><div class=\"bg-gray-6 p-16\"><h4 class=\"display-12 font-weight-bold\">全国高校サッカーからITで起業！未経験から開発したiPhoneアプリとは</h4></div><div class=\"position-absolute\" style=\"top: -.75rem; left: -.625rem; width: 11.25rem;\"><div class=\"folding-ribbon display-14 text-white-1 text-center py-8 bg-blog-student-interview\">受講生インタビュー</div></div></a></div></div><div class=\"wow fadeInUp col-12 col-sm-6 col-md-4 mb-32\"><div class=\"bg-white-1 shadow-original position-relative mx-16 mx-sm-0\"><a class=\"text-gray-1\" href=\"/blog/73\"><div class=\"position-relative bg-size-cover\" style=\"height: 200px; background-image: url(https://s3-ap-northeast-1.amazonaws.com/techacademy-bootcamp/blog/covers/73/medium.png)\"></div><div class=\"bg-gray-6 p-16\"><h4 class=\"display-12 font-weight-bold\">アトピーに悩む人の課題解決に！公認会計士が1人で作ったiPhoneアプリとは</h4></div><div class=\"position-absolute\" style=\"top: -.75rem; left: -.625rem; width: 11.25rem;\"><div class=\"folding-ribbon display-14 text-white-1 text-center py-8 bg-blog-student-interview\">受講生インタビュー</div></div></a></div></div><div class=\"wow fadeInUp col-12 col-sm-6 col-md-4 mb-32\"><div class=\"bg-white-1 shadow-original position-relative mx-16 mx-sm-0\"><a class=\"text-gray-1\" href=\"/blog/72\"><div class=\"position-relative bg-size-cover\" style=\"height: 200px; background-image: url(https://s3-ap-northeast-1.amazonaws.com/techacademy-bootcamp/blog/covers/72/medium.png)\"></div><div class=\"bg-gray-6 p-16\"><h4 class=\"display-12 font-weight-bold\">LINEスタンプが発想のタネに！コミュニケーションのきっかけになるお絵描きアプリとは</h4></div><div class=\"position-absolute\" style=\"top: -.75rem; left: -.625rem; width: 11.25rem;\"><div class=\"folding-ribbon display-14 text-white-1 text-center py-8 bg-blog-student-interview\">受講生インタビュー</div></div></a></div></div></div><div class=\"position-relative text-center\"><a class=\"btn bg-billy-primary-1 rounded-pill text-white-1 px-24 py-12 mb-32 mb-md-0\" href=\"/blog\">ブログでもっと見る</a><span class=\"blog-list-note position-absolute d-block display-13 text-gray-3\">※コメントは個人の感想です</span></div></div></div><section class=\"bg-striped px-16 px-md-0 py-20\" id=\"media\"><div class=\"container-sm h-85\"><img alt=\"メディア掲載\" class=\"img-fluid\" src=\"//assets.techacademy.jp/public/media-logos.png\" /></div></section><div class=\"fixd-content-bottom position-fixed text-center text-white-1 w-100\" id=\"fixd-content-bottom\" style=\"display: none !important;\"><div class=\"d-none d-md-inline-block justify-content-center align-items-center bg-billy-fixd-content-bottom-trial rounded-top m-auto pl-md-24 pr-md-12\"><span class=\"display-10 font-weight-bold letter-spacing-spread align-middle\"><img class=\"mr-4 mb-4\" style=\"width: 20px;\" src=\"https://assets.techacademy.jp/assets/icon/trial/beginner-c2f69be85dafa12c28caef47d9883d01aff3e80b648618f1f497fee1573abdfb.png\" alt=\"Beginner\" /><b class=\"text-yellow-1\">プログラミング無料体験</b>やってます</span><a class=\"btn rounded-pill btn-ghost-white text-white-1 border-white-1 border-width-2 display-14 m-md-8\" href=\"/lp-htmlcss-trial-s\" target=\"_blank\">詳しく見る</a></div><div class=\"d-md-none bg-billy-fixd-content-bottom-trial fixd-content-bottom-trial rounded-top px-20 py-16 m-auto\"><a class=\"text-white-1\" href=\"/lp-htmlcss-trial-s\" target=\"_blank\">プログラミング無料体験<i class=\"fa fa-external-link pl-12\"></i></a></div></div><script>$(function() {\n",
      "  // ブートキャンプの位置\n",
      "  var bootcampPosition = $('#top-bootcamp').offset().top;\n",
      "  // フッタの位置\n",
      "  var footerPosition = $('.footer').offset().top;\n",
      "\n",
      "  function getScrollTop() {\n",
      "    // スクロール量\n",
      "    var scrollPosition = $(window).scrollTop();\n",
      "    //console.log(scrollPosition);\n",
      "    // スクロール量にウィンドウの高さを足したもの\n",
      "    var scrollBottomPosition = $(window).scrollTop() + $(window).height();\n",
      "\n",
      "    if (footerPosition < scrollBottomPosition) {\n",
      "      if (!$(\"#fixd-content-bottom\").hasClass(\"fadeOut\")) {\n",
      "        $(\"#fixd-content-bottom\").removeClass(\"fadeIn\").addClass(\"fadeOut\").delay(500).queue(function() {\n",
      "          $(this).css({\"cssText\": \"display: none !important;\"}).dequeue();\n",
      "        });\n",
      "      }\n",
      "    } else if (bootcampPosition < scrollPosition) {\n",
      "      if (!$(\"#fixd-content-bottom\").hasClass(\"fadeIn\")) {\n",
      "        $(\"#fixd-content-bottom\").removeClass(\"fadeOut\").addClass(\"fadeIn\").delay(500).queue(function() {\n",
      "          $(this).css({\"cssText\": \"display: block !important;\"}).dequeue();\n",
      "        });\n",
      "      }\n",
      "    } else if ($(\"#fixd-content-bottom\").hasClass(\"fadeIn\")) {\n",
      "      if (!$(\"#fixd-content-bottom\").hasClass(\"fadeOut\")) {\n",
      "        $(\"#fixd-content-bottom\").removeClass(\"fadeIn\").addClass(\"fadeOut\").delay(500).queue(function() {\n",
      "          $(this).css({\"cssText\": \"display: none !important;\"}).dequeue();\n",
      "        });\n",
      "      }\n",
      "    }\n",
      "  }\n",
      "\n",
      "  $(window).on(\"load scroll resize\", getScrollTop);\n",
      "});</script></main><footer class=\"footer\"><div class=\"container-lg px-16 py-20\"><ul class=\"nav footer-top mb-16\"><li class=\"nav-item\"><a class=\"nav-link p-0 pr-24\" href=\"/contact\">お問い合わせ</a></li><li class=\"nav-item\"><a class=\"nav-link p-0 pr-24\" href=\"/faq\">よくあるご質問</a></li><li class=\"nav-item\"><a class=\"nav-link p-0 pr-24\" href=\"/contest\">コンテスト</a></li><li class=\"nav-item\"><a class=\"nav-link p-0 pr-24\" href=\"/blog\">ブログ</a></li><li class=\"nav-item\"><a class=\"nav-link p-0 pr-24\" href=\"/jobs\">メンター募集</a></li><li class=\"nav-item\"><a class=\"nav-link p-0 pr-12\" target=\"_blank\" href=\"https://techacademy.jp/magazine/\">マガジン<i aria-hidden=\"true\" class=\"fa fa-external-link pl-2\"></i></a></li></ul><div class=\"row no-gutters\"><ul class=\"nav footer-bottom col-12 col-md-auto mr-auto mb-8\"><li class=\"nav-item\"><a class=\"nav-link text-gray-3 p-0 pr-24\" href=\"/company\">運営会社</a></li><li class=\"nav-item\"><a class=\"nav-link text-gray-3 p-0 pr-24\" href=\"/terms\">利用規約</a></li><li class=\"nav-item\"><a class=\"nav-link text-gray-3 p-0 pr-24\" href=\"/privacypolicy\">プライバシーポリシー</a></li><li class=\"nav-item\"><a class=\"nav-link text-gray-3 p-0 pr-24\" href=\"/law\">特定商取引法に関する表示</a></li></ul><ul class=\"nav footer-sns col-12 col-md-auto\"><li class=\"nav-item\"><a target=\"_blank\" class=\"nav-link text-gray-3 p-0 pr-20 pr-md-20\" href=\"https://www.facebook.com/techacademy\"><i aria-label=\"Facebook\" class=\"fa fa-facebook\" title=\"Facebook\"></i></a></li><li class=\"nav-item\"><a target=\"_blank\" class=\"nav-link text-gray-3 p-0\" href=\"https://twitter.com/techacademy\"><i aria-label=\"Twitter\" class=\"fa fa-twitter\" title=\"Twitter\"></i></a></li></ul></div><div class=\"text-center text-gray-3\"><small>&copy;2009 -\n",
      "2020KiRAMEX<span class=\"d-none d-sm-inline-block\">CORPORATION.</span></small></div></div></footer><script id=\"ze-snippet\" src=\"https://static.zdassets.com/ekr/snippet.js?key=be8eb876-5428-4daa-a1f3-862e85def3a6\"></script>\n",
      "</body></html>\n"
     ]
    }
   ],
   "source": [
    "from urllib import request\n",
    "\n",
    "response = request.urlopen('https://techacademy.jp/')\n",
    "print(response.read().decode())\n",
    "response.close()"
   ]
  },
  {
   "cell_type": "code",
   "execution_count": 17,
   "metadata": {},
   "outputs": [
    {
     "ename": "ModuleNotFoundError",
     "evalue": "No module named 'pdp'",
     "output_type": "error",
     "traceback": [
      "\u001b[0;31m---------------------------------------------------------------------------\u001b[0m",
      "\u001b[0;31mModuleNotFoundError\u001b[0m                       Traceback (most recent call last)",
      "\u001b[0;32m<ipython-input-17-85636a6b9d4e>\u001b[0m in \u001b[0;36m<module>\u001b[0;34m\u001b[0m\n\u001b[0;32m----> 1\u001b[0;31m \u001b[0;32mimport\u001b[0m \u001b[0mpdp\u001b[0m\u001b[0;34m\u001b[0m\u001b[0;34m\u001b[0m\u001b[0m\n\u001b[0m",
      "\u001b[0;31mModuleNotFoundError\u001b[0m: No module named 'pdp'"
     ]
    }
   ],
   "source": [
    "import pdp"
   ]
  },
  {
   "cell_type": "code",
   "execution_count": 18,
   "metadata": {},
   "outputs": [],
   "source": [
    "import pdb"
   ]
  },
  {
   "cell_type": "code",
   "execution_count": 20,
   "metadata": {},
   "outputs": [
    {
     "name": "stdout",
     "output_type": "stream",
     "text": [
      "4\n",
      "--Return--\n",
      "None\n",
      "> \u001b[0;32m<ipython-input-20-54be9e1db636>\u001b[0m(2)\u001b[0;36m<module>\u001b[0;34m()\u001b[0m\n",
      "\u001b[0;32m      1 \u001b[0;31m\u001b[0mprint\u001b[0m\u001b[0;34m(\u001b[0m\u001b[0;36m4\u001b[0m \u001b[0;34m+\u001b[0m \u001b[0;36m0\u001b[0m\u001b[0;34m)\u001b[0m\u001b[0;34m\u001b[0m\u001b[0;34m\u001b[0m\u001b[0m\n",
      "\u001b[0m\u001b[0;32m----> 2 \u001b[0;31m\u001b[0mpdb\u001b[0m\u001b[0;34m.\u001b[0m\u001b[0mset_trace\u001b[0m\u001b[0;34m(\u001b[0m\u001b[0;34m)\u001b[0m\u001b[0;34m\u001b[0m\u001b[0;34m\u001b[0m\u001b[0m\n",
      "\u001b[0m\u001b[0;32m      3 \u001b[0;31m\u001b[0mprint\u001b[0m\u001b[0;34m(\u001b[0m\u001b[0;36m4\u001b[0m \u001b[0;34m-\u001b[0m \u001b[0;36m0\u001b[0m\u001b[0;34m)\u001b[0m\u001b[0;34m\u001b[0m\u001b[0;34m\u001b[0m\u001b[0m\n",
      "\u001b[0m\u001b[0;32m      4 \u001b[0;31m\u001b[0mpdb\u001b[0m\u001b[0;34m.\u001b[0m\u001b[0mset_trace\u001b[0m\u001b[0;34m(\u001b[0m\u001b[0;34m)\u001b[0m\u001b[0;34m\u001b[0m\u001b[0;34m\u001b[0m\u001b[0m\n",
      "\u001b[0m\u001b[0;32m      5 \u001b[0;31m\u001b[0mprint\u001b[0m\u001b[0;34m(\u001b[0m\u001b[0;36m4\u001b[0m \u001b[0;34m*\u001b[0m \u001b[0;36m0\u001b[0m\u001b[0;34m)\u001b[0m\u001b[0;34m\u001b[0m\u001b[0;34m\u001b[0m\u001b[0m\n",
      "\u001b[0m\n"
     ]
    },
    {
     "name": "stdin",
     "output_type": "stream",
     "text": [
      "ipdb>  c\n"
     ]
    },
    {
     "name": "stdout",
     "output_type": "stream",
     "text": [
      "4\n",
      "--Return--\n",
      "None\n",
      "> \u001b[0;32m<ipython-input-20-54be9e1db636>\u001b[0m(4)\u001b[0;36m<module>\u001b[0;34m()\u001b[0m\n",
      "\u001b[0;32m      2 \u001b[0;31m\u001b[0mpdb\u001b[0m\u001b[0;34m.\u001b[0m\u001b[0mset_trace\u001b[0m\u001b[0;34m(\u001b[0m\u001b[0;34m)\u001b[0m\u001b[0;34m\u001b[0m\u001b[0;34m\u001b[0m\u001b[0m\n",
      "\u001b[0m\u001b[0;32m      3 \u001b[0;31m\u001b[0mprint\u001b[0m\u001b[0;34m(\u001b[0m\u001b[0;36m4\u001b[0m \u001b[0;34m-\u001b[0m \u001b[0;36m0\u001b[0m\u001b[0;34m)\u001b[0m\u001b[0;34m\u001b[0m\u001b[0;34m\u001b[0m\u001b[0m\n",
      "\u001b[0m\u001b[0;32m----> 4 \u001b[0;31m\u001b[0mpdb\u001b[0m\u001b[0;34m.\u001b[0m\u001b[0mset_trace\u001b[0m\u001b[0;34m(\u001b[0m\u001b[0;34m)\u001b[0m\u001b[0;34m\u001b[0m\u001b[0;34m\u001b[0m\u001b[0m\n",
      "\u001b[0m\u001b[0;32m      5 \u001b[0;31m\u001b[0mprint\u001b[0m\u001b[0;34m(\u001b[0m\u001b[0;36m4\u001b[0m \u001b[0;34m*\u001b[0m \u001b[0;36m0\u001b[0m\u001b[0;34m)\u001b[0m\u001b[0;34m\u001b[0m\u001b[0;34m\u001b[0m\u001b[0m\n",
      "\u001b[0m\u001b[0;32m      6 \u001b[0;31m\u001b[0mpdb\u001b[0m\u001b[0;34m.\u001b[0m\u001b[0mset_trace\u001b[0m\u001b[0;34m(\u001b[0m\u001b[0;34m)\u001b[0m\u001b[0;34m\u001b[0m\u001b[0;34m\u001b[0m\u001b[0m\n",
      "\u001b[0m\n"
     ]
    },
    {
     "name": "stdin",
     "output_type": "stream",
     "text": [
      "ipdb>  c\n"
     ]
    },
    {
     "name": "stdout",
     "output_type": "stream",
     "text": [
      "0\n",
      "--Return--\n",
      "None\n",
      "> \u001b[0;32m<ipython-input-20-54be9e1db636>\u001b[0m(6)\u001b[0;36m<module>\u001b[0;34m()\u001b[0m\n",
      "\u001b[0;32m      4 \u001b[0;31m\u001b[0mpdb\u001b[0m\u001b[0;34m.\u001b[0m\u001b[0mset_trace\u001b[0m\u001b[0;34m(\u001b[0m\u001b[0;34m)\u001b[0m\u001b[0;34m\u001b[0m\u001b[0;34m\u001b[0m\u001b[0m\n",
      "\u001b[0m\u001b[0;32m      5 \u001b[0;31m\u001b[0mprint\u001b[0m\u001b[0;34m(\u001b[0m\u001b[0;36m4\u001b[0m \u001b[0;34m*\u001b[0m \u001b[0;36m0\u001b[0m\u001b[0;34m)\u001b[0m\u001b[0;34m\u001b[0m\u001b[0;34m\u001b[0m\u001b[0m\n",
      "\u001b[0m\u001b[0;32m----> 6 \u001b[0;31m\u001b[0mpdb\u001b[0m\u001b[0;34m.\u001b[0m\u001b[0mset_trace\u001b[0m\u001b[0;34m(\u001b[0m\u001b[0;34m)\u001b[0m\u001b[0;34m\u001b[0m\u001b[0;34m\u001b[0m\u001b[0m\n",
      "\u001b[0m\u001b[0;32m      7 \u001b[0;31m\u001b[0mprint\u001b[0m\u001b[0;34m(\u001b[0m\u001b[0;36m4\u001b[0m \u001b[0;34m/\u001b[0m \u001b[0;36m0\u001b[0m\u001b[0;34m)\u001b[0m\u001b[0;34m\u001b[0m\u001b[0;34m\u001b[0m\u001b[0m\n",
      "\u001b[0m\u001b[0;32m      8 \u001b[0;31m\u001b[0mpdb\u001b[0m\u001b[0;34m.\u001b[0m\u001b[0mset_trace\u001b[0m\u001b[0;34m(\u001b[0m\u001b[0;34m)\u001b[0m\u001b[0;34m\u001b[0m\u001b[0;34m\u001b[0m\u001b[0m\n",
      "\u001b[0m\n"
     ]
    },
    {
     "name": "stdin",
     "output_type": "stream",
     "text": [
      "ipdb>  c\n"
     ]
    },
    {
     "ename": "ZeroDivisionError",
     "evalue": "division by zero",
     "output_type": "error",
     "traceback": [
      "\u001b[0;31m---------------------------------------------------------------------------\u001b[0m",
      "\u001b[0;31mZeroDivisionError\u001b[0m                         Traceback (most recent call last)",
      "\u001b[0;32m<ipython-input-20-54be9e1db636>\u001b[0m in \u001b[0;36m<module>\u001b[0;34m\u001b[0m\n\u001b[1;32m      5\u001b[0m \u001b[0mprint\u001b[0m\u001b[0;34m(\u001b[0m\u001b[0;36m4\u001b[0m \u001b[0;34m*\u001b[0m \u001b[0;36m0\u001b[0m\u001b[0;34m)\u001b[0m\u001b[0;34m\u001b[0m\u001b[0;34m\u001b[0m\u001b[0m\n\u001b[1;32m      6\u001b[0m \u001b[0mpdb\u001b[0m\u001b[0;34m.\u001b[0m\u001b[0mset_trace\u001b[0m\u001b[0;34m(\u001b[0m\u001b[0;34m)\u001b[0m\u001b[0;34m\u001b[0m\u001b[0;34m\u001b[0m\u001b[0m\n\u001b[0;32m----> 7\u001b[0;31m \u001b[0mprint\u001b[0m\u001b[0;34m(\u001b[0m\u001b[0;36m4\u001b[0m \u001b[0;34m/\u001b[0m \u001b[0;36m0\u001b[0m\u001b[0;34m)\u001b[0m\u001b[0;34m\u001b[0m\u001b[0;34m\u001b[0m\u001b[0m\n\u001b[0m\u001b[1;32m      8\u001b[0m \u001b[0mpdb\u001b[0m\u001b[0;34m.\u001b[0m\u001b[0mset_trace\u001b[0m\u001b[0;34m(\u001b[0m\u001b[0;34m)\u001b[0m\u001b[0;34m\u001b[0m\u001b[0;34m\u001b[0m\u001b[0m\n\u001b[1;32m      9\u001b[0m \u001b[0mprint\u001b[0m\u001b[0;34m(\u001b[0m\u001b[0;36m4\u001b[0m \u001b[0;34m**\u001b[0m \u001b[0;36m0\u001b[0m\u001b[0;34m)\u001b[0m\u001b[0;34m\u001b[0m\u001b[0;34m\u001b[0m\u001b[0m\n",
      "\u001b[0;31mZeroDivisionError\u001b[0m: division by zero"
     ]
    }
   ],
   "source": [
    "print(4 + 0)\n",
    "pdb.set_trace()\n",
    "print(4 - 0)\n",
    "pdb.set_trace()\n",
    "print(4 * 0)\n",
    "pdb.set_trace()\n",
    "print(4 / 0)\n",
    "pdb.set_trace()\n",
    "print(4 ** 0)"
   ]
  },
  {
   "cell_type": "code",
   "execution_count": 21,
   "metadata": {},
   "outputs": [
    {
     "name": "stdout",
     "output_type": "stream",
     "text": [
      "4\n",
      "4\n",
      "0\n"
     ]
    },
    {
     "ename": "ZeroDivisionError",
     "evalue": "division by zero",
     "output_type": "error",
     "traceback": [
      "\u001b[0;31m---------------------------------------------------------------------------\u001b[0m",
      "\u001b[0;31mZeroDivisionError\u001b[0m                         Traceback (most recent call last)",
      "\u001b[0;32m<ipython-input-21-93d7e756c9cd>\u001b[0m in \u001b[0;36m<module>\u001b[0;34m\u001b[0m\n\u001b[1;32m      2\u001b[0m \u001b[0mprint\u001b[0m\u001b[0;34m(\u001b[0m\u001b[0;36m4\u001b[0m \u001b[0;34m-\u001b[0m \u001b[0;36m0\u001b[0m\u001b[0;34m)\u001b[0m\u001b[0;34m\u001b[0m\u001b[0;34m\u001b[0m\u001b[0m\n\u001b[1;32m      3\u001b[0m \u001b[0mprint\u001b[0m\u001b[0;34m(\u001b[0m\u001b[0;36m4\u001b[0m \u001b[0;34m*\u001b[0m \u001b[0;36m0\u001b[0m\u001b[0;34m)\u001b[0m\u001b[0;34m\u001b[0m\u001b[0;34m\u001b[0m\u001b[0m\n\u001b[0;32m----> 4\u001b[0;31m \u001b[0mprint\u001b[0m\u001b[0;34m(\u001b[0m\u001b[0;36m4\u001b[0m \u001b[0;34m/\u001b[0m \u001b[0;36m0\u001b[0m\u001b[0;34m)\u001b[0m\u001b[0;34m\u001b[0m\u001b[0;34m\u001b[0m\u001b[0m\n\u001b[0m\u001b[1;32m      5\u001b[0m \u001b[0mprint\u001b[0m\u001b[0;34m(\u001b[0m\u001b[0;36m4\u001b[0m \u001b[0;34m**\u001b[0m \u001b[0;36m0\u001b[0m\u001b[0;34m)\u001b[0m\u001b[0;34m\u001b[0m\u001b[0;34m\u001b[0m\u001b[0m\n",
      "\u001b[0;31mZeroDivisionError\u001b[0m: division by zero"
     ]
    }
   ],
   "source": [
    "print(4 + 0)\n",
    "print(4 - 0)\n",
    "print(4 * 0)\n",
    "print(4 / 0)\n",
    "print(4 ** 0)"
   ]
  },
  {
   "cell_type": "code",
   "execution_count": 22,
   "metadata": {},
   "outputs": [
    {
     "name": "stdout",
     "output_type": "stream",
     "text": [
      "None\n",
      "> \u001b[0;32m<ipython-input-21-93d7e756c9cd>\u001b[0m(4)\u001b[0;36m<module>\u001b[0;34m()\u001b[0m\n",
      "\u001b[0;32m      1 \u001b[0;31m\u001b[0mprint\u001b[0m\u001b[0;34m(\u001b[0m\u001b[0;36m4\u001b[0m \u001b[0;34m+\u001b[0m \u001b[0;36m0\u001b[0m\u001b[0;34m)\u001b[0m\u001b[0;34m\u001b[0m\u001b[0;34m\u001b[0m\u001b[0m\n",
      "\u001b[0m\u001b[0;32m      2 \u001b[0;31m\u001b[0mprint\u001b[0m\u001b[0;34m(\u001b[0m\u001b[0;36m4\u001b[0m \u001b[0;34m-\u001b[0m \u001b[0;36m0\u001b[0m\u001b[0;34m)\u001b[0m\u001b[0;34m\u001b[0m\u001b[0;34m\u001b[0m\u001b[0m\n",
      "\u001b[0m\u001b[0;32m      3 \u001b[0;31m\u001b[0mprint\u001b[0m\u001b[0;34m(\u001b[0m\u001b[0;36m4\u001b[0m \u001b[0;34m*\u001b[0m \u001b[0;36m0\u001b[0m\u001b[0;34m)\u001b[0m\u001b[0;34m\u001b[0m\u001b[0;34m\u001b[0m\u001b[0m\n",
      "\u001b[0m\u001b[0;32m----> 4 \u001b[0;31m\u001b[0mprint\u001b[0m\u001b[0;34m(\u001b[0m\u001b[0;36m4\u001b[0m \u001b[0;34m/\u001b[0m \u001b[0;36m0\u001b[0m\u001b[0;34m)\u001b[0m\u001b[0;34m\u001b[0m\u001b[0;34m\u001b[0m\u001b[0m\n",
      "\u001b[0m\u001b[0;32m      5 \u001b[0;31m\u001b[0mprint\u001b[0m\u001b[0;34m(\u001b[0m\u001b[0;36m4\u001b[0m \u001b[0;34m**\u001b[0m \u001b[0;36m0\u001b[0m\u001b[0;34m)\u001b[0m\u001b[0;34m\u001b[0m\u001b[0;34m\u001b[0m\u001b[0m\n",
      "\u001b[0m\n"
     ]
    },
    {
     "name": "stdin",
     "output_type": "stream",
     "text": [
      "ipdb>  c\n"
     ]
    }
   ],
   "source": [
    "%debug"
   ]
  },
  {
   "cell_type": "code",
   "execution_count": 23,
   "metadata": {},
   "outputs": [
    {
     "name": "stdout",
     "output_type": "stream",
     "text": [
      "Automatic pdb calling has been turned ON\n"
     ]
    }
   ],
   "source": [
    "%pdb on"
   ]
  },
  {
   "cell_type": "code",
   "execution_count": 24,
   "metadata": {},
   "outputs": [
    {
     "name": "stdout",
     "output_type": "stream",
     "text": [
      "4\n",
      "4\n",
      "0\n"
     ]
    },
    {
     "ename": "ZeroDivisionError",
     "evalue": "division by zero",
     "output_type": "error",
     "traceback": [
      "\u001b[0;31m---------------------------------------------------------------------------\u001b[0m",
      "\u001b[0;31mZeroDivisionError\u001b[0m                         Traceback (most recent call last)",
      "\u001b[0;32m<ipython-input-24-93d7e756c9cd>\u001b[0m in \u001b[0;36m<module>\u001b[0;34m\u001b[0m\n\u001b[1;32m      2\u001b[0m \u001b[0mprint\u001b[0m\u001b[0;34m(\u001b[0m\u001b[0;36m4\u001b[0m \u001b[0;34m-\u001b[0m \u001b[0;36m0\u001b[0m\u001b[0;34m)\u001b[0m\u001b[0;34m\u001b[0m\u001b[0;34m\u001b[0m\u001b[0m\n\u001b[1;32m      3\u001b[0m \u001b[0mprint\u001b[0m\u001b[0;34m(\u001b[0m\u001b[0;36m4\u001b[0m \u001b[0;34m*\u001b[0m \u001b[0;36m0\u001b[0m\u001b[0;34m)\u001b[0m\u001b[0;34m\u001b[0m\u001b[0;34m\u001b[0m\u001b[0m\n\u001b[0;32m----> 4\u001b[0;31m \u001b[0mprint\u001b[0m\u001b[0;34m(\u001b[0m\u001b[0;36m4\u001b[0m \u001b[0;34m/\u001b[0m \u001b[0;36m0\u001b[0m\u001b[0;34m)\u001b[0m\u001b[0;34m\u001b[0m\u001b[0;34m\u001b[0m\u001b[0m\n\u001b[0m\u001b[1;32m      5\u001b[0m \u001b[0mprint\u001b[0m\u001b[0;34m(\u001b[0m\u001b[0;36m4\u001b[0m \u001b[0;34m**\u001b[0m \u001b[0;36m0\u001b[0m\u001b[0;34m)\u001b[0m\u001b[0;34m\u001b[0m\u001b[0;34m\u001b[0m\u001b[0m\n",
      "\u001b[0;31mZeroDivisionError\u001b[0m: division by zero"
     ]
    },
    {
     "name": "stdout",
     "output_type": "stream",
     "text": [
      "None\n",
      "> \u001b[0;32m<ipython-input-24-93d7e756c9cd>\u001b[0m(4)\u001b[0;36m<module>\u001b[0;34m()\u001b[0m\n",
      "\u001b[0;32m      1 \u001b[0;31m\u001b[0mprint\u001b[0m\u001b[0;34m(\u001b[0m\u001b[0;36m4\u001b[0m \u001b[0;34m+\u001b[0m \u001b[0;36m0\u001b[0m\u001b[0;34m)\u001b[0m\u001b[0;34m\u001b[0m\u001b[0;34m\u001b[0m\u001b[0m\n",
      "\u001b[0m\u001b[0;32m      2 \u001b[0;31m\u001b[0mprint\u001b[0m\u001b[0;34m(\u001b[0m\u001b[0;36m4\u001b[0m \u001b[0;34m-\u001b[0m \u001b[0;36m0\u001b[0m\u001b[0;34m)\u001b[0m\u001b[0;34m\u001b[0m\u001b[0;34m\u001b[0m\u001b[0m\n",
      "\u001b[0m\u001b[0;32m      3 \u001b[0;31m\u001b[0mprint\u001b[0m\u001b[0;34m(\u001b[0m\u001b[0;36m4\u001b[0m \u001b[0;34m*\u001b[0m \u001b[0;36m0\u001b[0m\u001b[0;34m)\u001b[0m\u001b[0;34m\u001b[0m\u001b[0;34m\u001b[0m\u001b[0m\n",
      "\u001b[0m\u001b[0;32m----> 4 \u001b[0;31m\u001b[0mprint\u001b[0m\u001b[0;34m(\u001b[0m\u001b[0;36m4\u001b[0m \u001b[0;34m/\u001b[0m \u001b[0;36m0\u001b[0m\u001b[0;34m)\u001b[0m\u001b[0;34m\u001b[0m\u001b[0;34m\u001b[0m\u001b[0m\n",
      "\u001b[0m\u001b[0;32m      5 \u001b[0;31m\u001b[0mprint\u001b[0m\u001b[0;34m(\u001b[0m\u001b[0;36m4\u001b[0m \u001b[0;34m**\u001b[0m \u001b[0;36m0\u001b[0m\u001b[0;34m)\u001b[0m\u001b[0;34m\u001b[0m\u001b[0;34m\u001b[0m\u001b[0m\n",
      "\u001b[0m\n"
     ]
    },
    {
     "name": "stdin",
     "output_type": "stream",
     "text": [
      "ipdb>  c\n"
     ]
    }
   ],
   "source": [
    "print(4 + 0)\n",
    "print(4 - 0)\n",
    "print(4 * 0)\n",
    "print(4 / 0)\n",
    "print(4 ** 0)"
   ]
  },
  {
   "cell_type": "code",
   "execution_count": 25,
   "metadata": {},
   "outputs": [
    {
     "name": "stdout",
     "output_type": "stream",
     "text": [
      "Automatic pdb calling has been turned OFF\n"
     ]
    }
   ],
   "source": [
    "%pdb off"
   ]
  },
  {
   "cell_type": "code",
   "execution_count": null,
   "metadata": {},
   "outputs": [],
   "source": []
  }
 ],
 "metadata": {
  "kernelspec": {
   "display_name": "Python 3",
   "language": "python",
   "name": "python3"
  },
  "language_info": {
   "codemirror_mode": {
    "name": "ipython",
    "version": 3
   },
   "file_extension": ".py",
   "mimetype": "text/x-python",
   "name": "python",
   "nbconvert_exporter": "python",
   "pygments_lexer": "ipython3",
   "version": "3.8.3"
  }
 },
 "nbformat": 4,
 "nbformat_minor": 4
}
