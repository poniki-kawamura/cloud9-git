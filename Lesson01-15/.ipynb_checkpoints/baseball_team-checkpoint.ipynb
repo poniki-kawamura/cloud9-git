{
 "cells": [
  {
   "cell_type": "code",
   "execution_count": 32,
   "metadata": {},
   "outputs": [],
   "source": [
    "class Baseball_Team:\n",
    "    # property\n",
    "    win = 0\n",
    "    lose = 0\n",
    "    draw = 0\n",
    "    \n",
    "    #constructor\n",
    "    def __init__(self, name):\n",
    "        self.name = name\n",
    "        \n",
    "    #methods\n",
    "    def set_win(self, win):\n",
    "        self.win = win\n",
    "    \n",
    "    def set_lose(self, lose):\n",
    "        self.lose = lose\n",
    "    \n",
    "    def set_draw(self, draw):\n",
    "        self.draw = draw\n",
    "\n",
    "    def calc_win_rate(self):\n",
    "        return \"{:.3f}\".format((round(self.win / (self.win + self.lose),3)))\n",
    "                   \n",
    "    def show_team_result(self):\n",
    "        print(f\"{'{0:<8}'.format(self.name)} {'{0:<4}'.format(self.win)} {'{0:<5}'.format(self.lose)} {'{0:<1}'.format(self.draw)} {self.calc_win_rate()}\")"
   ]
  },
  {
   "cell_type": "code",
   "execution_count": 33,
   "metadata": {},
   "outputs": [
    {
     "name": "stdout",
     "output_type": "stream",
     "text": [
      "team    win lose draw rate\n",
      "Giants   77   64    2 0.546\n",
      "Baystars 71   69    3 0.507\n",
      "Tigers   69   68    6 0.504\n",
      "Carp     70   70    3 0.500\n",
      "Dragons  68   73    2 0.482\n",
      "Swallows 59   82    2 0.418\n"
     ]
    }
   ],
   "source": [
    "g = Baseball_Team(\"Giants\")\n",
    "g.set_win(77)\n",
    "g.set_lose(64)\n",
    "g.set_draw(2)\n",
    "\n",
    "b = Baseball_Team(\"Baystars\")\n",
    "b.set_win(71)\n",
    "b.set_lose(69)\n",
    "b.set_draw(3)\n",
    "\n",
    "t = Baseball_Team(\"Tigers\")\n",
    "t.set_win(69)\n",
    "t.set_lose(68)\n",
    "t.set_draw(6)\n",
    "\n",
    "c = Baseball_Team(\"Carp\")\n",
    "c.set_win(70)\n",
    "c.set_lose(70)\n",
    "c.set_draw(3)\n",
    "\n",
    "d = Baseball_Team(\"Dragons\")\n",
    "d.set_win(68)\n",
    "d.set_lose(73)\n",
    "d.set_draw(2)\n",
    "\n",
    "s = Baseball_Team(\"Swallows\")\n",
    "s.set_win(59)\n",
    "s.set_lose(82)\n",
    "s.set_draw(2)\n",
    "\n",
    "print('{0:<8}'.format(\"team\") + '{0:<4}'.format(\"win\") + '{0:<5}'.format(\"lose\") + '{0:<5}'.format(\"draw\") + \"rate\")\n",
    "g.show_team_result()\n",
    "b.show_team_result()\n",
    "t.show_team_result()\n",
    "c.show_team_result()\n",
    "d.show_team_result()\n",
    "s.show_team_result()"
   ]
  },
  {
   "cell_type": "code",
   "execution_count": null,
   "metadata": {},
   "outputs": [],
   "source": []
  }
 ],
 "metadata": {
  "kernelspec": {
   "display_name": "Python 3",
   "language": "python",
   "name": "python3"
  },
  "language_info": {
   "codemirror_mode": {
    "name": "ipython",
    "version": 3
   },
   "file_extension": ".py",
   "mimetype": "text/x-python",
   "name": "python",
   "nbconvert_exporter": "python",
   "pygments_lexer": "ipython3",
   "version": "3.8.3"
  }
 },
 "nbformat": 4,
 "nbformat_minor": 4
}
