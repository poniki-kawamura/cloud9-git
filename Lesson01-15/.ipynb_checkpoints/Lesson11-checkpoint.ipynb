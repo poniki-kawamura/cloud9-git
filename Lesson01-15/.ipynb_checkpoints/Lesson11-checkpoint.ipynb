{
 "cells": [
  {
   "cell_type": "code",
   "execution_count": 1,
   "metadata": {},
   "outputs": [
    {
     "name": "stdout",
     "output_type": "stream",
     "text": [
      "password：パターンに合致していません。\n",
      "pass：パターンに合致していません。\n",
      "Passw0rd：パターンに合致しています。\n"
     ]
    }
   ],
   "source": [
    "import re\n",
    "\n",
    "rep = r'(?=.*\\d)(?=.*[a-z])(?=.*[A-Z]).{8,}'\n",
    "password1 = 'password'\n",
    "password2 = 'pass'\n",
    "password3 = 'Passw0rd'\n",
    "\n",
    "print(f'{password1}：',end='')\n",
    "if re.match(rep, password1) :\n",
    "    print('パターンに合致しています。')\n",
    "else:\n",
    "    print('パターンに合致していません。')\n",
    "\n",
    "print(f'{password2}：',end='')\n",
    "if re.match(rep, password2) :\n",
    "    print('パターンに合致しています。')\n",
    "else:\n",
    "    print('パターンに合致していません。')\n",
    "\n",
    "print(f'{password3}：',end='')\n",
    "if re.match(rep, password3) :\n",
    "    print('パターンに合致しています。')\n",
    "else:\n",
    "    print('パターンに合致していません。')"
   ]
  },
  {
   "cell_type": "code",
   "execution_count": null,
   "metadata": {},
   "outputs": [],
   "source": []
  }
 ],
 "metadata": {
  "kernelspec": {
   "display_name": "Python 3",
   "language": "python",
   "name": "python3"
  },
  "language_info": {
   "codemirror_mode": {
    "name": "ipython",
    "version": 3
   },
   "file_extension": ".py",
   "mimetype": "text/x-python",
   "name": "python",
   "nbconvert_exporter": "python",
   "pygments_lexer": "ipython3",
   "version": "3.8.3"
  }
 },
 "nbformat": 4,
 "nbformat_minor": 4
}
