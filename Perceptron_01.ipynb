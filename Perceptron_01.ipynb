{
 "cells": [
  {
   "cell_type": "code",
   "execution_count": 1,
   "metadata": {},
   "outputs": [
    {
     "name": "stdout",
     "output_type": "stream",
     "text": [
      "NOT 0 = 1\n",
      "NOT 1 = 0\n"
     ]
    }
   ],
   "source": [
    "#形式ニューロン、NOT素子の学習\n",
    "import random\n",
    "\n",
    "#重みとバイアス、この２つの値を学習によって変化させる\n",
    "W = random.random()\n",
    "#重み、初期値をランダムに設定（0.0以上1.0未満)\n",
    "B = random.random()\n",
    "#バイアス、初期値をランダムに設定\n",
    "\n",
    "LEARNING_RATE = 0.1\n",
    "#学習係数-適切に小さな値を設定\n",
    "\n",
    "#100回学習を繰り返す\n",
    "for trial in range(100):\n",
    "    #次の訓練データをランダムに用意\n",
    "    (x,y) = (1, 0)if random.randint(0,1) == 0 else(0,1)\n",
    "    #NOT素子を動かす\n",
    "    u = x*W + B\n",
    "    result = 1 if u > 0 else 0\n",
    "    \n",
    "    #結果が間違っていたら\n",
    "    if result != y:\n",
    "        if result == 0:\n",
    "            #本来１のところに０が出たら、影響にあるところだけ更新。Wは更新しない\n",
    "            B += LEARNING_RATE\n",
    "        \n",
    "        else:\n",
    "            W -= LEARNING_RATE\n",
    "            B -= LEARNING_RATE\n",
    "#結果確認\n",
    "for x in[0,1]:\n",
    "    u = x*W + B\n",
    "    result = 1 if u > 0 else 0\n",
    "    print(\"NOT\",x,\"=\",result)"
   ]
  },
  {
   "cell_type": "code",
   "execution_count": null,
   "metadata": {},
   "outputs": [],
   "source": []
  }
 ],
 "metadata": {
  "kernelspec": {
   "display_name": "Python 3",
   "language": "python",
   "name": "python3"
  },
  "language_info": {
   "codemirror_mode": {
    "name": "ipython",
    "version": 3
   },
   "file_extension": ".py",
   "mimetype": "text/x-python",
   "name": "python",
   "nbconvert_exporter": "python",
   "pygments_lexer": "ipython3",
   "version": "3.8.3"
  }
 },
 "nbformat": 4,
 "nbformat_minor": 4
}
