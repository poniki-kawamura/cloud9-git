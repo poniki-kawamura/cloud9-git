{
 "cells": [
  {
   "cell_type": "code",
   "execution_count": 13,
   "metadata": {},
   "outputs": [
    {
     "name": "stdout",
     "output_type": "stream",
     "text": [
      "(0, 0) = 0\n",
      "(0, 1) = 1\n",
      "(1, 0) = 1\n",
      "(1, 1) = 1\n"
     ]
    }
   ],
   "source": [
    "import random\n",
    "\n",
    "W = [random.random() for _ in range(2)]\n",
    "B = random.random()\n",
    "\n",
    "LEARNING_RATE = 0.1\n",
    "\n",
    "for trial in range(100):\n",
    "    x = [random.randint(0,1) for _ in range(2)]\n",
    "    y = x[0] or x[1]\n",
    "    u = sum([W[i]*x[i] for i in range(2)]) + B\n",
    "    result = 1 if u > 0 else 0\n",
    "    \n",
    "    if result != y:\n",
    "        if result == 0:\n",
    "            if x[0] == 1:\n",
    "                W[0] += LEARNING_RATE\n",
    "            if x[1] == 1:\n",
    "                W[1] += LEARNING_RATE\n",
    "            B += LEARNING_RATE\n",
    "        else:\n",
    "            if x[0] == 1:\n",
    "                W[0] -= LEARNING_RATE\n",
    "            if x[1] == 1:\n",
    "                W[1] -= LEARNING_RATE\n",
    "            B -= LEARNING_RATE\n",
    "            \n",
    "for x in [(0,0),(0,1),(1,0),(1,1)]:\n",
    "    u = sum([W[i]*x[i] for i in range(len(x))]) + B\n",
    "    result = 1 if u > 0 else 0\n",
    "    print(\"{} = {}\".format(x, result))"
   ]
  },
  {
   "cell_type": "code",
   "execution_count": null,
   "metadata": {},
   "outputs": [],
   "source": []
  }
 ],
 "metadata": {
  "kernelspec": {
   "display_name": "Python 3",
   "language": "python",
   "name": "python3"
  },
  "language_info": {
   "codemirror_mode": {
    "name": "ipython",
    "version": 3
   },
   "file_extension": ".py",
   "mimetype": "text/x-python",
   "name": "python",
   "nbconvert_exporter": "python",
   "pygments_lexer": "ipython3",
   "version": "3.8.3"
  }
 },
 "nbformat": 4,
 "nbformat_minor": 4
}
