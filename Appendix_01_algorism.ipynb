{
 "cells": [
  {
   "cell_type": "code",
   "execution_count": 1,
   "metadata": {},
   "outputs": [],
   "source": [
    "# 選択法\n",
    "def selection_sort(li):\n",
    "    for i in range(len(li) - 1):\n",
    "        for j in range(i, len(li)):\n",
    "            if li[i] > li[j]:\n",
    "                tmp = li[i]\n",
    "                li[i] = li[j]\n",
    "                li[j] = tmp\n",
    "\n",
    "    return li\n",
    "\n",
    "# 交換法\n",
    "def bubble_sort(li):\n",
    "    for i in range(len(li) - 1):\n",
    "        for j in range(len(li) - 1, i, -1):\n",
    "            if li[j - 1] > li[j]:\n",
    "                tmp = li[j - 1]\n",
    "                li[j - 1] = li[j]\n",
    "                li[j] = tmp\n",
    "\n",
    "    return li\n",
    "\n",
    "# 挿入法\n",
    "def insertion_sort(li):\n",
    "    new_li = []\n",
    "\n",
    "    for i in range(len(li)):\n",
    "        new_li.append(li[i])\n",
    "\n",
    "        for j in range(i, 0, -1):\n",
    "            if new_li[j - 1] > new_li[j]:\n",
    "                tmp = new_li[j - 1]\n",
    "                new_li[j - 1] = new_li[j]\n",
    "                new_li[j] = tmp\n",
    "            else:\n",
    "                continue\n",
    "\n",
    "    return new_li"
   ]
  },
  {
   "cell_type": "code",
   "execution_count": 2,
   "metadata": {},
   "outputs": [
    {
     "name": "stdout",
     "output_type": "stream",
     "text": [
      "[1, 2, 3, 4, 5]\n"
     ]
    }
   ],
   "source": [
    "li = [4, 2, 3, 5, 1]\n",
    "li = selection_sort(li)  # 実行したいソートの関数名に書き換えること\n",
    "print(li)"
   ]
  },
  {
   "cell_type": "code",
   "execution_count": 3,
   "metadata": {},
   "outputs": [
    {
     "name": "stdout",
     "output_type": "stream",
     "text": [
      "[1, 2, 3, 4, 5]\n"
     ]
    }
   ],
   "source": [
    "li = [4, 2, 3, 5, 1]\n",
    "li = bubble_sort(li)  # 実行したいソートの関数名に書き換えること\n",
    "print(li)"
   ]
  },
  {
   "cell_type": "code",
   "execution_count": 4,
   "metadata": {},
   "outputs": [
    {
     "name": "stdout",
     "output_type": "stream",
     "text": [
      "[1, 2, 3, 4, 5]\n"
     ]
    }
   ],
   "source": [
    "li = [4, 2, 3, 5, 1]\n",
    "li = insertion_sort(li)  # 実行したいソートの関数名に書き換えること\n",
    "print(li)"
   ]
  },
  {
   "cell_type": "code",
   "execution_count": null,
   "metadata": {},
   "outputs": [],
   "source": []
  }
 ],
 "metadata": {
  "kernelspec": {
   "display_name": "Python 3",
   "language": "python",
   "name": "python3"
  },
  "language_info": {
   "codemirror_mode": {
    "name": "ipython",
    "version": 3
   },
   "file_extension": ".py",
   "mimetype": "text/x-python",
   "name": "python",
   "nbconvert_exporter": "python",
   "pygments_lexer": "ipython3",
   "version": "3.8.3"
  }
 },
 "nbformat": 4,
 "nbformat_minor": 4
}
