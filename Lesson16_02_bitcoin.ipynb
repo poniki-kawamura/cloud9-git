{
 "cells": [
  {
   "cell_type": "code",
   "execution_count": 1,
   "metadata": {},
   "outputs": [],
   "source": [
    "import pandas as pd\n",
    "btc_price = pd.read_csv('coindesk-bpi-USD-close_data-2018-06-07_2018-06-27.csv')"
   ]
  },
  {
   "cell_type": "code",
   "execution_count": 2,
   "metadata": {},
   "outputs": [
    {
     "data": {
      "text/html": [
       "<div>\n",
       "<style scoped>\n",
       "    .dataframe tbody tr th:only-of-type {\n",
       "        vertical-align: middle;\n",
       "    }\n",
       "\n",
       "    .dataframe tbody tr th {\n",
       "        vertical-align: top;\n",
       "    }\n",
       "\n",
       "    .dataframe thead th {\n",
       "        text-align: right;\n",
       "    }\n",
       "</style>\n",
       "<table border=\"1\" class=\"dataframe\">\n",
       "  <thead>\n",
       "    <tr style=\"text-align: right;\">\n",
       "      <th></th>\n",
       "      <th>Date</th>\n",
       "      <th>Close Price</th>\n",
       "    </tr>\n",
       "  </thead>\n",
       "  <tbody>\n",
       "    <tr>\n",
       "      <th>0</th>\n",
       "      <td>2018-06-07 00:00:00</td>\n",
       "      <td>7728.02</td>\n",
       "    </tr>\n",
       "    <tr>\n",
       "      <th>1</th>\n",
       "      <td>2018-06-07 01:00:00</td>\n",
       "      <td>7716.99</td>\n",
       "    </tr>\n",
       "    <tr>\n",
       "      <th>2</th>\n",
       "      <td>2018-06-07 02:00:00</td>\n",
       "      <td>7711.21</td>\n",
       "    </tr>\n",
       "    <tr>\n",
       "      <th>3</th>\n",
       "      <td>2018-06-07 03:00:00</td>\n",
       "      <td>7711.37</td>\n",
       "    </tr>\n",
       "    <tr>\n",
       "      <th>4</th>\n",
       "      <td>2018-06-07 04:00:00</td>\n",
       "      <td>7710.40</td>\n",
       "    </tr>\n",
       "  </tbody>\n",
       "</table>\n",
       "</div>"
      ],
      "text/plain": [
       "                  Date  Close Price\n",
       "0  2018-06-07 00:00:00      7728.02\n",
       "1  2018-06-07 01:00:00      7716.99\n",
       "2  2018-06-07 02:00:00      7711.21\n",
       "3  2018-06-07 03:00:00      7711.37\n",
       "4  2018-06-07 04:00:00      7710.40"
      ]
     },
     "execution_count": 2,
     "metadata": {},
     "output_type": "execute_result"
    }
   ],
   "source": [
    "btc_price.head()"
   ]
  },
  {
   "cell_type": "code",
   "execution_count": 3,
   "metadata": {},
   "outputs": [],
   "source": [
    "X = btc_price.loc[0:499, [\"Close Price\"]]\n",
    "y = btc_price.loc[1:500, [\"Close Price\"]]"
   ]
  },
  {
   "cell_type": "code",
   "execution_count": 5,
   "metadata": {},
   "outputs": [
    {
     "data": {
      "text/html": [
       "<div>\n",
       "<style scoped>\n",
       "    .dataframe tbody tr th:only-of-type {\n",
       "        vertical-align: middle;\n",
       "    }\n",
       "\n",
       "    .dataframe tbody tr th {\n",
       "        vertical-align: top;\n",
       "    }\n",
       "\n",
       "    .dataframe thead th {\n",
       "        text-align: right;\n",
       "    }\n",
       "</style>\n",
       "<table border=\"1\" class=\"dataframe\">\n",
       "  <thead>\n",
       "    <tr style=\"text-align: right;\">\n",
       "      <th></th>\n",
       "      <th>Close Price</th>\n",
       "    </tr>\n",
       "  </thead>\n",
       "  <tbody>\n",
       "    <tr>\n",
       "      <th>0</th>\n",
       "      <td>7728.02</td>\n",
       "    </tr>\n",
       "    <tr>\n",
       "      <th>1</th>\n",
       "      <td>7716.99</td>\n",
       "    </tr>\n",
       "    <tr>\n",
       "      <th>2</th>\n",
       "      <td>7711.21</td>\n",
       "    </tr>\n",
       "    <tr>\n",
       "      <th>3</th>\n",
       "      <td>7711.37</td>\n",
       "    </tr>\n",
       "    <tr>\n",
       "      <th>4</th>\n",
       "      <td>7710.40</td>\n",
       "    </tr>\n",
       "  </tbody>\n",
       "</table>\n",
       "</div>"
      ],
      "text/plain": [
       "   Close Price\n",
       "0      7728.02\n",
       "1      7716.99\n",
       "2      7711.21\n",
       "3      7711.37\n",
       "4      7710.40"
      ]
     },
     "execution_count": 5,
     "metadata": {},
     "output_type": "execute_result"
    }
   ],
   "source": [
    "X.head()"
   ]
  },
  {
   "cell_type": "code",
   "execution_count": 6,
   "metadata": {},
   "outputs": [
    {
     "data": {
      "text/html": [
       "<div>\n",
       "<style scoped>\n",
       "    .dataframe tbody tr th:only-of-type {\n",
       "        vertical-align: middle;\n",
       "    }\n",
       "\n",
       "    .dataframe tbody tr th {\n",
       "        vertical-align: top;\n",
       "    }\n",
       "\n",
       "    .dataframe thead th {\n",
       "        text-align: right;\n",
       "    }\n",
       "</style>\n",
       "<table border=\"1\" class=\"dataframe\">\n",
       "  <thead>\n",
       "    <tr style=\"text-align: right;\">\n",
       "      <th></th>\n",
       "      <th>Close Price</th>\n",
       "    </tr>\n",
       "  </thead>\n",
       "  <tbody>\n",
       "    <tr>\n",
       "      <th>1</th>\n",
       "      <td>7716.99</td>\n",
       "    </tr>\n",
       "    <tr>\n",
       "      <th>2</th>\n",
       "      <td>7711.21</td>\n",
       "    </tr>\n",
       "    <tr>\n",
       "      <th>3</th>\n",
       "      <td>7711.37</td>\n",
       "    </tr>\n",
       "    <tr>\n",
       "      <th>4</th>\n",
       "      <td>7710.40</td>\n",
       "    </tr>\n",
       "    <tr>\n",
       "      <th>5</th>\n",
       "      <td>7708.25</td>\n",
       "    </tr>\n",
       "  </tbody>\n",
       "</table>\n",
       "</div>"
      ],
      "text/plain": [
       "   Close Price\n",
       "1      7716.99\n",
       "2      7711.21\n",
       "3      7711.37\n",
       "4      7710.40\n",
       "5      7708.25"
      ]
     },
     "execution_count": 6,
     "metadata": {},
     "output_type": "execute_result"
    }
   ],
   "source": [
    "y.head()"
   ]
  },
  {
   "cell_type": "code",
   "execution_count": 7,
   "metadata": {},
   "outputs": [],
   "source": [
    "import numpy as np\n",
    "X_train = np.array(X[:400])\n",
    "X_test  = np.array(X[400:])\n",
    "y_train = np.array(y[:400])\n",
    "y_test  = np.array(y[400:])"
   ]
  },
  {
   "cell_type": "code",
   "execution_count": 8,
   "metadata": {},
   "outputs": [
    {
     "data": {
      "text/plain": [
       "LinearRegression()"
      ]
     },
     "execution_count": 8,
     "metadata": {},
     "output_type": "execute_result"
    }
   ],
   "source": [
    "from sklearn import linear_model\n",
    "model = linear_model.LinearRegression()\n",
    "model.fit(X_train, y_train)"
   ]
  },
  {
   "cell_type": "code",
   "execution_count": 9,
   "metadata": {},
   "outputs": [],
   "source": [
    "y_pred = model.predict(X_test)"
   ]
  },
  {
   "cell_type": "code",
   "execution_count": 10,
   "metadata": {},
   "outputs": [
    {
     "name": "stdout",
     "output_type": "stream",
     "text": [
      "[[6122.0451564 ]\n",
      " [6140.09481289]\n",
      " [6133.60527174]\n",
      " [6149.12460256]\n",
      " [6135.21277276]\n",
      " [6237.87453529]\n",
      " [6200.83255196]\n",
      " [6170.61748654]\n",
      " [6129.44759936]\n",
      " [6106.89297088]\n",
      " [6117.29211327]\n",
      " [6085.88630634]\n",
      " [5914.4393768 ]\n",
      " [5903.55401497]\n",
      " [5878.0324556 ]\n",
      " [5872.42604773]\n",
      " [5864.28931418]\n",
      " [5885.8119667 ]\n",
      " [5936.07118062]\n",
      " [5920.93884079]\n",
      " [5911.04576354]\n",
      " [5938.50227784]\n",
      " [5922.62572458]\n",
      " [5789.98704491]\n",
      " [6178.85344854]\n",
      " [6190.03649575]\n",
      " [6185.61090652]\n",
      " [6180.90747762]\n",
      " [6188.56791457]\n",
      " [6161.01217181]\n",
      " [6153.56011462]\n",
      " [6150.52372381]\n",
      " [6168.18638932]\n",
      " [6146.28666866]\n",
      " [6133.95257135]\n",
      " [6135.38146114]\n",
      " [6147.28887609]\n",
      " [6148.49946327]\n",
      " [6166.04305463]\n",
      " [6151.55569978]\n",
      " [6158.16431507]\n",
      " [6166.15220593]\n",
      " [6182.06845058]\n",
      " [6227.22732176]\n",
      " [6110.99110619]\n",
      " [6132.9900553 ]\n",
      " [6279.37187638]\n",
      " [6289.01688249]\n",
      " [6274.71806171]\n",
      " [6279.21311085]\n",
      " [6265.4402009 ]\n",
      " [6258.20644632]\n",
      " [6250.28801538]\n",
      " [6262.58242131]\n",
      " [6240.06748421]\n",
      " [6244.55261051]\n",
      " [6202.71789266]\n",
      " [6228.45775464]\n",
      " [6239.0454311 ]\n",
      " [6237.72569261]\n",
      " [6247.27147026]\n",
      " [6246.42802836]\n",
      " [6238.35083189]\n",
      " [6225.32213537]\n",
      " [6218.16776356]\n",
      " [6187.6649356 ]\n",
      " [6224.47869348]\n",
      " [6202.84688966]\n",
      " [6209.41581357]\n",
      " [6178.02985234]\n",
      " [6184.04309689]\n",
      " [6186.54365403]\n",
      " [6184.88653878]\n",
      " [6178.2382321 ]\n",
      " [6169.56566488]\n",
      " [6169.40689935]\n",
      " [6184.10263396]\n",
      " [6223.2482606 ]\n",
      " [6160.09927   ]\n",
      " [6083.35598067]\n",
      " [6095.58092668]\n",
      " [6086.38244863]\n",
      " [6072.77822706]\n",
      " [6042.48377886]\n",
      " [6058.2908722 ]\n",
      " [6076.40998862]\n",
      " [6073.40336634]\n",
      " [6077.67019003]\n",
      " [6076.16191747]\n",
      " [6098.45855196]\n",
      " [6118.91945998]\n",
      " [6096.09691466]\n",
      " [6088.91277431]\n",
      " [6091.70109398]\n",
      " [6046.65137409]\n",
      " [6111.16971741]\n",
      " [6123.16643797]\n",
      " [6122.20392193]\n",
      " [6120.5071153 ]\n",
      " [6144.79824179]]\n"
     ]
    }
   ],
   "source": [
    "print(y_pred)"
   ]
  },
  {
   "cell_type": "code",
   "execution_count": 11,
   "metadata": {},
   "outputs": [
    {
     "name": "stdout",
     "output_type": "stream",
     "text": [
      "[[6139.12]\n",
      " [6132.58]\n",
      " [6148.22]\n",
      " [6134.2 ]\n",
      " [6237.66]\n",
      " [6200.33]\n",
      " [6169.88]\n",
      " [6128.39]\n",
      " [6105.66]\n",
      " [6116.14]\n",
      " [6084.49]\n",
      " [5911.71]\n",
      " [5900.74]\n",
      " [5875.02]\n",
      " [5869.37]\n",
      " [5861.17]\n",
      " [5882.86]\n",
      " [5933.51]\n",
      " [5918.26]\n",
      " [5908.29]\n",
      " [5935.96]\n",
      " [5919.96]\n",
      " [5786.29]\n",
      " [6178.18]\n",
      " [6189.45]\n",
      " [6184.99]\n",
      " [6180.25]\n",
      " [6187.97]\n",
      " [6160.2 ]\n",
      " [6152.69]\n",
      " [6149.63]\n",
      " [6167.43]\n",
      " [6145.36]\n",
      " [6132.93]\n",
      " [6134.37]\n",
      " [6146.37]\n",
      " [6147.59]\n",
      " [6165.27]\n",
      " [6150.67]\n",
      " [6157.33]\n",
      " [6165.38]\n",
      " [6181.42]\n",
      " [6226.93]\n",
      " [6109.79]\n",
      " [6131.96]\n",
      " [6279.48]\n",
      " [6289.2 ]\n",
      " [6274.79]\n",
      " [6279.32]\n",
      " [6265.44]\n",
      " [6258.15]\n",
      " [6250.17]\n",
      " [6262.56]\n",
      " [6239.87]\n",
      " [6244.39]\n",
      " [6202.23]\n",
      " [6228.17]\n",
      " [6238.84]\n",
      " [6237.51]\n",
      " [6247.13]\n",
      " [6246.28]\n",
      " [6238.14]\n",
      " [6225.01]\n",
      " [6217.8 ]\n",
      " [6187.06]\n",
      " [6224.16]\n",
      " [6202.36]\n",
      " [6208.98]\n",
      " [6177.35]\n",
      " [6183.41]\n",
      " [6185.93]\n",
      " [6184.26]\n",
      " [6177.56]\n",
      " [6168.82]\n",
      " [6168.66]\n",
      " [6183.47]\n",
      " [6222.92]\n",
      " [6159.28]\n",
      " [6081.94]\n",
      " [6094.26]\n",
      " [6084.99]\n",
      " [6071.28]\n",
      " [6040.75]\n",
      " [6056.68]\n",
      " [6074.94]\n",
      " [6071.91]\n",
      " [6076.21]\n",
      " [6074.69]\n",
      " [6097.16]\n",
      " [6117.78]\n",
      " [6094.78]\n",
      " [6087.54]\n",
      " [6090.35]\n",
      " [6044.95]\n",
      " [6109.97]\n",
      " [6122.06]\n",
      " [6121.09]\n",
      " [6119.38]\n",
      " [6143.86]\n",
      " [6127.15]]\n"
     ]
    }
   ],
   "source": [
    "print(y_test)"
   ]
  },
  {
   "cell_type": "code",
   "execution_count": 12,
   "metadata": {},
   "outputs": [
    {
     "data": {
      "text/plain": [
       "<matplotlib.legend.Legend at 0x7f2f77a13f70>"
      ]
     },
     "execution_count": 12,
     "metadata": {},
     "output_type": "execute_result"
    },
    {
     "data": {
      "image/png": "[encoded data removed]",
      "text/plain": [
       "<Figure size 432x288 with 1 Axes>"
      ]
     },
     "metadata": {
      "needs_background": "light"
     },
     "output_type": "display_data"
    }
   ],
   "source": [
    "%matplotlib inline\n",
    "import matplotlib.pyplot as plt\n",
    "plt.plot(range(0,100), y_test, label='Actual price', color='blue')\n",
    "plt.plot(range(0,100), y_pred, label='Predicted price', color='red')\n",
    "plt.xlabel('Hours')\n",
    "plt.ylabel('Price ($)')\n",
    "plt.title('Bitcoin Price')\n",
    "plt.grid(True)\n",
    "plt.legend(loc = \"upper left\")"
   ]
  },
  {
   "cell_type": "code",
   "execution_count": null,
   "metadata": {},
   "outputs": [],
   "source": []
  }
 ],
 "metadata": {
  "kernelspec": {
   "display_name": "Python 3",
   "language": "python",
   "name": "python3"
  },
  "language_info": {
   "codemirror_mode": {
    "name": "ipython",
    "version": 3
   },
   "file_extension": ".py",
   "mimetype": "text/x-python",
   "name": "python",
   "nbconvert_exporter": "python",
   "pygments_lexer": "ipython3",
   "version": "3.8.3"
  }
 },
 "nbformat": 4,
 "nbformat_minor": 4
}
